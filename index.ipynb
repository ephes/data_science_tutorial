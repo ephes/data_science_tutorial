{
 "cells": [
  {
   "cell_type": "markdown",
   "id": "acc1b97c-56a3-456e-868a-7170f2c9d348",
   "metadata": {},
   "source": [
    "![Cover image for a Data Science / Machine Learning Course or Meetup](images/tutorial_cover.png)"
   ]
  },
  {
   "cell_type": "markdown",
   "id": "3654a19b-402e-4a04-9420-37f7814b9232",
   "metadata": {},
   "source": [
    "# Data Science Tutorial"
   ]
  },
  {
   "cell_type": "markdown",
   "id": "128d7909-ca6d-4d74-be11-54f2a892934b",
   "metadata": {},
   "source": [
    "This tutorial covers topics that are relevant or interesting for me for some kind of reason 😄. Have fun!\n",
    "\n",
    "> 🚧 At the moment this tutorial is **under construction** 🚧.\n",
    "> It will stay in that state for quite some time, but I will add new tutorials one by one. So it might be a good idea to check periodically for updates."
   ]
  },
  {
   "cell_type": "markdown",
   "id": "c2d3def6-7796-40be-933c-9e35e8f8f7d4",
   "metadata": {},
   "source": [
    "# Text Classification\n",
    "\n",
    "Maybe let's start by doing some [text classification](text_classification.ipynb) ([open in google colab](https://colab.research.google.com/github/ephes/data_science_tutorial/blob/main/text_classification.ipynb)).\n",
    "\n",
    "Is it possible to link directly to [word frequency distribution](text_classification.ipynb#Word-frequency-distribution)?"
   ]
  },
  {
   "cell_type": "markdown",
   "id": "d11c9fdb-3f42-425a-8461-064e4c40c836",
   "metadata": {},
   "source": [
    "# Foundations\n",
    "\n",
    "🏗 I added the notebooks below already because they should work, but they are also still very much work in progress. 👷"
   ]
  },
  {
   "cell_type": "markdown",
   "id": "a3880d14-a3f1-4bc9-bd04-f97978964f6a",
   "metadata": {},
   "source": [
    "## Numpy\n",
    "\n",
    "Numpy is the basis of a lot of stuff in related to data science in Python. Here's an [overview covering the base features](numpy.ipynb) ([open in google colab](https://colab.research.google.com/github/ephes/data_science_tutorial/blob/main/numpy.ipynb))."
   ]
  },
  {
   "cell_type": "markdown",
   "id": "e01d00e7-6eea-4122-bc5c-7b4d7c26348d",
   "metadata": {},
   "source": [
    "## Pandas\n",
    "\n",
    "Pandas is very useful - [basic feature overview](pandas.ipynb) ([open in google colab](https://colab.research.google.com/github/ephes/data_science_tutorial/blob/main/pandas.ipynb))."
   ]
  }
 ],
 "metadata": {
  "kernelspec": {
   "display_name": "python3",
   "language": "python",
   "name": "python3"
  }
 },
 "nbformat": 4,
 "nbformat_minor": 5
}
