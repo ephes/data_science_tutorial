{
 "cells": [
  {
   "cell_type": "markdown",
   "id": "3654a19b-402e-4a04-9420-37f7814b9232",
   "metadata": {},
   "source": [
    "# Data Science Tutorial\n",
    "\n",
    "This tutorial covers topics that are relevant or interesting for me for some kind of reason 😄. Have fun!"
   ]
  },
  {
   "cell_type": "markdown",
   "id": "a3880d14-a3f1-4bc9-bd04-f97978964f6a",
   "metadata": {},
   "source": [
    "## Numpy\n",
    "\n",
    "Numpy is the basis of a lot of stuff in related to data science in Python. Here's an [overview covering the base features](numpy.ipynb)."
   ]
  },
  {
   "cell_type": "markdown",
   "id": "e01d00e7-6eea-4122-bc5c-7b4d7c26348d",
   "metadata": {},
   "source": [
    "## Pandas"
   ]
  },
  {
   "cell_type": "code",
   "execution_count": null,
   "id": "19f2ba78-6e10-40ea-988f-808bca245562",
   "metadata": {},
   "outputs": [],
   "source": []
  }
 ],
 "metadata": {
  "kernelspec": {
   "display_name": "python3",
   "language": "python",
   "name": "python3"
  }
 },
 "nbformat": 4,
 "nbformat_minor": 5
}
