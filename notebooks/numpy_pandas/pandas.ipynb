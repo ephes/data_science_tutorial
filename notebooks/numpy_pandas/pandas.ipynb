{
 "cells": [
  {
   "cell_type": "code",
   "execution_count": 1,
   "metadata": {
    "tags": []
   },
   "outputs": [],
   "source": [
    "%config InlineBackend.figure_format = 'retina'"
   ]
  },
  {
   "cell_type": "markdown",
   "metadata": {},
   "source": [
    "# Pandas Tutorial\n",
    "\n",
    "\n",
    "Weiterführende Dokumentation:\n",
    "\n",
    "* [Cheat Sheet](https://github.com/pandas-dev/pandas/blob/master/doc/cheatsheet/Pandas_Cheat_Sheet.pdf)\n",
    "* [Dreiteiliges Tutorial von Greg Reda](http://gregreda.com/2013/10/26/intro-to-pandas-data-structures/)\n",
    "* [Python for Data Analysis](http://shop.oreilly.com/product/0636920023784.do)\n",
    "* [Offizielle Pandas Dokumentation](http://pandas.pydata.org/pandas-docs/stable/)\n",
    "* [Python Data Science Handbook](http://shop.oreilly.com/product/0636920034919.do)\n",
    "\n",
    "Für Fortgeschrittene:\n",
    "\n",
    "* [Modern Pandas](https://tomaugspurger.github.io/modern-1-intro)"
   ]
  },
  {
   "cell_type": "code",
   "execution_count": 2,
   "metadata": {
    "tags": []
   },
   "outputs": [],
   "source": [
    "import numpy as np\n",
    "import pandas as pd\n",
    "\n",
    "\n",
    "import matplotlib.pyplot as plt\n",
    "\n",
    "pd.options.display.max_columns = 50\n",
    "%matplotlib inline"
   ]
  },
  {
   "cell_type": "markdown",
   "metadata": {},
   "source": [
    "# Series\n",
    "\n",
    "Series sind eindimensionale Objekte wie Listen, Numpy Arrays oder Tabellenspalten. Jede Series hat einen Index, über den Elemente gefunden werden können. Defaultmässig ist das ein Integer von 0 bis n-1."
   ]
  },
  {
   "cell_type": "code",
   "execution_count": 3,
   "metadata": {
    "tags": []
   },
   "outputs": [],
   "source": [
    "values = [3, \"foo\", 3.14, 42, -23, \"bar\"]"
   ]
  },
  {
   "cell_type": "code",
   "execution_count": 4,
   "metadata": {
    "tags": []
   },
   "outputs": [],
   "source": [
    "s = pd.Series(values)"
   ]
  },
  {
   "cell_type": "code",
   "execution_count": 5,
   "metadata": {
    "tags": []
   },
   "outputs": [
    {
     "name": "stdout",
     "output_type": "stream",
     "text": [
      "0       3\n",
      "1     foo\n",
      "2    3.14\n",
      "3      42\n",
      "4     -23\n",
      "5     bar\n",
      "dtype: object\n"
     ]
    }
   ],
   "source": [
    "print(s)"
   ]
  },
  {
   "cell_type": "code",
   "execution_count": 6,
   "metadata": {
    "tags": []
   },
   "outputs": [
    {
     "data": {
      "text/plain": [
       "42"
      ]
     },
     "execution_count": 6,
     "metadata": {},
     "output_type": "execute_result"
    }
   ],
   "source": [
    "s[3]"
   ]
  },
  {
   "cell_type": "code",
   "execution_count": 7,
   "metadata": {
    "tags": []
   },
   "outputs": [],
   "source": [
    "index = [\"a\", \"b\", \"c\", \"d\", \"e\", \"f\"]"
   ]
  },
  {
   "cell_type": "code",
   "execution_count": 8,
   "metadata": {
    "tags": []
   },
   "outputs": [],
   "source": [
    "s = pd.Series(values, index=index)"
   ]
  },
  {
   "cell_type": "code",
   "execution_count": 9,
   "metadata": {
    "tags": []
   },
   "outputs": [
    {
     "data": {
      "text/plain": [
       "a       3\n",
       "b     foo\n",
       "c    3.14\n",
       "d      42\n",
       "e     -23\n",
       "f     bar\n",
       "dtype: object"
      ]
     },
     "execution_count": 9,
     "metadata": {},
     "output_type": "execute_result"
    }
   ],
   "source": [
    "s"
   ]
  },
  {
   "cell_type": "code",
   "execution_count": 10,
   "metadata": {
    "tags": []
   },
   "outputs": [
    {
     "data": {
      "text/plain": [
       "42"
      ]
     },
     "execution_count": 10,
     "metadata": {},
     "output_type": "execute_result"
    }
   ],
   "source": [
    "s[\"d\"]"
   ]
  },
  {
   "cell_type": "code",
   "execution_count": 11,
   "metadata": {
    "tags": []
   },
   "outputs": [
    {
     "data": {
      "text/plain": [
       "a       3\n",
       "b     foo\n",
       "c    3.14\n",
       "dtype: object"
      ]
     },
     "execution_count": 11,
     "metadata": {},
     "output_type": "execute_result"
    }
   ],
   "source": [
    "s[[\"a\", \"b\", \"c\"]]"
   ]
  },
  {
   "cell_type": "code",
   "execution_count": 12,
   "metadata": {
    "tags": []
   },
   "outputs": [
    {
     "data": {
      "text/plain": [
       "16    6\n",
       "17    7\n",
       "18    8\n",
       "19    9\n",
       "dtype: int64"
      ]
     },
     "execution_count": 12,
     "metadata": {},
     "output_type": "execute_result"
    }
   ],
   "source": [
    "s = pd.Series(np.arange(10), index=np.arange(10, 20))\n",
    "s[s > 5]"
   ]
  },
  {
   "cell_type": "markdown",
   "metadata": {},
   "source": [
    "# DataFrames\n",
    "\n",
    "Sind zweidimensionale Datenstrukturen ähnlich wie Tabellen oder Excel-Sheets. Im Grunde eine Sammlung von Series."
   ]
  },
  {
   "cell_type": "code",
   "execution_count": 13,
   "metadata": {
    "tags": []
   },
   "outputs": [],
   "source": [
    "cities_url = \"https://de.wikipedia.org/wiki/Liste_der_gr%C3%B6%C3%9Ften_St%C3%A4dte_Europas\"\n",
    "tables = pd.read_html(cities_url, header=0, flavor=\"bs4\")"
   ]
  },
  {
   "cell_type": "code",
   "execution_count": 14,
   "metadata": {
    "tags": []
   },
   "outputs": [],
   "source": [
    "df = tables[0]"
   ]
  },
  {
   "cell_type": "code",
   "execution_count": 15,
   "metadata": {
    "tags": []
   },
   "outputs": [
    {
     "data": {
      "text/html": [
       "<div>\n",
       "<style scoped>\n",
       "    .dataframe tbody tr th:only-of-type {\n",
       "        vertical-align: middle;\n",
       "    }\n",
       "\n",
       "    .dataframe tbody tr th {\n",
       "        vertical-align: top;\n",
       "    }\n",
       "\n",
       "    .dataframe thead th {\n",
       "        text-align: right;\n",
       "    }\n",
       "</style>\n",
       "<table border=\"1\" class=\"dataframe\">\n",
       "  <thead>\n",
       "    <tr style=\"text-align: right;\">\n",
       "      <th></th>\n",
       "      <th>Unnamed: 0</th>\n",
       "      <th>Name</th>\n",
       "      <th>Staat</th>\n",
       "      <th>Ein­wohner</th>\n",
       "      <th>Stand</th>\n",
       "      <th>Quelle</th>\n",
       "      <th>Panorama</th>\n",
       "    </tr>\n",
       "  </thead>\n",
       "  <tbody>\n",
       "    <tr>\n",
       "      <th>0</th>\n",
       "      <td>1</td>\n",
       "      <td>Istanbul</td>\n",
       "      <td>Türkei[1]</td>\n",
       "      <td>15.907.951 [2]</td>\n",
       "      <td>31. Dez. 2022</td>\n",
       "      <td>TÜİK[3]</td>\n",
       "      <td>NaN</td>\n",
       "    </tr>\n",
       "    <tr>\n",
       "      <th>1</th>\n",
       "      <td>2</td>\n",
       "      <td>Moskau</td>\n",
       "      <td>Russland[1]</td>\n",
       "      <td>12.455.682</td>\n",
       "      <td>1. Jan. 2021</td>\n",
       "      <td>Rosstat[4]</td>\n",
       "      <td>NaN</td>\n",
       "    </tr>\n",
       "    <tr>\n",
       "      <th>2</th>\n",
       "      <td>3</td>\n",
       "      <td>London</td>\n",
       "      <td>Vereinigtes Königreich</td>\n",
       "      <td>8.799.900</td>\n",
       "      <td>21. März 2021</td>\n",
       "      <td>ONS[5]</td>\n",
       "      <td>NaN</td>\n",
       "    </tr>\n",
       "    <tr>\n",
       "      <th>3</th>\n",
       "      <td>4</td>\n",
       "      <td>Sankt Petersburg</td>\n",
       "      <td>Russland</td>\n",
       "      <td>5.384.342</td>\n",
       "      <td>1. Jan. 2021</td>\n",
       "      <td>Rosstat[4]</td>\n",
       "      <td>NaN</td>\n",
       "    </tr>\n",
       "    <tr>\n",
       "      <th>4</th>\n",
       "      <td>5</td>\n",
       "      <td>Berlin</td>\n",
       "      <td>Deutschland</td>\n",
       "      <td>3.755.251</td>\n",
       "      <td>31. Dez. 2022</td>\n",
       "      <td>AfS[6]</td>\n",
       "      <td>NaN</td>\n",
       "    </tr>\n",
       "  </tbody>\n",
       "</table>\n",
       "</div>"
      ],
      "text/plain": [
       "   Unnamed: 0              Name                   Staat      Ein­wohner  \\\n",
       "0           1          Istanbul               Türkei[1]  15.907.951 [2]   \n",
       "1           2            Moskau             Russland[1]      12.455.682   \n",
       "2           3            London  Vereinigtes Königreich       8.799.900   \n",
       "3           4  Sankt Petersburg                Russland       5.384.342   \n",
       "4           5            Berlin             Deutschland       3.755.251   \n",
       "\n",
       "           Stand      Quelle Panorama  \n",
       "0  31. Dez. 2022     TÜİK[3]      NaN  \n",
       "1   1. Jan. 2021  Rosstat[4]      NaN  \n",
       "2  21. März 2021      ONS[5]      NaN  \n",
       "3   1. Jan. 2021  Rosstat[4]      NaN  \n",
       "4  31. Dez. 2022      AfS[6]      NaN  "
      ]
     },
     "execution_count": 15,
     "metadata": {},
     "output_type": "execute_result"
    }
   ],
   "source": [
    "df.head()"
   ]
  },
  {
   "cell_type": "code",
   "execution_count": 18,
   "metadata": {
    "tags": []
   },
   "outputs": [
    {
     "name": "stdout",
     "output_type": "stream",
     "text": [
      "<class 'pandas.core.frame.DataFrame'>\n",
      "RangeIndex: 103 entries, 0 to 102\n",
      "Data columns (total 7 columns):\n",
      " #   Column      Non-Null Count  Dtype \n",
      "---  ------      --------------  ----- \n",
      " 0   Unnamed: 0  103 non-null    int64 \n",
      " 1   Name        103 non-null    object\n",
      " 2   Staat       103 non-null    object\n",
      " 3   Ein­wohner  103 non-null    object\n",
      " 4   Stand       103 non-null    object\n",
      " 5   Quelle      103 non-null    object\n",
      " 6   Panorama    1 non-null      object\n",
      "dtypes: int64(1), object(6)\n",
      "memory usage: 5.8+ KB\n"
     ]
    }
   ],
   "source": [
    "df.info()"
   ]
  },
  {
   "cell_type": "code",
   "execution_count": 19,
   "metadata": {
    "tags": []
   },
   "outputs": [
    {
     "data": {
      "text/plain": [
       "Index          132\n",
       "Unnamed: 0     824\n",
       "Name          6857\n",
       "Staat         7128\n",
       "Ein­wohner    6664\n",
       "Stand         9617\n",
       "Quelle        6821\n",
       "Panorama      3323\n",
       "dtype: int64"
      ]
     },
     "execution_count": 19,
     "metadata": {},
     "output_type": "execute_result"
    }
   ],
   "source": [
    "df.memory_usage(deep=True)"
   ]
  },
  {
   "cell_type": "markdown",
   "metadata": {},
   "source": [
    "## Method Chaining"
   ]
  },
  {
   "cell_type": "code",
   "execution_count": 22,
   "metadata": {
    "tags": []
   },
   "outputs": [],
   "source": [
    "def time_to_datetime(df, colname):\n",
    "    def reformat_date(date_str):\n",
    "        return (date_str.replace(\"\\xa0\", \"\")\n",
    "                        .replace(\"Okt\", \"Oct\")\n",
    "                        .replace(\"Dez\", \"Dec\")\n",
    "                        .replace(\"i2\", \".2\")\n",
    "                        .strip()\n",
    "                        .replace(\" \", \"\"))\n",
    "    \n",
    "    df[colname] = pd.to_datetime(df[colname].apply(reformat_date), format=\"%d.%b.%Y\")\n",
    "    return df"
   ]
  },
  {
   "cell_type": "code",
   "execution_count": 23,
   "metadata": {
    "tags": []
   },
   "outputs": [
    {
     "ename": "ValueError",
     "evalue": "time data \"21.März2021\" doesn't match format \"%d.%b.%Y\", at position 2. You might want to try:\n    - passing `format` if your strings have a consistent format;\n    - passing `format='ISO8601'` if your strings are all ISO8601 but not necessarily in exactly the same format;\n    - passing `format='mixed'`, and the format will be inferred for each element individually. You might want to use `dayfirst` alongside this.",
     "output_type": "error",
     "traceback": [
      "\u001b[0;31m---------------------------------------------------------------------------\u001b[0m",
      "\u001b[0;31mValueError\u001b[0m                                Traceback (most recent call last)",
      "Cell \u001b[0;32mIn[23], line 2\u001b[0m\n\u001b[1;32m      1\u001b[0m df \u001b[38;5;241m=\u001b[39m (df\u001b[38;5;241m.\u001b[39mrename(columns\u001b[38;5;241m=\u001b[39m\u001b[38;5;28mstr\u001b[39m\u001b[38;5;241m.\u001b[39mlower)\n\u001b[0;32m----> 2\u001b[0m         \u001b[38;5;241m.\u001b[39mpipe(time_to_datetime, \u001b[38;5;124m\"\u001b[39m\u001b[38;5;124mstand\u001b[39m\u001b[38;5;124m\"\u001b[39m)\n\u001b[1;32m      3\u001b[0m         \u001b[38;5;241m.\u001b[39massign(staat\u001b[38;5;241m=\u001b[39m\u001b[38;5;28;01mlambda\u001b[39;00m x: pd\u001b[38;5;241m.\u001b[39mCategorical(x[\u001b[38;5;124m'\u001b[39m\u001b[38;5;124mstaat\u001b[39m\u001b[38;5;124m'\u001b[39m]),\n\u001b[1;32m      4\u001b[0m                 einwohner\u001b[38;5;241m=\u001b[39m\u001b[38;5;28;01mlambda\u001b[39;00m x: x[\u001b[38;5;124m\"\u001b[39m\u001b[38;5;124meinwohner\u001b[39m\u001b[38;5;124m\"\u001b[39m]\u001b[38;5;241m.\u001b[39mstr\u001b[38;5;241m.\u001b[39mreplace(\u001b[38;5;124m\"\u001b[39m\u001b[38;5;124m.\u001b[39m\u001b[38;5;124m\"\u001b[39m, \u001b[38;5;124m\"\u001b[39m\u001b[38;5;124m\"\u001b[39m)\u001b[38;5;241m.\u001b[39mastype(np\u001b[38;5;241m.\u001b[39mint32),\n\u001b[1;32m      5\u001b[0m                 rang\u001b[38;5;241m=\u001b[39m\u001b[38;5;28;01mlambda\u001b[39;00m x: x[\u001b[38;5;124m\"\u001b[39m\u001b[38;5;124mrang\u001b[39m\u001b[38;5;124m\"\u001b[39m]\u001b[38;5;241m.\u001b[39mastype(np\u001b[38;5;241m.\u001b[39mint8),\n\u001b[1;32m      6\u001b[0m                 pro_km2\u001b[38;5;241m=\u001b[39m\u001b[38;5;28;01mlambda\u001b[39;00m x: x[\u001b[38;5;124m\"\u001b[39m\u001b[38;5;124mpanorama\u001b[39m\u001b[38;5;124m\"\u001b[39m]\u001b[38;5;241m.\u001b[39mstr\u001b[38;5;241m.\u001b[39mextract(\u001b[38;5;124m\"\u001b[39m\u001b[38;5;124m(\u001b[39m\u001b[38;5;124m\\\u001b[39m\u001b[38;5;124md+\u001b[39m\u001b[38;5;124m\\\u001b[39m\u001b[38;5;124m.\u001b[39m\u001b[38;5;124m\\\u001b[39m\u001b[38;5;124md+) E[a-z]*./km\u001b[39m\u001b[38;5;124m\"\u001b[39m)\u001b[38;5;241m.\u001b[39mastype(np\u001b[38;5;241m.\u001b[39mfloat32))\n\u001b[1;32m      7\u001b[0m         \u001b[38;5;241m.\u001b[39mdrop(\u001b[38;5;124m\"\u001b[39m\u001b[38;5;124mquelle\u001b[39m\u001b[38;5;124m\"\u001b[39m, axis\u001b[38;5;241m=\u001b[39m\u001b[38;5;241m1\u001b[39m)\n\u001b[1;32m      8\u001b[0m         \u001b[38;5;241m.\u001b[39mdrop(\u001b[38;5;124m\"\u001b[39m\u001b[38;5;124mpanorama\u001b[39m\u001b[38;5;124m\"\u001b[39m, axis\u001b[38;5;241m=\u001b[39m\u001b[38;5;241m1\u001b[39m))\n",
      "File \u001b[0;32m~/.pyenv/versions/miniconda3-latest/envs/ds_tutorial/lib/python3.11/site-packages/pandas/core/generic.py:6142\u001b[0m, in \u001b[0;36mNDFrame.pipe\u001b[0;34m(self, func, *args, **kwargs)\u001b[0m\n\u001b[1;32m   6140\u001b[0m \u001b[38;5;28;01mif\u001b[39;00m using_copy_on_write():\n\u001b[1;32m   6141\u001b[0m     \u001b[38;5;28;01mreturn\u001b[39;00m common\u001b[38;5;241m.\u001b[39mpipe(\u001b[38;5;28mself\u001b[39m\u001b[38;5;241m.\u001b[39mcopy(deep\u001b[38;5;241m=\u001b[39m\u001b[38;5;28;01mNone\u001b[39;00m), func, \u001b[38;5;241m*\u001b[39margs, \u001b[38;5;241m*\u001b[39m\u001b[38;5;241m*\u001b[39mkwargs)\n\u001b[0;32m-> 6142\u001b[0m \u001b[38;5;28;01mreturn\u001b[39;00m common\u001b[38;5;241m.\u001b[39mpipe(\u001b[38;5;28mself\u001b[39m, func, \u001b[38;5;241m*\u001b[39margs, \u001b[38;5;241m*\u001b[39m\u001b[38;5;241m*\u001b[39mkwargs)\n",
      "File \u001b[0;32m~/.pyenv/versions/miniconda3-latest/envs/ds_tutorial/lib/python3.11/site-packages/pandas/core/common.py:497\u001b[0m, in \u001b[0;36mpipe\u001b[0;34m(obj, func, *args, **kwargs)\u001b[0m\n\u001b[1;32m    495\u001b[0m     \u001b[38;5;28;01mreturn\u001b[39;00m func(\u001b[38;5;241m*\u001b[39margs, \u001b[38;5;241m*\u001b[39m\u001b[38;5;241m*\u001b[39mkwargs)\n\u001b[1;32m    496\u001b[0m \u001b[38;5;28;01melse\u001b[39;00m:\n\u001b[0;32m--> 497\u001b[0m     \u001b[38;5;28;01mreturn\u001b[39;00m func(obj, \u001b[38;5;241m*\u001b[39margs, \u001b[38;5;241m*\u001b[39m\u001b[38;5;241m*\u001b[39mkwargs)\n",
      "Cell \u001b[0;32mIn[22], line 10\u001b[0m, in \u001b[0;36mtime_to_datetime\u001b[0;34m(df, colname)\u001b[0m\n\u001b[1;32m      2\u001b[0m \u001b[38;5;28;01mdef\u001b[39;00m \u001b[38;5;21mreformat_date\u001b[39m(date_str):\n\u001b[1;32m      3\u001b[0m     \u001b[38;5;28;01mreturn\u001b[39;00m (date_str\u001b[38;5;241m.\u001b[39mreplace(\u001b[38;5;124m\"\u001b[39m\u001b[38;5;130;01m\\xa0\u001b[39;00m\u001b[38;5;124m\"\u001b[39m, \u001b[38;5;124m\"\u001b[39m\u001b[38;5;124m\"\u001b[39m)\n\u001b[1;32m      4\u001b[0m                     \u001b[38;5;241m.\u001b[39mreplace(\u001b[38;5;124m\"\u001b[39m\u001b[38;5;124mOkt\u001b[39m\u001b[38;5;124m\"\u001b[39m, \u001b[38;5;124m\"\u001b[39m\u001b[38;5;124mOct\u001b[39m\u001b[38;5;124m\"\u001b[39m)\n\u001b[1;32m      5\u001b[0m                     \u001b[38;5;241m.\u001b[39mreplace(\u001b[38;5;124m\"\u001b[39m\u001b[38;5;124mDez\u001b[39m\u001b[38;5;124m\"\u001b[39m, \u001b[38;5;124m\"\u001b[39m\u001b[38;5;124mDec\u001b[39m\u001b[38;5;124m\"\u001b[39m)\n\u001b[1;32m      6\u001b[0m                     \u001b[38;5;241m.\u001b[39mreplace(\u001b[38;5;124m\"\u001b[39m\u001b[38;5;124mi2\u001b[39m\u001b[38;5;124m\"\u001b[39m, \u001b[38;5;124m\"\u001b[39m\u001b[38;5;124m.2\u001b[39m\u001b[38;5;124m\"\u001b[39m)\n\u001b[1;32m      7\u001b[0m                     \u001b[38;5;241m.\u001b[39mstrip()\n\u001b[1;32m      8\u001b[0m                     \u001b[38;5;241m.\u001b[39mreplace(\u001b[38;5;124m\"\u001b[39m\u001b[38;5;124m \u001b[39m\u001b[38;5;124m\"\u001b[39m, \u001b[38;5;124m\"\u001b[39m\u001b[38;5;124m\"\u001b[39m))\n\u001b[0;32m---> 10\u001b[0m df[colname] \u001b[38;5;241m=\u001b[39m pd\u001b[38;5;241m.\u001b[39mto_datetime(df[colname]\u001b[38;5;241m.\u001b[39mapply(reformat_date), \u001b[38;5;28mformat\u001b[39m\u001b[38;5;241m=\u001b[39m\u001b[38;5;124m\"\u001b[39m\u001b[38;5;132;01m%d\u001b[39;00m\u001b[38;5;124m.\u001b[39m\u001b[38;5;124m%\u001b[39m\u001b[38;5;124mb.\u001b[39m\u001b[38;5;124m%\u001b[39m\u001b[38;5;124mY\u001b[39m\u001b[38;5;124m\"\u001b[39m)\n\u001b[1;32m     11\u001b[0m \u001b[38;5;28;01mreturn\u001b[39;00m df\n",
      "File \u001b[0;32m~/.pyenv/versions/miniconda3-latest/envs/ds_tutorial/lib/python3.11/site-packages/pandas/core/tools/datetimes.py:1108\u001b[0m, in \u001b[0;36mto_datetime\u001b[0;34m(arg, errors, dayfirst, yearfirst, utc, format, exact, unit, infer_datetime_format, origin, cache)\u001b[0m\n\u001b[1;32m   1106\u001b[0m             result \u001b[38;5;241m=\u001b[39m arg\u001b[38;5;241m.\u001b[39mtz_localize(\u001b[38;5;124m\"\u001b[39m\u001b[38;5;124mutc\u001b[39m\u001b[38;5;124m\"\u001b[39m)\n\u001b[1;32m   1107\u001b[0m \u001b[38;5;28;01melif\u001b[39;00m \u001b[38;5;28misinstance\u001b[39m(arg, ABCSeries):\n\u001b[0;32m-> 1108\u001b[0m     cache_array \u001b[38;5;241m=\u001b[39m _maybe_cache(arg, \u001b[38;5;28mformat\u001b[39m, cache, convert_listlike)\n\u001b[1;32m   1109\u001b[0m     \u001b[38;5;28;01mif\u001b[39;00m \u001b[38;5;129;01mnot\u001b[39;00m cache_array\u001b[38;5;241m.\u001b[39mempty:\n\u001b[1;32m   1110\u001b[0m         result \u001b[38;5;241m=\u001b[39m arg\u001b[38;5;241m.\u001b[39mmap(cache_array)\n",
      "File \u001b[0;32m~/.pyenv/versions/miniconda3-latest/envs/ds_tutorial/lib/python3.11/site-packages/pandas/core/tools/datetimes.py:254\u001b[0m, in \u001b[0;36m_maybe_cache\u001b[0;34m(arg, format, cache, convert_listlike)\u001b[0m\n\u001b[1;32m    252\u001b[0m unique_dates \u001b[38;5;241m=\u001b[39m unique(arg)\n\u001b[1;32m    253\u001b[0m \u001b[38;5;28;01mif\u001b[39;00m \u001b[38;5;28mlen\u001b[39m(unique_dates) \u001b[38;5;241m<\u001b[39m \u001b[38;5;28mlen\u001b[39m(arg):\n\u001b[0;32m--> 254\u001b[0m     cache_dates \u001b[38;5;241m=\u001b[39m convert_listlike(unique_dates, \u001b[38;5;28mformat\u001b[39m)\n\u001b[1;32m    255\u001b[0m     \u001b[38;5;66;03m# GH#45319\u001b[39;00m\n\u001b[1;32m    256\u001b[0m     \u001b[38;5;28;01mtry\u001b[39;00m:\n",
      "File \u001b[0;32m~/.pyenv/versions/miniconda3-latest/envs/ds_tutorial/lib/python3.11/site-packages/pandas/core/tools/datetimes.py:488\u001b[0m, in \u001b[0;36m_convert_listlike_datetimes\u001b[0;34m(arg, format, name, utc, unit, errors, dayfirst, yearfirst, exact)\u001b[0m\n\u001b[1;32m    486\u001b[0m \u001b[38;5;66;03m# `format` could be inferred, or user didn't ask for mixed-format parsing.\u001b[39;00m\n\u001b[1;32m    487\u001b[0m \u001b[38;5;28;01mif\u001b[39;00m \u001b[38;5;28mformat\u001b[39m \u001b[38;5;129;01mis\u001b[39;00m \u001b[38;5;129;01mnot\u001b[39;00m \u001b[38;5;28;01mNone\u001b[39;00m \u001b[38;5;129;01mand\u001b[39;00m \u001b[38;5;28mformat\u001b[39m \u001b[38;5;241m!=\u001b[39m \u001b[38;5;124m\"\u001b[39m\u001b[38;5;124mmixed\u001b[39m\u001b[38;5;124m\"\u001b[39m:\n\u001b[0;32m--> 488\u001b[0m     \u001b[38;5;28;01mreturn\u001b[39;00m _array_strptime_with_fallback(arg, name, utc, \u001b[38;5;28mformat\u001b[39m, exact, errors)\n\u001b[1;32m    490\u001b[0m result, tz_parsed \u001b[38;5;241m=\u001b[39m objects_to_datetime64ns(\n\u001b[1;32m    491\u001b[0m     arg,\n\u001b[1;32m    492\u001b[0m     dayfirst\u001b[38;5;241m=\u001b[39mdayfirst,\n\u001b[0;32m   (...)\u001b[0m\n\u001b[1;32m    496\u001b[0m     allow_object\u001b[38;5;241m=\u001b[39m\u001b[38;5;28;01mTrue\u001b[39;00m,\n\u001b[1;32m    497\u001b[0m )\n\u001b[1;32m    499\u001b[0m \u001b[38;5;28;01mif\u001b[39;00m tz_parsed \u001b[38;5;129;01mis\u001b[39;00m \u001b[38;5;129;01mnot\u001b[39;00m \u001b[38;5;28;01mNone\u001b[39;00m:\n\u001b[1;32m    500\u001b[0m     \u001b[38;5;66;03m# We can take a shortcut since the datetime64 numpy array\u001b[39;00m\n\u001b[1;32m    501\u001b[0m     \u001b[38;5;66;03m# is in UTC\u001b[39;00m\n",
      "File \u001b[0;32m~/.pyenv/versions/miniconda3-latest/envs/ds_tutorial/lib/python3.11/site-packages/pandas/core/tools/datetimes.py:519\u001b[0m, in \u001b[0;36m_array_strptime_with_fallback\u001b[0;34m(arg, name, utc, fmt, exact, errors)\u001b[0m\n\u001b[1;32m    508\u001b[0m \u001b[38;5;28;01mdef\u001b[39;00m \u001b[38;5;21m_array_strptime_with_fallback\u001b[39m(\n\u001b[1;32m    509\u001b[0m     arg,\n\u001b[1;32m    510\u001b[0m     name,\n\u001b[0;32m   (...)\u001b[0m\n\u001b[1;32m    514\u001b[0m     errors: \u001b[38;5;28mstr\u001b[39m,\n\u001b[1;32m    515\u001b[0m ) \u001b[38;5;241m-\u001b[39m\u001b[38;5;241m>\u001b[39m Index:\n\u001b[1;32m    516\u001b[0m \u001b[38;5;250m    \u001b[39m\u001b[38;5;124;03m\"\"\"\u001b[39;00m\n\u001b[1;32m    517\u001b[0m \u001b[38;5;124;03m    Call array_strptime, with fallback behavior depending on 'errors'.\u001b[39;00m\n\u001b[1;32m    518\u001b[0m \u001b[38;5;124;03m    \"\"\"\u001b[39;00m\n\u001b[0;32m--> 519\u001b[0m     result, timezones \u001b[38;5;241m=\u001b[39m array_strptime(arg, fmt, exact\u001b[38;5;241m=\u001b[39mexact, errors\u001b[38;5;241m=\u001b[39merrors, utc\u001b[38;5;241m=\u001b[39mutc)\n\u001b[1;32m    520\u001b[0m     \u001b[38;5;28;01mif\u001b[39;00m \u001b[38;5;28many\u001b[39m(tz \u001b[38;5;129;01mis\u001b[39;00m \u001b[38;5;129;01mnot\u001b[39;00m \u001b[38;5;28;01mNone\u001b[39;00m \u001b[38;5;28;01mfor\u001b[39;00m tz \u001b[38;5;129;01min\u001b[39;00m timezones):\n\u001b[1;32m    521\u001b[0m         \u001b[38;5;28;01mreturn\u001b[39;00m _return_parsed_timezone_results(result, timezones, utc, name)\n",
      "File \u001b[0;32mstrptime.pyx:534\u001b[0m, in \u001b[0;36mpandas._libs.tslibs.strptime.array_strptime\u001b[0;34m()\u001b[0m\n",
      "File \u001b[0;32mstrptime.pyx:355\u001b[0m, in \u001b[0;36mpandas._libs.tslibs.strptime.array_strptime\u001b[0;34m()\u001b[0m\n",
      "\u001b[0;31mValueError\u001b[0m: time data \"21.März2021\" doesn't match format \"%d.%b.%Y\", at position 2. You might want to try:\n    - passing `format` if your strings have a consistent format;\n    - passing `format='ISO8601'` if your strings are all ISO8601 but not necessarily in exactly the same format;\n    - passing `format='mixed'`, and the format will be inferred for each element individually. You might want to use `dayfirst` alongside this."
     ]
    }
   ],
   "source": [
    "df = (df.rename(columns=str.lower)\n",
    "        .pipe(time_to_datetime, \"stand\")\n",
    "        .assign(staat=lambda x: pd.Categorical(x['staat']),\n",
    "                einwohner=lambda x: x[\"einwohner\"].str.replace(\".\", \"\").astype(np.int32),\n",
    "                rang=lambda x: x[\"rang\"].astype(np.int8),\n",
    "                pro_km2=lambda x: x[\"panorama\"].str.extract(\"(\\d+\\.\\d+) E[a-z]*./km\").astype(np.float32))\n",
    "        .drop(\"quelle\", axis=1)\n",
    "        .drop(\"panorama\", axis=1))"
   ]
  },
  {
   "cell_type": "code",
   "execution_count": 81,
   "metadata": {},
   "outputs": [
    {
     "name": "stdout",
     "output_type": "stream",
     "text": [
      "<class 'pandas.core.frame.DataFrame'>\n",
      "RangeIndex: 101 entries, 0 to 100\n",
      "Data columns (total 6 columns):\n",
      "rang         101 non-null int8\n",
      "name         101 non-null object\n",
      "einwohner    101 non-null int32\n",
      "stand        101 non-null datetime64[ns]\n",
      "staat        101 non-null category\n",
      "pro_km2      43 non-null float32\n",
      "dtypes: category(1), datetime64[ns](1), float32(1), int32(1), int8(1), object(1)\n",
      "memory usage: 4.1+ KB\n"
     ]
    }
   ],
   "source": [
    "df.info()"
   ]
  },
  {
   "cell_type": "code",
   "execution_count": 82,
   "metadata": {},
   "outputs": [
    {
     "data": {
      "text/html": [
       "<div>\n",
       "<style scoped>\n",
       "    .dataframe tbody tr th:only-of-type {\n",
       "        vertical-align: middle;\n",
       "    }\n",
       "\n",
       "    .dataframe tbody tr th {\n",
       "        vertical-align: top;\n",
       "    }\n",
       "\n",
       "    .dataframe thead th {\n",
       "        text-align: right;\n",
       "    }\n",
       "</style>\n",
       "<table border=\"1\" class=\"dataframe\">\n",
       "  <thead>\n",
       "    <tr style=\"text-align: right;\">\n",
       "      <th></th>\n",
       "      <th>rang</th>\n",
       "      <th>name</th>\n",
       "      <th>einwohner</th>\n",
       "      <th>stand</th>\n",
       "      <th>staat</th>\n",
       "      <th>pro_km2</th>\n",
       "    </tr>\n",
       "  </thead>\n",
       "  <tbody>\n",
       "    <tr>\n",
       "      <th>0</th>\n",
       "      <td>1</td>\n",
       "      <td>Istanbul</td>\n",
       "      <td>14804116</td>\n",
       "      <td>2017-01-31</td>\n",
       "      <td>Türkei</td>\n",
       "      <td>2.767</td>\n",
       "    </tr>\n",
       "    <tr>\n",
       "      <th>1</th>\n",
       "      <td>2</td>\n",
       "      <td>Moskau</td>\n",
       "      <td>12228685</td>\n",
       "      <td>2017-07-01</td>\n",
       "      <td>Russland</td>\n",
       "      <td>4.802</td>\n",
       "    </tr>\n",
       "    <tr>\n",
       "      <th>2</th>\n",
       "      <td>3</td>\n",
       "      <td>London</td>\n",
       "      <td>8825001</td>\n",
       "      <td>2017-06-30</td>\n",
       "      <td>Vereinigtes Königreich</td>\n",
       "      <td>2.925</td>\n",
       "    </tr>\n",
       "    <tr>\n",
       "      <th>3</th>\n",
       "      <td>4</td>\n",
       "      <td>Sankt Petersburg</td>\n",
       "      <td>5281579</td>\n",
       "      <td>2017-07-01</td>\n",
       "      <td>Russland</td>\n",
       "      <td>3.628</td>\n",
       "    </tr>\n",
       "    <tr>\n",
       "      <th>4</th>\n",
       "      <td>5</td>\n",
       "      <td>Berlin</td>\n",
       "      <td>3611222</td>\n",
       "      <td>2017-11-30</td>\n",
       "      <td>Deutschland</td>\n",
       "      <td>3.829</td>\n",
       "    </tr>\n",
       "  </tbody>\n",
       "</table>\n",
       "</div>"
      ],
      "text/plain": [
       "   rang              name  einwohner      stand                   staat  \\\n",
       "0     1          Istanbul   14804116 2017-01-31                  Türkei   \n",
       "1     2            Moskau   12228685 2017-07-01                Russland   \n",
       "2     3            London    8825001 2017-06-30  Vereinigtes Königreich   \n",
       "3     4  Sankt Petersburg    5281579 2017-07-01                Russland   \n",
       "4     5            Berlin    3611222 2017-11-30             Deutschland   \n",
       "\n",
       "   pro_km2  \n",
       "0    2.767  \n",
       "1    4.802  \n",
       "2    2.925  \n",
       "3    3.628  \n",
       "4    3.829  "
      ]
     },
     "execution_count": 82,
     "metadata": {},
     "output_type": "execute_result"
    }
   ],
   "source": [
    "df.head()"
   ]
  },
  {
   "cell_type": "code",
   "execution_count": 83,
   "metadata": {},
   "outputs": [
    {
     "data": {
      "text/html": [
       "<div>\n",
       "<style scoped>\n",
       "    .dataframe tbody tr th:only-of-type {\n",
       "        vertical-align: middle;\n",
       "    }\n",
       "\n",
       "    .dataframe tbody tr th {\n",
       "        vertical-align: top;\n",
       "    }\n",
       "\n",
       "    .dataframe thead th {\n",
       "        text-align: right;\n",
       "    }\n",
       "</style>\n",
       "<table border=\"1\" class=\"dataframe\">\n",
       "  <thead>\n",
       "    <tr style=\"text-align: right;\">\n",
       "      <th></th>\n",
       "      <th>rang</th>\n",
       "      <th>name</th>\n",
       "      <th>einwohner</th>\n",
       "      <th>stand</th>\n",
       "      <th>staat</th>\n",
       "      <th>pro_km2</th>\n",
       "    </tr>\n",
       "  </thead>\n",
       "  <tbody>\n",
       "    <tr>\n",
       "      <th>8</th>\n",
       "      <td>9</td>\n",
       "      <td>Paris</td>\n",
       "      <td>2206488</td>\n",
       "      <td>2015-01-01</td>\n",
       "      <td>Frankreich</td>\n",
       "      <td>21.153999</td>\n",
       "    </tr>\n",
       "    <tr>\n",
       "      <th>56</th>\n",
       "      <td>57</td>\n",
       "      <td>Athen</td>\n",
       "      <td>664046</td>\n",
       "      <td>2011-04-09</td>\n",
       "      <td>Griechenland</td>\n",
       "      <td>17.042999</td>\n",
       "    </tr>\n",
       "    <tr>\n",
       "      <th>15</th>\n",
       "      <td>16</td>\n",
       "      <td>Barcelona</td>\n",
       "      <td>1620809</td>\n",
       "      <td>2017-01-01</td>\n",
       "      <td>Spanien</td>\n",
       "      <td>16.045000</td>\n",
       "    </tr>\n",
       "    <tr>\n",
       "      <th>12</th>\n",
       "      <td>13</td>\n",
       "      <td>Bukarest</td>\n",
       "      <td>1826506</td>\n",
       "      <td>2017-01-01</td>\n",
       "      <td>Rumänien</td>\n",
       "      <td>8.261000</td>\n",
       "    </tr>\n",
       "    <tr>\n",
       "      <th>34</th>\n",
       "      <td>35</td>\n",
       "      <td>Neapel</td>\n",
       "      <td>966646</td>\n",
       "      <td>2017-10-31</td>\n",
       "      <td>Italien</td>\n",
       "      <td>8.178000</td>\n",
       "    </tr>\n",
       "  </tbody>\n",
       "</table>\n",
       "</div>"
      ],
      "text/plain": [
       "    rang       name  einwohner      stand         staat    pro_km2\n",
       "8      9      Paris    2206488 2015-01-01    Frankreich  21.153999\n",
       "56    57      Athen     664046 2011-04-09  Griechenland  17.042999\n",
       "15    16  Barcelona    1620809 2017-01-01       Spanien  16.045000\n",
       "12    13   Bukarest    1826506 2017-01-01      Rumänien   8.261000\n",
       "34    35     Neapel     966646 2017-10-31       Italien   8.178000"
      ]
     },
     "execution_count": 83,
     "metadata": {},
     "output_type": "execute_result"
    }
   ],
   "source": [
    "df.sort_values(by=\"pro_km2\", ascending=False).head()"
   ]
  },
  {
   "cell_type": "markdown",
   "metadata": {},
   "source": [
    "## Indices"
   ]
  },
  {
   "cell_type": "markdown",
   "metadata": {},
   "source": [
    "### Einfach"
   ]
  },
  {
   "cell_type": "code",
   "execution_count": 86,
   "metadata": {},
   "outputs": [],
   "source": [
    "ds = df.set_index(\"rang\")"
   ]
  },
  {
   "cell_type": "code",
   "execution_count": 88,
   "metadata": {},
   "outputs": [
    {
     "data": {
      "text/html": [
       "<div>\n",
       "<style scoped>\n",
       "    .dataframe tbody tr th:only-of-type {\n",
       "        vertical-align: middle;\n",
       "    }\n",
       "\n",
       "    .dataframe tbody tr th {\n",
       "        vertical-align: top;\n",
       "    }\n",
       "\n",
       "    .dataframe thead th {\n",
       "        text-align: right;\n",
       "    }\n",
       "</style>\n",
       "<table border=\"1\" class=\"dataframe\">\n",
       "  <thead>\n",
       "    <tr style=\"text-align: right;\">\n",
       "      <th></th>\n",
       "      <th>einwohner</th>\n",
       "      <th>stand</th>\n",
       "      <th>staat</th>\n",
       "    </tr>\n",
       "    <tr>\n",
       "      <th>rang</th>\n",
       "      <th></th>\n",
       "      <th></th>\n",
       "      <th></th>\n",
       "    </tr>\n",
       "  </thead>\n",
       "  <tbody>\n",
       "    <tr>\n",
       "      <th>2</th>\n",
       "      <td>12228685</td>\n",
       "      <td>2017-07-01</td>\n",
       "      <td>Russland</td>\n",
       "    </tr>\n",
       "    <tr>\n",
       "      <th>3</th>\n",
       "      <td>8825001</td>\n",
       "      <td>2017-06-30</td>\n",
       "      <td>Vereinigtes Königreich</td>\n",
       "    </tr>\n",
       "    <tr>\n",
       "      <th>4</th>\n",
       "      <td>5281579</td>\n",
       "      <td>2017-07-01</td>\n",
       "      <td>Russland</td>\n",
       "    </tr>\n",
       "    <tr>\n",
       "      <th>5</th>\n",
       "      <td>3611222</td>\n",
       "      <td>2017-11-30</td>\n",
       "      <td>Deutschland</td>\n",
       "    </tr>\n",
       "  </tbody>\n",
       "</table>\n",
       "</div>"
      ],
      "text/plain": [
       "      einwohner      stand                   staat\n",
       "rang                                              \n",
       "2      12228685 2017-07-01                Russland\n",
       "3       8825001 2017-06-30  Vereinigtes Königreich\n",
       "4       5281579 2017-07-01                Russland\n",
       "5       3611222 2017-11-30             Deutschland"
      ]
     },
     "execution_count": 88,
     "metadata": {},
     "output_type": "execute_result"
    }
   ],
   "source": [
    "ds.loc[2:5, \"einwohner\": \"staat\"].head()"
   ]
  },
  {
   "cell_type": "code",
   "execution_count": 92,
   "metadata": {},
   "outputs": [
    {
     "data": {
      "text/html": [
       "<div>\n",
       "<style scoped>\n",
       "    .dataframe tbody tr th:only-of-type {\n",
       "        vertical-align: middle;\n",
       "    }\n",
       "\n",
       "    .dataframe tbody tr th {\n",
       "        vertical-align: top;\n",
       "    }\n",
       "\n",
       "    .dataframe thead th {\n",
       "        text-align: right;\n",
       "    }\n",
       "</style>\n",
       "<table border=\"1\" class=\"dataframe\">\n",
       "  <thead>\n",
       "    <tr style=\"text-align: right;\">\n",
       "      <th></th>\n",
       "      <th>einwohner</th>\n",
       "      <th>stand</th>\n",
       "      <th>staat</th>\n",
       "    </tr>\n",
       "    <tr>\n",
       "      <th>rang</th>\n",
       "      <th></th>\n",
       "      <th></th>\n",
       "      <th></th>\n",
       "    </tr>\n",
       "  </thead>\n",
       "  <tbody>\n",
       "    <tr>\n",
       "      <th>9</th>\n",
       "      <td>2206488</td>\n",
       "      <td>2015-01-01</td>\n",
       "      <td>Frankreich</td>\n",
       "    </tr>\n",
       "    <tr>\n",
       "      <th>13</th>\n",
       "      <td>1826506</td>\n",
       "      <td>2017-01-01</td>\n",
       "      <td>Rumänien</td>\n",
       "    </tr>\n",
       "  </tbody>\n",
       "</table>\n",
       "</div>"
      ],
      "text/plain": [
       "      einwohner      stand       staat\n",
       "rang                                  \n",
       "9       2206488 2015-01-01  Frankreich\n",
       "13      1826506 2017-01-01    Rumänien"
      ]
     },
     "execution_count": 92,
     "metadata": {},
     "output_type": "execute_result"
    }
   ],
   "source": [
    "ds.loc[ds.name.isin((\"Paris\", \"Bukarest\")), \"einwohner\": \"staat\"].head()"
   ]
  },
  {
   "cell_type": "markdown",
   "metadata": {},
   "source": [
    "### Mehrdimensional"
   ]
  },
  {
   "cell_type": "code",
   "execution_count": 95,
   "metadata": {},
   "outputs": [
    {
     "data": {
      "text/html": [
       "<div>\n",
       "<style scoped>\n",
       "    .dataframe tbody tr th:only-of-type {\n",
       "        vertical-align: middle;\n",
       "    }\n",
       "\n",
       "    .dataframe tbody tr th {\n",
       "        vertical-align: top;\n",
       "    }\n",
       "\n",
       "    .dataframe thead th {\n",
       "        text-align: right;\n",
       "    }\n",
       "</style>\n",
       "<table border=\"1\" class=\"dataframe\">\n",
       "  <thead>\n",
       "    <tr style=\"text-align: right;\">\n",
       "      <th></th>\n",
       "      <th>rang</th>\n",
       "      <th>name</th>\n",
       "      <th>einwohner</th>\n",
       "      <th>stand</th>\n",
       "      <th>staat</th>\n",
       "      <th>pro_km2</th>\n",
       "    </tr>\n",
       "  </thead>\n",
       "  <tbody>\n",
       "    <tr>\n",
       "      <th>0</th>\n",
       "      <td>1</td>\n",
       "      <td>Istanbul</td>\n",
       "      <td>14804116</td>\n",
       "      <td>2017-01-31</td>\n",
       "      <td>Türkei</td>\n",
       "      <td>2.767</td>\n",
       "    </tr>\n",
       "    <tr>\n",
       "      <th>1</th>\n",
       "      <td>2</td>\n",
       "      <td>Moskau</td>\n",
       "      <td>12228685</td>\n",
       "      <td>2017-07-01</td>\n",
       "      <td>Russland</td>\n",
       "      <td>4.802</td>\n",
       "    </tr>\n",
       "    <tr>\n",
       "      <th>2</th>\n",
       "      <td>3</td>\n",
       "      <td>London</td>\n",
       "      <td>8825001</td>\n",
       "      <td>2017-06-30</td>\n",
       "      <td>Vereinigtes Königreich</td>\n",
       "      <td>2.925</td>\n",
       "    </tr>\n",
       "    <tr>\n",
       "      <th>3</th>\n",
       "      <td>4</td>\n",
       "      <td>Sankt Petersburg</td>\n",
       "      <td>5281579</td>\n",
       "      <td>2017-07-01</td>\n",
       "      <td>Russland</td>\n",
       "      <td>3.628</td>\n",
       "    </tr>\n",
       "    <tr>\n",
       "      <th>4</th>\n",
       "      <td>5</td>\n",
       "      <td>Berlin</td>\n",
       "      <td>3611222</td>\n",
       "      <td>2017-11-30</td>\n",
       "      <td>Deutschland</td>\n",
       "      <td>3.829</td>\n",
       "    </tr>\n",
       "  </tbody>\n",
       "</table>\n",
       "</div>"
      ],
      "text/plain": [
       "   rang              name  einwohner      stand                   staat  \\\n",
       "0     1          Istanbul   14804116 2017-01-31                  Türkei   \n",
       "1     2            Moskau   12228685 2017-07-01                Russland   \n",
       "2     3            London    8825001 2017-06-30  Vereinigtes Königreich   \n",
       "3     4  Sankt Petersburg    5281579 2017-07-01                Russland   \n",
       "4     5            Berlin    3611222 2017-11-30             Deutschland   \n",
       "\n",
       "   pro_km2  \n",
       "0    2.767  \n",
       "1    4.802  \n",
       "2    2.925  \n",
       "3    3.628  \n",
       "4    3.829  "
      ]
     },
     "execution_count": 95,
     "metadata": {},
     "output_type": "execute_result"
    }
   ],
   "source": [
    "df.head()"
   ]
  },
  {
   "cell_type": "code",
   "execution_count": 102,
   "metadata": {
    "scrolled": true
   },
   "outputs": [],
   "source": [
    "ds = df.set_index([\"staat\", \"stand\", \"rang\"]).sort_index()"
   ]
  },
  {
   "cell_type": "code",
   "execution_count": 122,
   "metadata": {},
   "outputs": [
    {
     "data": {
      "text/html": [
       "<div>\n",
       "<style scoped>\n",
       "    .dataframe tbody tr th:only-of-type {\n",
       "        vertical-align: middle;\n",
       "    }\n",
       "\n",
       "    .dataframe tbody tr th {\n",
       "        vertical-align: top;\n",
       "    }\n",
       "\n",
       "    .dataframe thead th {\n",
       "        text-align: right;\n",
       "    }\n",
       "</style>\n",
       "<table border=\"1\" class=\"dataframe\">\n",
       "  <thead>\n",
       "    <tr style=\"text-align: right;\">\n",
       "      <th></th>\n",
       "      <th></th>\n",
       "      <th></th>\n",
       "      <th>name</th>\n",
       "      <th>einwohner</th>\n",
       "      <th>pro_km2</th>\n",
       "    </tr>\n",
       "    <tr>\n",
       "      <th>staat</th>\n",
       "      <th>stand</th>\n",
       "      <th>rang</th>\n",
       "      <th></th>\n",
       "      <th></th>\n",
       "      <th></th>\n",
       "    </tr>\n",
       "  </thead>\n",
       "  <tbody>\n",
       "    <tr>\n",
       "      <th rowspan=\"14\" valign=\"top\">Deutschland</th>\n",
       "      <th>2016-12-31</th>\n",
       "      <th>77</th>\n",
       "      <td>Bremen</td>\n",
       "      <td>565719</td>\n",
       "      <td>1.738</td>\n",
       "    </tr>\n",
       "    <tr>\n",
       "      <th rowspan=\"4\" valign=\"top\">2017-06-30</th>\n",
       "      <th>29</th>\n",
       "      <td>Köln</td>\n",
       "      <td>1077611</td>\n",
       "      <td>2.619</td>\n",
       "    </tr>\n",
       "    <tr>\n",
       "      <th>67</th>\n",
       "      <td>Düsseldorf</td>\n",
       "      <td>614839</td>\n",
       "      <td>2.816</td>\n",
       "    </tr>\n",
       "    <tr>\n",
       "      <th>71</th>\n",
       "      <td>Dortmund</td>\n",
       "      <td>585535</td>\n",
       "      <td>2.088</td>\n",
       "    </tr>\n",
       "    <tr>\n",
       "      <th>72</th>\n",
       "      <td>Essen</td>\n",
       "      <td>582659</td>\n",
       "      <td>2.770</td>\n",
       "    </tr>\n",
       "    <tr>\n",
       "      <th rowspan=\"7\" valign=\"top\">2017-09-30</th>\n",
       "      <th>17</th>\n",
       "      <td>München</td>\n",
       "      <td>1457576</td>\n",
       "      <td>4.743</td>\n",
       "    </tr>\n",
       "    <tr>\n",
       "      <th>48</th>\n",
       "      <td>Frankfurt am Main</td>\n",
       "      <td>745136</td>\n",
       "      <td>2.894</td>\n",
       "    </tr>\n",
       "    <tr>\n",
       "      <th>64</th>\n",
       "      <td>Stuttgart</td>\n",
       "      <td>631015</td>\n",
       "      <td>2.914</td>\n",
       "    </tr>\n",
       "    <tr>\n",
       "      <th>74</th>\n",
       "      <td>Leipzig</td>\n",
       "      <td>578004</td>\n",
       "      <td>1.831</td>\n",
       "    </tr>\n",
       "    <tr>\n",
       "      <th>82</th>\n",
       "      <td>Dresden</td>\n",
       "      <td>548834</td>\n",
       "      <td>1.634</td>\n",
       "    </tr>\n",
       "    <tr>\n",
       "      <th>90</th>\n",
       "      <td>Hannover</td>\n",
       "      <td>532825</td>\n",
       "      <td>2.610</td>\n",
       "    </tr>\n",
       "    <tr>\n",
       "      <th>96</th>\n",
       "      <td>Nürnberg</td>\n",
       "      <td>514473</td>\n",
       "      <td>2.725</td>\n",
       "    </tr>\n",
       "    <tr>\n",
       "      <th rowspan=\"2\" valign=\"top\">2017-11-30</th>\n",
       "      <th>5</th>\n",
       "      <td>Berlin</td>\n",
       "      <td>3611222</td>\n",
       "      <td>3.829</td>\n",
       "    </tr>\n",
       "    <tr>\n",
       "      <th>12</th>\n",
       "      <td>Hamburg</td>\n",
       "      <td>1830669</td>\n",
       "      <td>2.335</td>\n",
       "    </tr>\n",
       "  </tbody>\n",
       "</table>\n",
       "</div>"
      ],
      "text/plain": [
       "                                          name  einwohner  pro_km2\n",
       "staat       stand      rang                                       \n",
       "Deutschland 2016-12-31 77               Bremen     565719    1.738\n",
       "            2017-06-30 29                 Köln    1077611    2.619\n",
       "                       67           Düsseldorf     614839    2.816\n",
       "                       71             Dortmund     585535    2.088\n",
       "                       72                Essen     582659    2.770\n",
       "            2017-09-30 17              München    1457576    4.743\n",
       "                       48    Frankfurt am Main     745136    2.894\n",
       "                       64            Stuttgart     631015    2.914\n",
       "                       74              Leipzig     578004    1.831\n",
       "                       82              Dresden     548834    1.634\n",
       "                       90             Hannover     532825    2.610\n",
       "                       96             Nürnberg     514473    2.725\n",
       "            2017-11-30 5                Berlin    3611222    3.829\n",
       "                       12              Hamburg    1830669    2.335"
      ]
     },
     "execution_count": 122,
     "metadata": {},
     "output_type": "execute_result"
    }
   ],
   "source": [
    "ds.loc[\"Deutschland\",:,:]"
   ]
  },
  {
   "cell_type": "code",
   "execution_count": 113,
   "metadata": {},
   "outputs": [
    {
     "data": {
      "text/html": [
       "<div>\n",
       "<style scoped>\n",
       "    .dataframe tbody tr th:only-of-type {\n",
       "        vertical-align: middle;\n",
       "    }\n",
       "\n",
       "    .dataframe tbody tr th {\n",
       "        vertical-align: top;\n",
       "    }\n",
       "\n",
       "    .dataframe thead th {\n",
       "        text-align: right;\n",
       "    }\n",
       "</style>\n",
       "<table border=\"1\" class=\"dataframe\">\n",
       "  <thead>\n",
       "    <tr style=\"text-align: right;\">\n",
       "      <th></th>\n",
       "      <th></th>\n",
       "      <th></th>\n",
       "      <th>name</th>\n",
       "      <th>einwohner</th>\n",
       "      <th>pro_km2</th>\n",
       "    </tr>\n",
       "    <tr>\n",
       "      <th>staat</th>\n",
       "      <th>stand</th>\n",
       "      <th>rang</th>\n",
       "      <th></th>\n",
       "      <th></th>\n",
       "      <th></th>\n",
       "    </tr>\n",
       "  </thead>\n",
       "  <tbody>\n",
       "    <tr>\n",
       "      <th rowspan=\"3\" valign=\"top\">Deutschland</th>\n",
       "      <th rowspan=\"2\" valign=\"top\">2017-09-30</th>\n",
       "      <th>90</th>\n",
       "      <td>Hannover</td>\n",
       "      <td>532825</td>\n",
       "      <td>2.610</td>\n",
       "    </tr>\n",
       "    <tr>\n",
       "      <th>96</th>\n",
       "      <td>Nürnberg</td>\n",
       "      <td>514473</td>\n",
       "      <td>2.725</td>\n",
       "    </tr>\n",
       "    <tr>\n",
       "      <th>2017-11-30</th>\n",
       "      <th>5</th>\n",
       "      <td>Berlin</td>\n",
       "      <td>3611222</td>\n",
       "      <td>3.829</td>\n",
       "    </tr>\n",
       "  </tbody>\n",
       "</table>\n",
       "</div>"
      ],
      "text/plain": [
       "                                 name  einwohner  pro_km2\n",
       "staat       stand      rang                              \n",
       "Deutschland 2017-09-30 90    Hannover     532825    2.610\n",
       "                       96    Nürnberg     514473    2.725\n",
       "            2017-11-30 5       Berlin    3611222    3.829"
      ]
     },
     "execution_count": 113,
     "metadata": {},
     "output_type": "execute_result"
    }
   ],
   "source": [
    "ds.loc[\"Deutschland\", \"2017-09-30\":\"2017-11-30\", [5, 90, 96]]"
   ]
  },
  {
   "cell_type": "markdown",
   "metadata": {},
   "source": [
    "## Einfache Plots"
   ]
  },
  {
   "cell_type": "code",
   "execution_count": 23,
   "metadata": {},
   "outputs": [],
   "source": [
    "size = (10, 5)"
   ]
  },
  {
   "cell_type": "code",
   "execution_count": 24,
   "metadata": {},
   "outputs": [
    {
     "data": {
      "image/png": "[encoded data removed]",
      "text/plain": [
       "<Figure size 720x360 with 1 Axes>"
      ]
     },
     "metadata": {
      "image/png": {
       "height": 304,
       "width": 603
      }
     },
     "output_type": "display_data"
    }
   ],
   "source": [
    "ax = df.pro_km2.hist(figsize=size)"
   ]
  },
  {
   "cell_type": "code",
   "execution_count": 25,
   "metadata": {},
   "outputs": [
    {
     "data": {
      "image/png": "[encoded data removed]",
      "text/plain": [
       "<Figure size 720x360 with 1 Axes>"
      ]
     },
     "metadata": {
      "image/png": {
       "height": 326,
       "width": 597
      }
     },
     "output_type": "display_data"
    }
   ],
   "source": [
    "ax = df.plot(x=\"name\", y=\"einwohner\", figsize=size)\n",
    "_ = ax.set_xticklabels(df.name)"
   ]
  },
  {
   "cell_type": "code",
   "execution_count": 26,
   "metadata": {},
   "outputs": [
    {
     "data": {
      "image/png": "[encoded data removed]",
      "text/plain": [
       "<Figure size 720x360 with 1 Axes>"
      ]
     },
     "metadata": {
      "image/png": {
       "height": 327,
       "width": 610
      }
     },
     "output_type": "display_data"
    }
   ],
   "source": [
    "ax = df.plot.scatter(x=\"pro_km2\", y=\"einwohner\", figsize=size)"
   ]
  },
  {
   "cell_type": "markdown",
   "metadata": {},
   "source": [
    "## Gruppieren"
   ]
  },
  {
   "cell_type": "code",
   "execution_count": 45,
   "metadata": {},
   "outputs": [
    {
     "data": {
      "text/html": [
       "<div>\n",
       "<style scoped>\n",
       "    .dataframe tbody tr th:only-of-type {\n",
       "        vertical-align: middle;\n",
       "    }\n",
       "\n",
       "    .dataframe tbody tr th {\n",
       "        vertical-align: top;\n",
       "    }\n",
       "\n",
       "    .dataframe thead th {\n",
       "        text-align: right;\n",
       "    }\n",
       "</style>\n",
       "<table border=\"1\" class=\"dataframe\">\n",
       "  <thead>\n",
       "    <tr style=\"text-align: right;\">\n",
       "      <th></th>\n",
       "      <th>staat</th>\n",
       "      <th>einwohner</th>\n",
       "      <th>städte</th>\n",
       "    </tr>\n",
       "  </thead>\n",
       "  <tbody>\n",
       "    <tr>\n",
       "      <th>20</th>\n",
       "      <td>Russland</td>\n",
       "      <td>35126970</td>\n",
       "      <td>24</td>\n",
       "    </tr>\n",
       "    <tr>\n",
       "      <th>3</th>\n",
       "      <td>Deutschland</td>\n",
       "      <td>13876117</td>\n",
       "      <td>14</td>\n",
       "    </tr>\n",
       "    <tr>\n",
       "      <th>28</th>\n",
       "      <td>Vereinigtes Königreich</td>\n",
       "      <td>13539290</td>\n",
       "      <td>8</td>\n",
       "    </tr>\n",
       "    <tr>\n",
       "      <th>26</th>\n",
       "      <td>Ukraine</td>\n",
       "      <td>9394252</td>\n",
       "      <td>8</td>\n",
       "    </tr>\n",
       "    <tr>\n",
       "      <th>9</th>\n",
       "      <td>Italien</td>\n",
       "      <td>7339318</td>\n",
       "      <td>6</td>\n",
       "    </tr>\n",
       "    <tr>\n",
       "      <th>23</th>\n",
       "      <td>Spanien</td>\n",
       "      <td>7514972</td>\n",
       "      <td>6</td>\n",
       "    </tr>\n",
       "    <tr>\n",
       "      <th>17</th>\n",
       "      <td>Polen</td>\n",
       "      <td>4399604</td>\n",
       "      <td>5</td>\n",
       "    </tr>\n",
       "    <tr>\n",
       "      <th>15</th>\n",
       "      <td>Niederlande</td>\n",
       "      <td>2026582</td>\n",
       "      <td>3</td>\n",
       "    </tr>\n",
       "    <tr>\n",
       "      <th>6</th>\n",
       "      <td>Frankreich</td>\n",
       "      <td>3581398</td>\n",
       "      <td>3</td>\n",
       "    </tr>\n",
       "    <tr>\n",
       "      <th>21</th>\n",
       "      <td>Schweden</td>\n",
       "      <td>1513800</td>\n",
       "      <td>2</td>\n",
       "    </tr>\n",
       "    <tr>\n",
       "      <th>29</th>\n",
       "      <td>Weißrussland</td>\n",
       "      <td>2518137</td>\n",
       "      <td>2</td>\n",
       "    </tr>\n",
       "    <tr>\n",
       "      <th>19</th>\n",
       "      <td>Rumänien</td>\n",
       "      <td>1826506</td>\n",
       "      <td>1</td>\n",
       "    </tr>\n",
       "  </tbody>\n",
       "</table>\n",
       "</div>"
      ],
      "text/plain": [
       "                     staat  einwohner  städte\n",
       "20                Russland   35126970      24\n",
       "3              Deutschland   13876117      14\n",
       "28  Vereinigtes Königreich   13539290       8\n",
       "26                 Ukraine    9394252       8\n",
       "9                  Italien    7339318       6\n",
       "23                 Spanien    7514972       6\n",
       "17                   Polen    4399604       5\n",
       "15             Niederlande    2026582       3\n",
       "6               Frankreich    3581398       3\n",
       "21                Schweden    1513800       2\n",
       "29            Weißrussland    2518137       2\n",
       "19                Rumänien    1826506       1"
      ]
     },
     "execution_count": 45,
     "metadata": {},
     "output_type": "execute_result"
    }
   ],
   "source": [
    "dt = (df[[\"staat\", \"einwohner\", \"name\"]]\n",
    "      .groupby(\"staat\")\n",
    "      .agg({\"einwohner\": \"sum\", \"name\": \"count\"})\n",
    "      .rename(columns={\"name\": \"städte\"})\n",
    "      .reset_index()\n",
    "      .sort_values(by=\"städte\", ascending=False)\n",
    "      .head(12))\n",
    "dt"
   ]
  },
  {
   "cell_type": "markdown",
   "metadata": {},
   "source": [
    "## Wie oft kommen welche Werte in einer Spalte vor?"
   ]
  },
  {
   "cell_type": "code",
   "execution_count": 46,
   "metadata": {},
   "outputs": [
    {
     "data": {
      "text/plain": [
       "8     2\n",
       "6     2\n",
       "3     2\n",
       "2     2\n",
       "14    1\n",
       "24    1\n",
       "5     1\n",
       "1     1\n",
       "Name: städte, dtype: int64"
      ]
     },
     "execution_count": 46,
     "metadata": {},
     "output_type": "execute_result"
    }
   ],
   "source": [
    "dt.städte.value_counts()"
   ]
  },
  {
   "cell_type": "markdown",
   "metadata": {},
   "source": [
    "## Mal die Einwohner pro Land holen"
   ]
  },
  {
   "cell_type": "code",
   "execution_count": 48,
   "metadata": {},
   "outputs": [],
   "source": [
    "countries_url = \"https://de.wikipedia.org/wiki/Liste_von_Staaten_und_Territorien_nach_Bev%C3%B6lkerungsentwicklung\"\n",
    "tables = pd.read_html(countries_url, header=0, flavor=\"bs4\", decimal=\",\", thousands=\".\")"
   ]
  },
  {
   "cell_type": "code",
   "execution_count": 49,
   "metadata": {},
   "outputs": [],
   "source": [
    "dc = tables[0]\n",
    "num_cols = [\"1950\", \"2016\", \"2050\", \"2100\"]\n",
    "columns = [\"staat\"] + num_cols + [\"ftr2016\"]\n",
    "dc.columns = columns\n",
    "dc[num_cols] = (dc[num_cols] * 1000000).astype(np.int64)  # just wow\n",
    "dc[\"staat\"] = pd.Categorical(dc.staat)\n",
    "dc[\"ftr2016\"] = dc.ftr2016.str.replace(\"k.*\", \"nan\", regex=True).astype(np.float32)"
   ]
  },
  {
   "cell_type": "code",
   "execution_count": 50,
   "metadata": {},
   "outputs": [
    {
     "name": "stdout",
     "output_type": "stream",
     "text": [
      "<class 'pandas.core.frame.DataFrame'>\n",
      "RangeIndex: 208 entries, 0 to 207\n",
      "Data columns (total 6 columns):\n",
      "staat      208 non-null category\n",
      "1950       208 non-null int64\n",
      "2016       208 non-null int64\n",
      "2050       208 non-null int64\n",
      "2100       208 non-null int64\n",
      "ftr2016    206 non-null float32\n",
      "dtypes: category(1), float32(1), int64(4)\n",
      "memory usage: 19.4 KB\n"
     ]
    }
   ],
   "source": [
    "dc.info()"
   ]
  },
  {
   "cell_type": "code",
   "execution_count": 51,
   "metadata": {},
   "outputs": [
    {
     "data": {
      "text/html": [
       "<div>\n",
       "<style scoped>\n",
       "    .dataframe tbody tr th:only-of-type {\n",
       "        vertical-align: middle;\n",
       "    }\n",
       "\n",
       "    .dataframe tbody tr th {\n",
       "        vertical-align: top;\n",
       "    }\n",
       "\n",
       "    .dataframe thead th {\n",
       "        text-align: right;\n",
       "    }\n",
       "</style>\n",
       "<table border=\"1\" class=\"dataframe\">\n",
       "  <thead>\n",
       "    <tr style=\"text-align: right;\">\n",
       "      <th></th>\n",
       "      <th>staat</th>\n",
       "      <th>1950</th>\n",
       "      <th>2016</th>\n",
       "      <th>2050</th>\n",
       "      <th>2100</th>\n",
       "      <th>ftr2016</th>\n",
       "    </tr>\n",
       "  </thead>\n",
       "  <tbody>\n",
       "    <tr>\n",
       "      <th>0</th>\n",
       "      <td>Volksrepublik China</td>\n",
       "      <td>543700000</td>\n",
       "      <td>1382300000</td>\n",
       "      <td>1348000000</td>\n",
       "      <td>1004400000</td>\n",
       "      <td>1.5</td>\n",
       "    </tr>\n",
       "    <tr>\n",
       "      <th>1</th>\n",
       "      <td>Indien</td>\n",
       "      <td>376400000</td>\n",
       "      <td>1326800000</td>\n",
       "      <td>1659000000</td>\n",
       "      <td>1516600000</td>\n",
       "      <td>2.3</td>\n",
       "    </tr>\n",
       "    <tr>\n",
       "      <th>2</th>\n",
       "      <td>Vereinigte Staaten</td>\n",
       "      <td>157800000</td>\n",
       "      <td>324100000</td>\n",
       "      <td>389600000</td>\n",
       "      <td>447500000</td>\n",
       "      <td>1.8</td>\n",
       "    </tr>\n",
       "    <tr>\n",
       "      <th>3</th>\n",
       "      <td>Indonesien</td>\n",
       "      <td>72500000</td>\n",
       "      <td>260500000</td>\n",
       "      <td>321500000</td>\n",
       "      <td>306000000</td>\n",
       "      <td>2.3</td>\n",
       "    </tr>\n",
       "    <tr>\n",
       "      <th>4</th>\n",
       "      <td>Brasilien</td>\n",
       "      <td>53900000</td>\n",
       "      <td>209500000</td>\n",
       "      <td>232700000</td>\n",
       "      <td>190400000</td>\n",
       "      <td>1.8</td>\n",
       "    </tr>\n",
       "  </tbody>\n",
       "</table>\n",
       "</div>"
      ],
      "text/plain": [
       "                 staat       1950        2016        2050        2100  ftr2016\n",
       "0  Volksrepublik China  543700000  1382300000  1348000000  1004400000      1.5\n",
       "1               Indien  376400000  1326800000  1659000000  1516600000      2.3\n",
       "2   Vereinigte Staaten  157800000   324100000   389600000   447500000      1.8\n",
       "3           Indonesien   72500000   260500000   321500000   306000000      2.3\n",
       "4            Brasilien   53900000   209500000   232700000   190400000      1.8"
      ]
     },
     "execution_count": 51,
     "metadata": {},
     "output_type": "execute_result"
    }
   ],
   "source": [
    "dc.head()"
   ]
  },
  {
   "cell_type": "markdown",
   "metadata": {},
   "source": [
    "### query"
   ]
  },
  {
   "cell_type": "code",
   "execution_count": 52,
   "metadata": {},
   "outputs": [
    {
     "data": {
      "text/html": [
       "<div>\n",
       "<style scoped>\n",
       "    .dataframe tbody tr th:only-of-type {\n",
       "        vertical-align: middle;\n",
       "    }\n",
       "\n",
       "    .dataframe tbody tr th {\n",
       "        vertical-align: top;\n",
       "    }\n",
       "\n",
       "    .dataframe thead th {\n",
       "        text-align: right;\n",
       "    }\n",
       "</style>\n",
       "<table border=\"1\" class=\"dataframe\">\n",
       "  <thead>\n",
       "    <tr style=\"text-align: right;\">\n",
       "      <th></th>\n",
       "      <th>staat</th>\n",
       "      <th>1950</th>\n",
       "      <th>2016</th>\n",
       "      <th>2050</th>\n",
       "      <th>2100</th>\n",
       "      <th>ftr2016</th>\n",
       "    </tr>\n",
       "  </thead>\n",
       "  <tbody>\n",
       "    <tr>\n",
       "      <th>57</th>\n",
       "      <td>Niger</td>\n",
       "      <td>2500000</td>\n",
       "      <td>20700000</td>\n",
       "      <td>68500000</td>\n",
       "      <td>192200000</td>\n",
       "      <td>7.6</td>\n",
       "    </tr>\n",
       "    <tr>\n",
       "      <th>73</th>\n",
       "      <td>Somalia</td>\n",
       "      <td>2200000</td>\n",
       "      <td>14300000</td>\n",
       "      <td>35000000</td>\n",
       "      <td>79000000</td>\n",
       "      <td>6.4</td>\n",
       "    </tr>\n",
       "  </tbody>\n",
       "</table>\n",
       "</div>"
      ],
      "text/plain": [
       "      staat     1950      2016      2050       2100  ftr2016\n",
       "57    Niger  2500000  20700000  68500000  192200000      7.6\n",
       "73  Somalia  2200000  14300000  35000000   79000000      6.4"
      ]
     },
     "execution_count": 52,
     "metadata": {},
     "output_type": "execute_result"
    }
   ],
   "source": [
    "dc.query(\"ftr2016 > 2 and staat in ('Niger', 'Somalia', 'Brasilien')\")"
   ]
  },
  {
   "cell_type": "markdown",
   "metadata": {},
   "source": [
    "## Join - wie in SQL"
   ]
  },
  {
   "cell_type": "code",
   "execution_count": 57,
   "metadata": {},
   "outputs": [
    {
     "data": {
      "text/html": [
       "<div>\n",
       "<style scoped>\n",
       "    .dataframe tbody tr th:only-of-type {\n",
       "        vertical-align: middle;\n",
       "    }\n",
       "\n",
       "    .dataframe tbody tr th {\n",
       "        vertical-align: top;\n",
       "    }\n",
       "\n",
       "    .dataframe thead th {\n",
       "        text-align: right;\n",
       "    }\n",
       "</style>\n",
       "<table border=\"1\" class=\"dataframe\">\n",
       "  <thead>\n",
       "    <tr style=\"text-align: right;\">\n",
       "      <th></th>\n",
       "      <th>staat</th>\n",
       "      <th>städte</th>\n",
       "      <th>in_städten</th>\n",
       "      <th>gesamt</th>\n",
       "    </tr>\n",
       "  </thead>\n",
       "  <tbody>\n",
       "    <tr>\n",
       "      <th>0</th>\n",
       "      <td>Russland</td>\n",
       "      <td>24</td>\n",
       "      <td>35126970</td>\n",
       "      <td>143400000</td>\n",
       "    </tr>\n",
       "    <tr>\n",
       "      <th>1</th>\n",
       "      <td>Deutschland</td>\n",
       "      <td>14</td>\n",
       "      <td>13876117</td>\n",
       "      <td>82300000</td>\n",
       "    </tr>\n",
       "    <tr>\n",
       "      <th>2</th>\n",
       "      <td>Vereinigtes Königreich</td>\n",
       "      <td>8</td>\n",
       "      <td>13539290</td>\n",
       "      <td>65099999</td>\n",
       "    </tr>\n",
       "    <tr>\n",
       "      <th>3</th>\n",
       "      <td>Ukraine</td>\n",
       "      <td>8</td>\n",
       "      <td>9394252</td>\n",
       "      <td>44600000</td>\n",
       "    </tr>\n",
       "    <tr>\n",
       "      <th>4</th>\n",
       "      <td>Italien</td>\n",
       "      <td>6</td>\n",
       "      <td>7339318</td>\n",
       "      <td>59800000</td>\n",
       "    </tr>\n",
       "    <tr>\n",
       "      <th>5</th>\n",
       "      <td>Spanien</td>\n",
       "      <td>6</td>\n",
       "      <td>7514972</td>\n",
       "      <td>46000000</td>\n",
       "    </tr>\n",
       "    <tr>\n",
       "      <th>6</th>\n",
       "      <td>Polen</td>\n",
       "      <td>5</td>\n",
       "      <td>4399604</td>\n",
       "      <td>38600000</td>\n",
       "    </tr>\n",
       "    <tr>\n",
       "      <th>7</th>\n",
       "      <td>Niederlande</td>\n",
       "      <td>3</td>\n",
       "      <td>2026582</td>\n",
       "      <td>16900000</td>\n",
       "    </tr>\n",
       "    <tr>\n",
       "      <th>8</th>\n",
       "      <td>Frankreich</td>\n",
       "      <td>3</td>\n",
       "      <td>3581398</td>\n",
       "      <td>66800000</td>\n",
       "    </tr>\n",
       "    <tr>\n",
       "      <th>9</th>\n",
       "      <td>Schweden</td>\n",
       "      <td>2</td>\n",
       "      <td>1513800</td>\n",
       "      <td>9800000</td>\n",
       "    </tr>\n",
       "    <tr>\n",
       "      <th>10</th>\n",
       "      <td>Weißrussland</td>\n",
       "      <td>2</td>\n",
       "      <td>2518137</td>\n",
       "      <td>9400000</td>\n",
       "    </tr>\n",
       "    <tr>\n",
       "      <th>11</th>\n",
       "      <td>Rumänien</td>\n",
       "      <td>1</td>\n",
       "      <td>1826506</td>\n",
       "      <td>19300000</td>\n",
       "    </tr>\n",
       "  </tbody>\n",
       "</table>\n",
       "</div>"
      ],
      "text/plain": [
       "                     staat  städte  in_städten     gesamt\n",
       "0                 Russland      24    35126970  143400000\n",
       "1              Deutschland      14    13876117   82300000\n",
       "2   Vereinigtes Königreich       8    13539290   65099999\n",
       "3                  Ukraine       8     9394252   44600000\n",
       "4                  Italien       6     7339318   59800000\n",
       "5                  Spanien       6     7514972   46000000\n",
       "6                    Polen       5     4399604   38600000\n",
       "7              Niederlande       3     2026582   16900000\n",
       "8               Frankreich       3     3581398   66800000\n",
       "9                 Schweden       2     1513800    9800000\n",
       "10            Weißrussland       2     2518137    9400000\n",
       "11                Rumänien       1     1826506   19300000"
      ]
     },
     "execution_count": 57,
     "metadata": {},
     "output_type": "execute_result"
    }
   ],
   "source": [
    "dm = (pd.merge(dt, dc, on=\"staat\")[[\"staat\", \"städte\", \"einwohner\", \"2016\"]]\n",
    "        .rename(columns={\"einwohner\": \"in_städten\", \"2016\": \"gesamt\"}))\n",
    "dm"
   ]
  },
  {
   "cell_type": "code",
   "execution_count": 58,
   "metadata": {},
   "outputs": [],
   "source": [
    "dm[\"stadt_quote\"] = dm.in_städten / dm.gesamt"
   ]
  },
  {
   "cell_type": "code",
   "execution_count": 59,
   "metadata": {},
   "outputs": [
    {
     "data": {
      "text/html": [
       "<div>\n",
       "<style scoped>\n",
       "    .dataframe tbody tr th:only-of-type {\n",
       "        vertical-align: middle;\n",
       "    }\n",
       "\n",
       "    .dataframe tbody tr th {\n",
       "        vertical-align: top;\n",
       "    }\n",
       "\n",
       "    .dataframe thead th {\n",
       "        text-align: right;\n",
       "    }\n",
       "</style>\n",
       "<table border=\"1\" class=\"dataframe\">\n",
       "  <thead>\n",
       "    <tr style=\"text-align: right;\">\n",
       "      <th></th>\n",
       "      <th>staat</th>\n",
       "      <th>städte</th>\n",
       "      <th>in_städten</th>\n",
       "      <th>gesamt</th>\n",
       "      <th>stadt_quote</th>\n",
       "    </tr>\n",
       "  </thead>\n",
       "  <tbody>\n",
       "    <tr>\n",
       "      <th>0</th>\n",
       "      <td>Russland</td>\n",
       "      <td>24</td>\n",
       "      <td>35126970</td>\n",
       "      <td>143400000</td>\n",
       "      <td>0.244958</td>\n",
       "    </tr>\n",
       "    <tr>\n",
       "      <th>1</th>\n",
       "      <td>Deutschland</td>\n",
       "      <td>14</td>\n",
       "      <td>13876117</td>\n",
       "      <td>82300000</td>\n",
       "      <td>0.168604</td>\n",
       "    </tr>\n",
       "    <tr>\n",
       "      <th>2</th>\n",
       "      <td>Vereinigtes Königreich</td>\n",
       "      <td>8</td>\n",
       "      <td>13539290</td>\n",
       "      <td>65099999</td>\n",
       "      <td>0.207977</td>\n",
       "    </tr>\n",
       "    <tr>\n",
       "      <th>3</th>\n",
       "      <td>Ukraine</td>\n",
       "      <td>8</td>\n",
       "      <td>9394252</td>\n",
       "      <td>44600000</td>\n",
       "      <td>0.210633</td>\n",
       "    </tr>\n",
       "    <tr>\n",
       "      <th>4</th>\n",
       "      <td>Italien</td>\n",
       "      <td>6</td>\n",
       "      <td>7339318</td>\n",
       "      <td>59800000</td>\n",
       "      <td>0.122731</td>\n",
       "    </tr>\n",
       "    <tr>\n",
       "      <th>5</th>\n",
       "      <td>Spanien</td>\n",
       "      <td>6</td>\n",
       "      <td>7514972</td>\n",
       "      <td>46000000</td>\n",
       "      <td>0.163369</td>\n",
       "    </tr>\n",
       "    <tr>\n",
       "      <th>6</th>\n",
       "      <td>Polen</td>\n",
       "      <td>5</td>\n",
       "      <td>4399604</td>\n",
       "      <td>38600000</td>\n",
       "      <td>0.113979</td>\n",
       "    </tr>\n",
       "    <tr>\n",
       "      <th>7</th>\n",
       "      <td>Niederlande</td>\n",
       "      <td>3</td>\n",
       "      <td>2026582</td>\n",
       "      <td>16900000</td>\n",
       "      <td>0.119916</td>\n",
       "    </tr>\n",
       "    <tr>\n",
       "      <th>8</th>\n",
       "      <td>Frankreich</td>\n",
       "      <td>3</td>\n",
       "      <td>3581398</td>\n",
       "      <td>66800000</td>\n",
       "      <td>0.053614</td>\n",
       "    </tr>\n",
       "    <tr>\n",
       "      <th>9</th>\n",
       "      <td>Schweden</td>\n",
       "      <td>2</td>\n",
       "      <td>1513800</td>\n",
       "      <td>9800000</td>\n",
       "      <td>0.154469</td>\n",
       "    </tr>\n",
       "    <tr>\n",
       "      <th>10</th>\n",
       "      <td>Weißrussland</td>\n",
       "      <td>2</td>\n",
       "      <td>2518137</td>\n",
       "      <td>9400000</td>\n",
       "      <td>0.267887</td>\n",
       "    </tr>\n",
       "    <tr>\n",
       "      <th>11</th>\n",
       "      <td>Rumänien</td>\n",
       "      <td>1</td>\n",
       "      <td>1826506</td>\n",
       "      <td>19300000</td>\n",
       "      <td>0.094638</td>\n",
       "    </tr>\n",
       "  </tbody>\n",
       "</table>\n",
       "</div>"
      ],
      "text/plain": [
       "                     staat  städte  in_städten     gesamt  stadt_quote\n",
       "0                 Russland      24    35126970  143400000     0.244958\n",
       "1              Deutschland      14    13876117   82300000     0.168604\n",
       "2   Vereinigtes Königreich       8    13539290   65099999     0.207977\n",
       "3                  Ukraine       8     9394252   44600000     0.210633\n",
       "4                  Italien       6     7339318   59800000     0.122731\n",
       "5                  Spanien       6     7514972   46000000     0.163369\n",
       "6                    Polen       5     4399604   38600000     0.113979\n",
       "7              Niederlande       3     2026582   16900000     0.119916\n",
       "8               Frankreich       3     3581398   66800000     0.053614\n",
       "9                 Schweden       2     1513800    9800000     0.154469\n",
       "10            Weißrussland       2     2518137    9400000     0.267887\n",
       "11                Rumänien       1     1826506   19300000     0.094638"
      ]
     },
     "execution_count": 59,
     "metadata": {},
     "output_type": "execute_result"
    }
   ],
   "source": [
    "dm"
   ]
  },
  {
   "cell_type": "markdown",
   "metadata": {},
   "source": [
    "# Oft genutzte Operationen"
   ]
  },
  {
   "cell_type": "code",
   "execution_count": 65,
   "metadata": {},
   "outputs": [],
   "source": [
    "df = pd.DataFrame(index=[\"A\", \"B\", \"C\"])\n",
    "df[\"name\"] = [\"foo\", \"bar\", \"baz\"]\n",
    "df[\"value\"] = [23, 42, 28]"
   ]
  },
  {
   "cell_type": "code",
   "execution_count": 66,
   "metadata": {},
   "outputs": [
    {
     "data": {
      "text/html": [
       "<div>\n",
       "<style scoped>\n",
       "    .dataframe tbody tr th:only-of-type {\n",
       "        vertical-align: middle;\n",
       "    }\n",
       "\n",
       "    .dataframe tbody tr th {\n",
       "        vertical-align: top;\n",
       "    }\n",
       "\n",
       "    .dataframe thead th {\n",
       "        text-align: right;\n",
       "    }\n",
       "</style>\n",
       "<table border=\"1\" class=\"dataframe\">\n",
       "  <thead>\n",
       "    <tr style=\"text-align: right;\">\n",
       "      <th></th>\n",
       "      <th>name</th>\n",
       "      <th>value</th>\n",
       "    </tr>\n",
       "  </thead>\n",
       "  <tbody>\n",
       "    <tr>\n",
       "      <th>A</th>\n",
       "      <td>foo</td>\n",
       "      <td>23</td>\n",
       "    </tr>\n",
       "    <tr>\n",
       "      <th>B</th>\n",
       "      <td>bar</td>\n",
       "      <td>42</td>\n",
       "    </tr>\n",
       "    <tr>\n",
       "      <th>C</th>\n",
       "      <td>baz</td>\n",
       "      <td>28</td>\n",
       "    </tr>\n",
       "  </tbody>\n",
       "</table>\n",
       "</div>"
      ],
      "text/plain": [
       "  name  value\n",
       "A  foo     23\n",
       "B  bar     42\n",
       "C  baz     28"
      ]
     },
     "execution_count": 66,
     "metadata": {},
     "output_type": "execute_result"
    }
   ],
   "source": [
    "df"
   ]
  },
  {
   "cell_type": "code",
   "execution_count": 70,
   "metadata": {},
   "outputs": [
    {
     "data": {
      "text/html": [
       "<div>\n",
       "<style scoped>\n",
       "    .dataframe tbody tr th:only-of-type {\n",
       "        vertical-align: middle;\n",
       "    }\n",
       "\n",
       "    .dataframe tbody tr th {\n",
       "        vertical-align: top;\n",
       "    }\n",
       "\n",
       "    .dataframe thead th {\n",
       "        text-align: right;\n",
       "    }\n",
       "</style>\n",
       "<table border=\"1\" class=\"dataframe\">\n",
       "  <thead>\n",
       "    <tr style=\"text-align: right;\">\n",
       "      <th></th>\n",
       "      <th>index</th>\n",
       "      <th>name</th>\n",
       "      <th>value</th>\n",
       "    </tr>\n",
       "  </thead>\n",
       "  <tbody>\n",
       "    <tr>\n",
       "      <th>0</th>\n",
       "      <td>A</td>\n",
       "      <td>foo</td>\n",
       "      <td>23</td>\n",
       "    </tr>\n",
       "    <tr>\n",
       "      <th>1</th>\n",
       "      <td>B</td>\n",
       "      <td>bar</td>\n",
       "      <td>42</td>\n",
       "    </tr>\n",
       "    <tr>\n",
       "      <th>2</th>\n",
       "      <td>C</td>\n",
       "      <td>baz</td>\n",
       "      <td>28</td>\n",
       "    </tr>\n",
       "  </tbody>\n",
       "</table>\n",
       "</div>"
      ],
      "text/plain": [
       "  index name  value\n",
       "0     A  foo     23\n",
       "1     B  bar     42\n",
       "2     C  baz     28"
      ]
     },
     "execution_count": 70,
     "metadata": {},
     "output_type": "execute_result"
    }
   ],
   "source": [
    "df.reset_index()"
   ]
  },
  {
   "cell_type": "code",
   "execution_count": 71,
   "metadata": {},
   "outputs": [
    {
     "data": {
      "text/html": [
       "<div>\n",
       "<style scoped>\n",
       "    .dataframe tbody tr th:only-of-type {\n",
       "        vertical-align: middle;\n",
       "    }\n",
       "\n",
       "    .dataframe tbody tr th {\n",
       "        vertical-align: top;\n",
       "    }\n",
       "\n",
       "    .dataframe thead th {\n",
       "        text-align: right;\n",
       "    }\n",
       "</style>\n",
       "<table border=\"1\" class=\"dataframe\">\n",
       "  <thead>\n",
       "    <tr style=\"text-align: right;\">\n",
       "      <th></th>\n",
       "      <th>index</th>\n",
       "      <th>variable</th>\n",
       "      <th>value</th>\n",
       "    </tr>\n",
       "  </thead>\n",
       "  <tbody>\n",
       "    <tr>\n",
       "      <th>0</th>\n",
       "      <td>A</td>\n",
       "      <td>name</td>\n",
       "      <td>foo</td>\n",
       "    </tr>\n",
       "    <tr>\n",
       "      <th>1</th>\n",
       "      <td>B</td>\n",
       "      <td>name</td>\n",
       "      <td>bar</td>\n",
       "    </tr>\n",
       "    <tr>\n",
       "      <th>2</th>\n",
       "      <td>C</td>\n",
       "      <td>name</td>\n",
       "      <td>baz</td>\n",
       "    </tr>\n",
       "    <tr>\n",
       "      <th>3</th>\n",
       "      <td>A</td>\n",
       "      <td>value</td>\n",
       "      <td>23</td>\n",
       "    </tr>\n",
       "    <tr>\n",
       "      <th>4</th>\n",
       "      <td>B</td>\n",
       "      <td>value</td>\n",
       "      <td>42</td>\n",
       "    </tr>\n",
       "    <tr>\n",
       "      <th>5</th>\n",
       "      <td>C</td>\n",
       "      <td>value</td>\n",
       "      <td>28</td>\n",
       "    </tr>\n",
       "  </tbody>\n",
       "</table>\n",
       "</div>"
      ],
      "text/plain": [
       "  index variable value\n",
       "0     A     name   foo\n",
       "1     B     name   bar\n",
       "2     C     name   baz\n",
       "3     A    value    23\n",
       "4     B    value    42\n",
       "5     C    value    28"
      ]
     },
     "execution_count": 71,
     "metadata": {},
     "output_type": "execute_result"
    }
   ],
   "source": [
    "dm = df.reset_index().melt(id_vars=['index'])\n",
    "dm"
   ]
  },
  {
   "cell_type": "code",
   "execution_count": 72,
   "metadata": {},
   "outputs": [
    {
     "data": {
      "text/html": [
       "<div>\n",
       "<style scoped>\n",
       "    .dataframe tbody tr th:only-of-type {\n",
       "        vertical-align: middle;\n",
       "    }\n",
       "\n",
       "    .dataframe tbody tr th {\n",
       "        vertical-align: top;\n",
       "    }\n",
       "\n",
       "    .dataframe thead th {\n",
       "        text-align: right;\n",
       "    }\n",
       "</style>\n",
       "<table border=\"1\" class=\"dataframe\">\n",
       "  <thead>\n",
       "    <tr style=\"text-align: right;\">\n",
       "      <th>variable</th>\n",
       "      <th>name</th>\n",
       "      <th>value</th>\n",
       "    </tr>\n",
       "    <tr>\n",
       "      <th>index</th>\n",
       "      <th></th>\n",
       "      <th></th>\n",
       "    </tr>\n",
       "  </thead>\n",
       "  <tbody>\n",
       "    <tr>\n",
       "      <th>A</th>\n",
       "      <td>foo</td>\n",
       "      <td>23</td>\n",
       "    </tr>\n",
       "    <tr>\n",
       "      <th>B</th>\n",
       "      <td>bar</td>\n",
       "      <td>42</td>\n",
       "    </tr>\n",
       "    <tr>\n",
       "      <th>C</th>\n",
       "      <td>baz</td>\n",
       "      <td>28</td>\n",
       "    </tr>\n",
       "  </tbody>\n",
       "</table>\n",
       "</div>"
      ],
      "text/plain": [
       "variable name value\n",
       "index              \n",
       "A         foo    23\n",
       "B         bar    42\n",
       "C         baz    28"
      ]
     },
     "execution_count": 72,
     "metadata": {},
     "output_type": "execute_result"
    }
   ],
   "source": [
    "dm.pivot(columns=\"variable\", values=\"value\", index=\"index\")"
   ]
  }
 ],
 "metadata": {
  "kernelspec": {
   "display_name": "Python 3 (ipykernel)",
   "language": "python",
   "name": "python3"
  },
  "language_info": {
   "codemirror_mode": {
    "name": "ipython",
    "version": 3
   },
   "file_extension": ".py",
   "mimetype": "text/x-python",
   "name": "python",
   "nbconvert_exporter": "python",
   "pygments_lexer": "ipython3",
   "version": "3.11.5"
  }
 },
 "nbformat": 4,
 "nbformat_minor": 4
}
