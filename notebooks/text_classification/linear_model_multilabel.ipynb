{
 "cells": [
  {
   "cell_type": "code",
   "execution_count": null,
   "metadata": {},
   "outputs": [],
   "source": [
    "%config InlineBackend.figure_format = 'retina'"
   ]
  },
  {
   "cell_type": "code",
   "execution_count": null,
   "metadata": {},
   "outputs": [],
   "source": [
    "%load_ext autoreload\n",
    "\n",
    "%autoreload 1"
   ]
  },
  {
   "cell_type": "code",
   "execution_count": null,
   "metadata": {},
   "outputs": [],
   "source": [
    "import numpy as np\n",
    "\n",
    "import pickle\n",
    "\n",
    "from pathlib import Path"
   ]
  },
  {
   "cell_type": "markdown",
   "metadata": {},
   "source": [
    "# Load data"
   ]
  },
  {
   "cell_type": "code",
   "execution_count": null,
   "metadata": {},
   "outputs": [],
   "source": [
    "from ds_tutorial.datasets import ReutersCorpus"
   ]
  },
  {
   "cell_type": "code",
   "execution_count": null,
   "metadata": {},
   "outputs": [],
   "source": [
    "data_root = Path.home() / \"data\" / \"tmp\"\n",
    "reuters_corpus_path = data_root / \"reuters21578\" / \"corpus.pkl\"\n",
    "reuters = pickle.load(open(reuters_corpus_path, \"rb\"))\n",
    "reuters_documents_path = data_root / \"reuters21578\" / \"documents.pkl\"\n",
    "top_ten_ids, top_ten_names = reuters.top_n(n=10)"
   ]
  },
  {
   "cell_type": "code",
   "execution_count": null,
   "metadata": {},
   "outputs": [
    {
     "data": {
      "text/plain": [
       "([3, 10, 13, 17, 4, 9, 0, 19, 22, 18],\n",
       " ['earn',\n",
       "  'acq',\n",
       "  'money-fx',\n",
       "  'grain',\n",
       "  'crude',\n",
       "  'trade',\n",
       "  'interest',\n",
       "  'ship',\n",
       "  'wheat',\n",
       "  'corn'])"
      ]
     },
     "execution_count": null,
     "metadata": {},
     "output_type": "execute_result"
    }
   ],
   "source": [
    "top_ten_ids, top_ten_names"
   ]
  },
  {
   "cell_type": "markdown",
   "metadata": {},
   "source": [
    "# Simple linear model"
   ]
  },
  {
   "cell_type": "markdown",
   "metadata": {},
   "source": [
    "### Get text and labels"
   ]
  },
  {
   "cell_type": "code",
   "execution_count": null,
   "metadata": {},
   "outputs": [],
   "source": [
    "from sklearn.preprocessing import MultiLabelBinarizer"
   ]
  },
  {
   "cell_type": "code",
   "execution_count": null,
   "metadata": {},
   "outputs": [
    {
     "name": "stdout",
     "output_type": "stream",
     "text": [
      "7770 3019\n"
     ]
    }
   ],
   "source": [
    "train_docs, test_docs = reuters.split_modapte()\n",
    "print(len(train_docs), len(test_docs))\n",
    "\n",
    "train = [d[\"text\"] for d in train_docs]\n",
    "train_labels = reuters.get_all_labels(train_docs)\n",
    "y_train = MultiLabelBinarizer().fit_transform(train_labels)\n",
    "\n",
    "test = [d[\"text\"] for d in test_docs]\n",
    "test_labels = reuters.get_all_labels(test_docs)\n",
    "y_test = MultiLabelBinarizer().fit_transform(test_labels)"
   ]
  },
  {
   "cell_type": "code",
   "execution_count": null,
   "metadata": {},
   "outputs": [],
   "source": [
    "from sklearn.preprocessing import MultiLabelBinarizer\n",
    "train_labels_binarized = MultiLabelBinarizer().fit_transform(train_labels)\n",
    "test_labels_binarized = MultiLabelBinarizer().fit_transform(test_labels)"
   ]
  },
  {
   "cell_type": "code",
   "execution_count": null,
   "metadata": {},
   "outputs": [
    {
     "data": {
      "text/plain": [
       "((7770, 90), (3019, 90))"
      ]
     },
     "execution_count": null,
     "metadata": {},
     "output_type": "execute_result"
    }
   ],
   "source": [
    "train_labels_binarized.shape, test_labels_binarized.shape"
   ]
  },
  {
   "cell_type": "markdown",
   "metadata": {},
   "source": [
    "### Vectorize texts"
   ]
  },
  {
   "cell_type": "code",
   "execution_count": null,
   "metadata": {},
   "outputs": [],
   "source": [
    "from sklearn.feature_extraction.text import TfidfVectorizer"
   ]
  },
  {
   "cell_type": "code",
   "execution_count": null,
   "metadata": {},
   "outputs": [
    {
     "data": {
      "text/plain": [
       "TfidfVectorizer(analyzer='word', binary=False, decode_error='strict',\n",
       "        dtype=<class 'numpy.float64'>, encoding='utf-8', input='content',\n",
       "        lowercase=True, max_df=1.0, max_features=None, min_df=1,\n",
       "        ngram_range=(1, 1), norm='l2', preprocessor=None, smooth_idf=True,\n",
       "        stop_words=None, strip_accents=None, sublinear_tf=False,\n",
       "        token_pattern='(?u)\\\\b\\\\w\\\\w+\\\\b', tokenizer=None, use_idf=True,\n",
       "        vocabulary=None)"
      ]
     },
     "execution_count": null,
     "metadata": {},
     "output_type": "execute_result"
    }
   ],
   "source": [
    "vectorizer = TfidfVectorizer()\n",
    "vectorizer.fit(train)"
   ]
  },
  {
   "cell_type": "code",
   "execution_count": null,
   "metadata": {},
   "outputs": [],
   "source": [
    "X_train = vectorizer.transform(train)\n",
    "X_test = vectorizer.transform(test)"
   ]
  },
  {
   "cell_type": "markdown",
   "metadata": {},
   "source": [
    "### Test models"
   ]
  },
  {
   "cell_type": "code",
   "execution_count": null,
   "metadata": {},
   "outputs": [],
   "source": [
    "from sklearn.metrics import classification_report\n",
    "from sklearn.multiclass import OneVsRestClassifier"
   ]
  },
  {
   "cell_type": "markdown",
   "metadata": {},
   "source": [
    "#### Logistic regression"
   ]
  },
  {
   "cell_type": "code",
   "execution_count": null,
   "metadata": {},
   "outputs": [],
   "source": [
    "from sklearn.linear_model import LogisticRegression\n",
    "# model = OneVsRestClassifier(LogisticRegression(C=100, solver=\"liblinear\", multi_class=\"ovr\"))\n",
    "model = OneVsRestClassifier(LogisticRegression(solver=\"liblinear\", multi_class=\"ovr\"))\n",
    "model.fit(X_train, train_labels_binarized)\n",
    "y_pred = model.predict(X_test)"
   ]
  },
  {
   "cell_type": "code",
   "execution_count": null,
   "metadata": {},
   "outputs": [
    {
     "name": "stdout",
     "output_type": "stream",
     "text": [
      "              precision    recall  f1-score   support\n",
      "\n",
      "        earn       0.99      0.97      0.98      1087\n",
      "         acq       0.98      0.92      0.95       719\n",
      "    money-fx       0.78      0.51      0.62       179\n",
      "       grain       0.99      0.60      0.75       149\n",
      "       crude       0.96      0.57      0.72       189\n",
      "       trade       0.93      0.54      0.68       117\n",
      "    interest       0.91      0.47      0.62       131\n",
      "        ship       1.00      0.13      0.24        89\n",
      "       wheat       0.97      0.51      0.67        71\n",
      "        corn       0.95      0.32      0.48        56\n",
      "\n",
      "   micro avg       0.97      0.79      0.87      2787\n",
      "   macro avg       0.95      0.56      0.67      2787\n",
      "weighted avg       0.97      0.79      0.85      2787\n",
      " samples avg       0.70      0.69      0.69      2787\n",
      "\n"
     ]
    },
    {
     "name": "stderr",
     "output_type": "stream",
     "text": [
      "/Users/jochen/miniconda3/envs/ds_tutorial/lib/python3.6/site-packages/sklearn/metrics/classification.py:1143: UndefinedMetricWarning: Precision and F-score are ill-defined and being set to 0.0 in samples with no predicted labels.\n",
      "  'precision', 'predicted', average, warn_for)\n",
      "/Users/jochen/miniconda3/envs/ds_tutorial/lib/python3.6/site-packages/sklearn/metrics/classification.py:1145: UndefinedMetricWarning: Recall and F-score are ill-defined and being set to 0.0 in samples with no true labels.\n",
      "  'recall', 'true', average, warn_for)\n"
     ]
    }
   ],
   "source": [
    "print(classification_report(test_labels_binarized, y_pred, target_names=top_ten_names, labels=top_ten_ids))"
   ]
  },
  {
   "cell_type": "markdown",
   "metadata": {},
   "source": [
    "#### Linear Support Vector Machine"
   ]
  },
  {
   "cell_type": "code",
   "execution_count": null,
   "metadata": {},
   "outputs": [],
   "source": [
    "from sklearn.svm import LinearSVC\n",
    "model = OneVsRestClassifier(LinearSVC())\n",
    "model.fit(X_train, train_labels_binarized)\n",
    "y_pred = model.predict(X_test)"
   ]
  },
  {
   "cell_type": "code",
   "execution_count": null,
   "metadata": {},
   "outputs": [
    {
     "name": "stdout",
     "output_type": "stream",
     "text": [
      "              precision    recall  f1-score   support\n",
      "\n",
      "        earn      0.991     0.980     0.985      1087\n",
      "         acq      0.984     0.950     0.967       719\n",
      "    money-fx      0.810     0.788     0.799       179\n",
      "       grain      0.975     0.799     0.878       149\n",
      "       crude      0.906     0.868     0.886       189\n",
      "       trade      0.830     0.709     0.765       117\n",
      "    interest      0.870     0.664     0.753       131\n",
      "        ship      0.924     0.685     0.787        89\n",
      "       wheat      0.929     0.732     0.819        71\n",
      "        corn      0.955     0.750     0.840        56\n",
      "\n",
      "   micro avg      0.956     0.896     0.925      2787\n",
      "   macro avg      0.917     0.793     0.848      2787\n",
      "weighted avg      0.954     0.896     0.922      2787\n",
      " samples avg      0.771     0.769     0.767      2787\n",
      "\n"
     ]
    },
    {
     "name": "stderr",
     "output_type": "stream",
     "text": [
      "/Users/jochen/miniconda3/envs/ds_tutorial/lib/python3.6/site-packages/sklearn/metrics/classification.py:1143: UndefinedMetricWarning: Precision and F-score are ill-defined and being set to 0.0 in samples with no predicted labels.\n",
      "  'precision', 'predicted', average, warn_for)\n",
      "/Users/jochen/miniconda3/envs/ds_tutorial/lib/python3.6/site-packages/sklearn/metrics/classification.py:1145: UndefinedMetricWarning: Recall and F-score are ill-defined and being set to 0.0 in samples with no true labels.\n",
      "  'recall', 'true', average, warn_for)\n"
     ]
    }
   ],
   "source": [
    "print(classification_report(test_labels_binarized, y_pred, target_names=top_ten_names, labels=top_ten_ids, digits=3))"
   ]
  },
  {
   "cell_type": "markdown",
   "metadata": {},
   "source": [
    "#### Naive Bayes"
   ]
  },
  {
   "cell_type": "code",
   "execution_count": null,
   "metadata": {},
   "outputs": [],
   "source": [
    "from sklearn.naive_bayes import MultinomialNB\n",
    "\n",
    "model = OneVsRestClassifier(MultinomialNB())\n",
    "model.fit(X_train, train_labels_binarized)\n",
    "y_pred = model.predict(X_test)"
   ]
  },
  {
   "cell_type": "code",
   "execution_count": null,
   "metadata": {},
   "outputs": [
    {
     "name": "stdout",
     "output_type": "stream",
     "text": [
      "              precision    recall  f1-score   support\n",
      "\n",
      "        earn       1.00      0.91      0.95      1087\n",
      "         acq       1.00      0.29      0.44       719\n",
      "    money-fx       0.00      0.00      0.00       179\n",
      "       grain       1.00      0.03      0.05       149\n",
      "       crude       1.00      0.02      0.03       189\n",
      "       trade       0.00      0.00      0.00       117\n",
      "    interest       0.00      0.00      0.00       131\n",
      "        ship       0.00      0.00      0.00        89\n",
      "       wheat       0.00      0.00      0.00        71\n",
      "        corn       0.00      0.00      0.00        56\n",
      "\n",
      "   micro avg       1.00      0.43      0.60      2787\n",
      "   macro avg       0.40      0.12      0.15      2787\n",
      "weighted avg       0.77      0.43      0.49      2787\n",
      " samples avg       0.40      0.40      0.40      2787\n",
      "\n"
     ]
    },
    {
     "name": "stderr",
     "output_type": "stream",
     "text": [
      "/Users/jochen/miniconda3/envs/ds_tutorial/lib/python3.6/site-packages/sklearn/metrics/classification.py:1143: UndefinedMetricWarning: Precision and F-score are ill-defined and being set to 0.0 in labels with no predicted samples.\n",
      "  'precision', 'predicted', average, warn_for)\n",
      "/Users/jochen/miniconda3/envs/ds_tutorial/lib/python3.6/site-packages/sklearn/metrics/classification.py:1143: UndefinedMetricWarning: Precision and F-score are ill-defined and being set to 0.0 in samples with no predicted labels.\n",
      "  'precision', 'predicted', average, warn_for)\n",
      "/Users/jochen/miniconda3/envs/ds_tutorial/lib/python3.6/site-packages/sklearn/metrics/classification.py:1145: UndefinedMetricWarning: Recall and F-score are ill-defined and being set to 0.0 in samples with no true labels.\n",
      "  'recall', 'true', average, warn_for)\n"
     ]
    }
   ],
   "source": [
    "print(classification_report(test_labels_binarized, y_pred, target_names=top_ten_names, labels=top_ten_ids))"
   ]
  }
 ],
 "metadata": {
  "kernelspec": {
   "display_name": "python3",
   "language": "python",
   "name": "python3"
  }
 },
 "nbformat": 4,
 "nbformat_minor": 2
}
