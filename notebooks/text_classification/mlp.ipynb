{
 "cells": [
  {
   "cell_type": "code",
   "execution_count": null,
   "metadata": {},
   "outputs": [],
   "source": [
    "%config InlineBackend.figure_format = 'retina'"
   ]
  },
  {
   "cell_type": "code",
   "execution_count": null,
   "metadata": {},
   "outputs": [],
   "source": [
    "%load_ext autoreload\n",
    "\n",
    "%autoreload 1"
   ]
  },
  {
   "cell_type": "code",
   "execution_count": null,
   "metadata": {},
   "outputs": [],
   "source": [
    "import numpy as np\n",
    "import pandas as pd\n",
    "\n",
    "import pickle\n",
    "\n",
    "from pathlib import Path"
   ]
  },
  {
   "cell_type": "markdown",
   "metadata": {},
   "source": [
    "# Load data"
   ]
  },
  {
   "cell_type": "code",
   "execution_count": null,
   "metadata": {},
   "outputs": [],
   "source": [
    "data_root = Path.home() / \"data\" / \"tmp\"\n",
    "reuters_dir = data_root / \"reuters21578\"\n",
    "reuters_corpus_path = reuters_dir / \"corpus.pkl\"\n",
    "reuters = pickle.load(open(reuters_corpus_path, \"rb\"))\n",
    "top_ten_ids, top_ten_names = reuters.top_n(n=10)\n",
    "\n",
    "cache_dir = reuters_dir / \"cache\""
   ]
  },
  {
   "cell_type": "markdown",
   "metadata": {},
   "source": [
    "# Build dataframe"
   ]
  },
  {
   "cell_type": "code",
   "execution_count": null,
   "metadata": {},
   "outputs": [],
   "source": [
    "train_docs, test_docs = reuters.split_modapte()\n",
    "docs = train_docs + test_docs\n",
    "train_labels = reuters.get_labels(train_docs, set(top_ten_ids))\n",
    "test_labels = reuters.get_labels(test_docs, set(top_ten_ids))"
   ]
  },
  {
   "cell_type": "code",
   "execution_count": null,
   "metadata": {},
   "outputs": [],
   "source": [
    "from ds_tutorial.datasets import build_reuters_dataframe\n",
    "df, top_ten_ids, train_labels, test_labels = build_reuters_dataframe(\n",
    "    docs, reuters.topics, train_labels, test_labels, top_ten_ids)"
   ]
  },
  {
   "cell_type": "code",
   "execution_count": null,
   "metadata": {},
   "outputs": [
    {
     "data": {
      "text/html": [
       "<div>\n",
       "<style scoped>\n",
       "    .dataframe tbody tr th:only-of-type {\n",
       "        vertical-align: middle;\n",
       "    }\n",
       "\n",
       "    .dataframe tbody tr th {\n",
       "        vertical-align: top;\n",
       "    }\n",
       "\n",
       "    .dataframe thead th {\n",
       "        text-align: right;\n",
       "    }\n",
       "</style>\n",
       "<table border=\"1\" class=\"dataframe\">\n",
       "  <thead>\n",
       "    <tr style=\"text-align: right;\">\n",
       "      <th></th>\n",
       "      <th>modapte</th>\n",
       "      <th>category</th>\n",
       "      <th>label</th>\n",
       "      <th>date</th>\n",
       "      <th>title</th>\n",
       "      <th>dateline</th>\n",
       "      <th>body</th>\n",
       "      <th>newid</th>\n",
       "      <th>wd_name</th>\n",
       "    </tr>\n",
       "  </thead>\n",
       "  <tbody>\n",
       "    <tr>\n",
       "      <th>0</th>\n",
       "      <td>train</td>\n",
       "      <td>interest</td>\n",
       "      <td>0</td>\n",
       "      <td>1987-03-11 18:14:49</td>\n",
       "      <td>U.S. ECONOMIC DATA KEY TO DEBT FUTURES OUTLOOK</td>\n",
       "      <td>CHICAGO, March 11 -</td>\n",
       "      <td>U.S. economic data this week could be\\nthe key...</td>\n",
       "      <td>4005</td>\n",
       "      <td>Wednesday</td>\n",
       "    </tr>\n",
       "    <tr>\n",
       "      <th>1</th>\n",
       "      <td>train</td>\n",
       "      <td>earn</td>\n",
       "      <td>3</td>\n",
       "      <td>1987-03-11 18:36:05</td>\n",
       "      <td>BANK OF BRITISH COLUMBIA 1ST QTR JAN 31 NET</td>\n",
       "      <td>VANCOUVER, British Columbia, March 11 -\\n</td>\n",
       "      <td>Oper shr loss two cts vs profit three cts\\n   ...</td>\n",
       "      <td>4012</td>\n",
       "      <td>Wednesday</td>\n",
       "    </tr>\n",
       "    <tr>\n",
       "      <th>2</th>\n",
       "      <td>train</td>\n",
       "      <td>earn</td>\n",
       "      <td>3</td>\n",
       "      <td>1987-03-11 18:38:02</td>\n",
       "      <td>RESTAURANT ASSOCIATES INC &lt;RA&gt; 4TH QTR JAN 3</td>\n",
       "      <td>NEW YORK, March 11 -\\n</td>\n",
       "      <td>Shr 25 cts vs 36 cts\\n    Net 1.4 mln vs 1.4 m...</td>\n",
       "      <td>4014</td>\n",
       "      <td>Wednesday</td>\n",
       "    </tr>\n",
       "    <tr>\n",
       "      <th>3</th>\n",
       "      <td>train</td>\n",
       "      <td>earn</td>\n",
       "      <td>3</td>\n",
       "      <td>1987-03-11 18:41:59</td>\n",
       "      <td>MICHIGAN GENERAL CORP &lt;MGL&gt; 4TH QTR</td>\n",
       "      <td>SADDLE BROOK, N.J., March 11 -\\n</td>\n",
       "      <td>Shr loss 1.02 dlrs vs 1.01 dlr\\n    Net loss 1...</td>\n",
       "      <td>4015</td>\n",
       "      <td>Wednesday</td>\n",
       "    </tr>\n",
       "    <tr>\n",
       "      <th>4</th>\n",
       "      <td>train</td>\n",
       "      <td>crude</td>\n",
       "      <td>4</td>\n",
       "      <td>1987-03-11 18:45:36</td>\n",
       "      <td>USX &lt;X&gt; PROVED OIL, GAS RESERVES FALL IN 1986</td>\n",
       "      <td>NEW YORK, March 11 -</td>\n",
       "      <td>USX Corp said proved reserves of oil\\nand natu...</td>\n",
       "      <td>4016</td>\n",
       "      <td>Wednesday</td>\n",
       "    </tr>\n",
       "  </tbody>\n",
       "</table>\n",
       "</div>"
      ],
      "text/plain": [
       "  modapte  category  label                date  \\\n",
       "0   train  interest      0 1987-03-11 18:14:49   \n",
       "1   train      earn      3 1987-03-11 18:36:05   \n",
       "2   train      earn      3 1987-03-11 18:38:02   \n",
       "3   train      earn      3 1987-03-11 18:41:59   \n",
       "4   train     crude      4 1987-03-11 18:45:36   \n",
       "\n",
       "                                            title  \\\n",
       "0  U.S. ECONOMIC DATA KEY TO DEBT FUTURES OUTLOOK   \n",
       "1     BANK OF BRITISH COLUMBIA 1ST QTR JAN 31 NET   \n",
       "2    RESTAURANT ASSOCIATES INC <RA> 4TH QTR JAN 3   \n",
       "3             MICHIGAN GENERAL CORP <MGL> 4TH QTR   \n",
       "4   USX <X> PROVED OIL, GAS RESERVES FALL IN 1986   \n",
       "\n",
       "                                            dateline  \\\n",
       "0                               CHICAGO, March 11 -    \n",
       "1      VANCOUVER, British Columbia, March 11 -\\n       \n",
       "2                         NEW YORK, March 11 -\\n       \n",
       "3               SADDLE BROOK, N.J., March 11 -\\n       \n",
       "4                              NEW YORK, March 11 -    \n",
       "\n",
       "                                                body newid    wd_name  \n",
       "0  U.S. economic data this week could be\\nthe key...  4005  Wednesday  \n",
       "1  Oper shr loss two cts vs profit three cts\\n   ...  4012  Wednesday  \n",
       "2  Shr 25 cts vs 36 cts\\n    Net 1.4 mln vs 1.4 m...  4014  Wednesday  \n",
       "3  Shr loss 1.02 dlrs vs 1.01 dlr\\n    Net loss 1...  4015  Wednesday  \n",
       "4  USX Corp said proved reserves of oil\\nand natu...  4016  Wednesday  "
      ]
     },
     "execution_count": null,
     "metadata": {},
     "output_type": "execute_result"
    }
   ],
   "source": [
    "df.head()"
   ]
  },
  {
   "cell_type": "markdown",
   "metadata": {},
   "source": [
    "# Build feature extraction pipeline"
   ]
  },
  {
   "cell_type": "code",
   "execution_count": null,
   "metadata": {},
   "outputs": [],
   "source": [
    "from sklearn.pipeline import Pipeline\n",
    "from sklearn.pipeline import FeatureUnion\n",
    "\n",
    "from sklearn.preprocessing import Imputer\n",
    "from sklearn.preprocessing import StandardScaler\n",
    "\n",
    "from sklearn.decomposition import TruncatedSVD\n",
    "from sklearn.metrics import classification_report\n",
    "from sklearn.feature_extraction import DictVectorizer\n",
    "from sklearn.base import BaseEstimator, TransformerMixin\n",
    "from sklearn.feature_extraction.text import TfidfVectorizer\n",
    "\n",
    "from sklearn.svm import LinearSVC"
   ]
  },
  {
   "cell_type": "code",
   "execution_count": null,
   "metadata": {},
   "outputs": [],
   "source": [
    "from ds_tutorial.transformers import TextFromColumns, TextStats, ColumnSelector, TextFromColumns2"
   ]
  },
  {
   "cell_type": "code",
   "execution_count": null,
   "metadata": {},
   "outputs": [],
   "source": [
    "df_train = df.query(\"modapte == 'train'\")\n",
    "df_test = df.query(\"modapte == 'test'\")\n",
    "y_train = df_train.label.values\n",
    "y_test = df_test.label.values"
   ]
  },
  {
   "cell_type": "code",
   "execution_count": null,
   "metadata": {},
   "outputs": [],
   "source": [
    "pipeline = Pipeline(memory=str(cache_dir), steps=[\n",
    "    (\"union\", FeatureUnion(transformer_list=[\n",
    "        (\"title_stats\", Pipeline([\n",
    "            (\"column\", ColumnSelector(\"title\")),\n",
    "            (\"stats\", TextStats()),\n",
    "            (\"scaled\", StandardScaler()),\n",
    "        ])),\n",
    "        (\"body_stats\", Pipeline([\n",
    "            (\"column\", ColumnSelector(\"body\")),\n",
    "            (\"stats\", TextStats()),\n",
    "            (\"scaled\", StandardScaler()),\n",
    "        ])),\n",
    "        (\"combined_text\", Pipeline([\n",
    "            (\"column\", TextFromColumns(columns=[\"title\", \"body\"])),\n",
    "            #(\"tfidf\", TfidfVectorizer(analyzer=\"char_wb\", ngram_range=(1, 5))),\n",
    "            (\"tfidf\", TfidfVectorizer()),\n",
    "            #(\"best\", TruncatedSVD(n_components=300, random_state=2018))\n",
    "        ])),\n",
    "\n",
    "    ])),\n",
    "])"
   ]
  },
  {
   "cell_type": "code",
   "execution_count": null,
   "metadata": {},
   "outputs": [],
   "source": [
    "X_train = pipeline.fit_transform(df_train)\n",
    "X_test = pipeline.transform(df_test)"
   ]
  },
  {
   "cell_type": "markdown",
   "metadata": {},
   "source": [
    "## Build multi layer perceptron"
   ]
  },
  {
   "cell_type": "code",
   "execution_count": null,
   "metadata": {},
   "outputs": [],
   "source": [
    "from tensorflow.python.keras.optimizers import Adam\n",
    "from tensorflow.python.keras import models\n",
    "from tensorflow.python.keras.layers import Dense\n",
    "from tensorflow.python.keras.layers import Dropout"
   ]
  },
  {
   "cell_type": "code",
   "execution_count": null,
   "metadata": {},
   "outputs": [],
   "source": [
    "def mlp_model(layers, units, dropout_rate, input_shape, num_classes):\n",
    "    model = models.Sequential()\n",
    "    model.add(Dropout(rate=dropout_rate, input_shape=input_shape))\n",
    "\n",
    "    for _ in range(layers-1):\n",
    "        model.add(Dense(units=units, activation='relu'))\n",
    "        model.add(Dropout(rate=dropout_rate))\n",
    "    \n",
    "    model.add(Dense(units=num_classes, activation=\"softmax\"))\n",
    "    return model"
   ]
  },
  {
   "cell_type": "code",
   "execution_count": null,
   "metadata": {},
   "outputs": [
    {
     "name": "stdout",
     "output_type": "stream",
     "text": [
      "WARNING:tensorflow:From /Users/jochen/miniconda3/envs/ds_tutorial/lib/python3.6/site-packages/tensorflow/python/keras/layers/core.py:143: calling dropout (from tensorflow.python.ops.nn_ops) with keep_prob is deprecated and will be removed in a future version.\n",
      "Instructions for updating:\n",
      "Please use `rate` instead of `keep_prob`. Rate should be set to `rate = 1 - keep_prob`.\n",
      "WARNING:tensorflow:From /Users/jochen/miniconda3/envs/ds_tutorial/lib/python3.6/site-packages/tensorflow/python/ops/control_flow_ops.py:423: colocate_with (from tensorflow.python.framework.ops) is deprecated and will be removed in a future version.\n",
      "Instructions for updating:\n",
      "Colocations handled automatically by placer.\n"
     ]
    }
   ],
   "source": [
    "model = mlp_model(3, 32, 0.2, X_train.shape[1:], 75)"
   ]
  },
  {
   "cell_type": "code",
   "execution_count": null,
   "metadata": {},
   "outputs": [],
   "source": [
    "optimizer = Adam(lr=1e-3)\n",
    "model.compile(optimizer=optimizer, loss=\"sparse_categorical_crossentropy\", metrics=['acc'])"
   ]
  },
  {
   "cell_type": "code",
   "execution_count": null,
   "metadata": {},
   "outputs": [
    {
     "name": "stdout",
     "output_type": "stream",
     "text": [
      "Epoch 1/15\n",
      "7770/7770 [==============================] - 3s 360us/sample - loss: 2.5315 - acc: 0.4275\n",
      "Epoch 2/15\n",
      "7770/7770 [==============================] - 3s 334us/sample - loss: 1.4558 - acc: 0.6246\n",
      "Epoch 3/15\n",
      "7770/7770 [==============================] - 3s 342us/sample - loss: 1.1162 - acc: 0.7032\n",
      "Epoch 4/15\n",
      "7770/7770 [==============================] - 3s 364us/sample - loss: 0.9233 - acc: 0.7519\n",
      "Epoch 5/15\n",
      "7770/7770 [==============================] - 3s 381us/sample - loss: 0.7877 - acc: 0.7849\n",
      "Epoch 6/15\n",
      "7770/7770 [==============================] - 3s 386us/sample - loss: 0.6752 - acc: 0.8158\n",
      "Epoch 7/15\n",
      "7770/7770 [==============================] - 3s 423us/sample - loss: 0.5999 - acc: 0.8341\n",
      "Epoch 8/15\n",
      "7770/7770 [==============================] - 3s 353us/sample - loss: 0.5335 - acc: 0.8450\n",
      "Epoch 9/15\n",
      "6080/7770 [======================>.......] - ETA: 0s - loss: 0.4787 - acc: 0.8627"
     ]
    }
   ],
   "source": [
    "history = model.fit(X_train, y_train, epochs=15)"
   ]
  },
  {
   "cell_type": "code",
   "execution_count": null,
   "metadata": {},
   "outputs": [
    {
     "name": "stdout",
     "output_type": "stream",
     "text": [
      "             precision    recall  f1-score   support\n",
      "\n",
      "       earn      0.971     0.989     0.980      1087\n",
      "        acq      0.951     0.979     0.965       710\n",
      "   money-fx      0.681     0.855     0.758       145\n",
      "      grain      0.366     0.357     0.361        42\n",
      "      crude      0.725     0.902     0.804       164\n",
      "      trade      0.744     0.826     0.783       109\n",
      "   interest      0.804     0.701     0.749       117\n",
      "       ship      0.625     0.493     0.551        71\n",
      "      wheat      0.648     0.636     0.642        55\n",
      "       corn      0.405     0.667     0.504        45\n",
      "\n",
      "avg / total      0.879     0.915     0.895      2545\n",
      "\n"
     ]
    }
   ],
   "source": [
    "y_pred = model.predict_classes(X_test)\n",
    "print(classification_report(y_test, y_pred, target_names=top_ten_names, labels=top_ten_ids, digits=3))"
   ]
  },
  {
   "cell_type": "code",
   "execution_count": null,
   "metadata": {},
   "outputs": [
    {
     "name": "stdout",
     "output_type": "stream",
     "text": [
      "             precision    recall  f1-score   support\n",
      "\n",
      "       earn      0.980     0.987     0.984      1087\n",
      "        acq      0.940     0.966     0.953       710\n",
      "   money-fx      0.729     0.779     0.753       145\n",
      "      grain      0.408     0.476     0.440        42\n",
      "      crude      0.770     0.835     0.801       164\n",
      "      trade      0.721     0.853     0.782       109\n",
      "   interest      0.748     0.761     0.754       117\n",
      "       ship      0.662     0.690     0.676        71\n",
      "      wheat      0.750     0.600     0.667        55\n",
      "       corn      0.660     0.733     0.695        45\n",
      "\n",
      "avg / total      0.890     0.914     0.901      2545\n",
      "\n"
     ]
    }
   ],
   "source": [
    "y_pred = model.predict_classes(X_test)\n",
    "print(classification_report(y_test, y_pred, target_names=top_ten_names, labels=top_ten_ids, digits=3))"
   ]
  },
  {
   "cell_type": "code",
   "execution_count": null,
   "metadata": {},
   "outputs": [
    {
     "name": "stdout",
     "output_type": "stream",
     "text": [
      "             precision    recall  f1-score   support\n",
      "\n",
      "       earn      0.975     0.986     0.981      1087\n",
      "        acq      0.936     0.968     0.952       710\n",
      "   money-fx      0.738     0.834     0.783       145\n",
      "      grain      0.486     0.405     0.442        42\n",
      "      crude      0.765     0.872     0.815       164\n",
      "      trade      0.736     0.817     0.774       109\n",
      "   interest      0.816     0.795     0.805       117\n",
      "       ship      0.688     0.620     0.652        71\n",
      "      wheat      0.760     0.691     0.724        55\n",
      "       corn      0.706     0.800     0.750        45\n",
      "\n",
      "avg / total      0.894     0.919     0.906      2545\n",
      "\n"
     ]
    }
   ],
   "source": [
    "y_pred = model.predict_classes(X_test)\n",
    "print(classification_report(y_test, y_pred, target_names=top_ten_names, labels=top_ten_ids, digits=3))"
   ]
  },
  {
   "cell_type": "code",
   "execution_count": null,
   "metadata": {},
   "outputs": [
    {
     "name": "stdout",
     "output_type": "stream",
     "text": [
      "             precision    recall  f1-score   support\n",
      "\n",
      "       earn      0.975     0.988     0.981      1087\n",
      "        acq      0.921     0.975     0.947       710\n",
      "   money-fx      0.753     0.800     0.776       145\n",
      "      grain      0.515     0.405     0.453        42\n",
      "      crude      0.761     0.835     0.797       164\n",
      "      trade      0.738     0.853     0.791       109\n",
      "   interest      0.767     0.786     0.776       117\n",
      "       ship      0.629     0.620     0.624        71\n",
      "      wheat      0.776     0.691     0.731        55\n",
      "       corn      0.630     0.756     0.687        45\n",
      "\n",
      "avg / total      0.886     0.918     0.901      2545\n",
      "\n",
      "CPU times: user 30.1 s, sys: 77.9 ms, total: 30.2 s\n",
      "Wall time: 30.3 s\n"
     ]
    }
   ],
   "source": [
    "%%time\n",
    "model = LinearSVC()\n",
    "model.fit(X_train, y_train)\n",
    "y_pred = model.predict(X_test)\n",
    "print(classification_report(y_test, y_pred, target_names=top_ten_names, labels=top_ten_ids, digits=3))"
   ]
  }
 ],
 "metadata": {
  "kernelspec": {
   "display_name": "python3",
   "language": "python",
   "name": "python3"
  }
 },
 "nbformat": 4,
 "nbformat_minor": 2
}
