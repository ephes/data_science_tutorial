{
 "cells": [
  {
   "cell_type": "code",
   "execution_count": null,
   "metadata": {},
   "outputs": [],
   "source": [
    "%config InlineBackend.figure_format = 'retina'"
   ]
  },
  {
   "cell_type": "code",
   "execution_count": null,
   "metadata": {},
   "outputs": [],
   "source": [
    "%load_ext autoreload\n",
    "\n",
    "%autoreload 1"
   ]
  },
  {
   "cell_type": "code",
   "execution_count": null,
   "metadata": {},
   "outputs": [],
   "source": [
    "import numpy as np\n",
    "import pandas as pd\n",
    "\n",
    "import pickle\n",
    "\n",
    "from pathlib import Path"
   ]
  },
  {
   "cell_type": "markdown",
   "metadata": {},
   "source": [
    "# Load data"
   ]
  },
  {
   "cell_type": "code",
   "execution_count": null,
   "metadata": {},
   "outputs": [],
   "source": [
    "data_root = Path.home() / \"data\" / \"tmp\"\n",
    "reuters_dir = data_root / \"reuters21578\"\n",
    "reuters_corpus_path = reuters_dir / \"corpus.pkl\"\n",
    "reuters = pickle.load(open(reuters_corpus_path, \"rb\"))\n",
    "top_ten_ids, top_ten_names = reuters.top_n(n=10)\n",
    "\n",
    "cache_dir = reuters_dir / \"cache\""
   ]
  },
  {
   "cell_type": "markdown",
   "metadata": {},
   "source": [
    "# Build dataframe"
   ]
  },
  {
   "cell_type": "code",
   "execution_count": null,
   "metadata": {},
   "outputs": [],
   "source": [
    "train_docs, test_docs = reuters.split_modapte()\n",
    "docs = train_docs + test_docs\n",
    "train_labels = reuters.get_labels(train_docs, set(top_ten_ids))\n",
    "test_labels = reuters.get_labels(test_docs, set(top_ten_ids))"
   ]
  },
  {
   "cell_type": "markdown",
   "metadata": {},
   "source": [
    "### Remove gaps"
   ]
  },
  {
   "cell_type": "code",
   "execution_count": null,
   "metadata": {},
   "outputs": [],
   "source": [
    "labels = train_labels + test_labels\n",
    "label_lookup = {}\n",
    "num = 0\n",
    "for label in sorted(labels):\n",
    "    if label not in label_lookup:\n",
    "        label_lookup[label] = num\n",
    "        num += 1\n",
    "labels = [label_lookup[l] for l in labels]\n",
    "train_labels = [label_lookup[l] for l in train_labels]\n",
    "test_labels = [label_lookup[l] for l in test_labels]\n",
    "top_ten_ids = [label_lookup[tid] for tid in top_ten_ids]"
   ]
  },
  {
   "cell_type": "code",
   "execution_count": null,
   "metadata": {},
   "outputs": [],
   "source": [
    "df = pd.DataFrame()\n",
    "df[\"modapte\"] = [d[\"modapte\"] for d in docs]\n",
    "df[\"label\"] = train_labels + test_labels\n",
    "df[\"date\"] = [d[\"date\"] for d in docs]\n",
    "df[\"title\"] = [d[\"title\"] for d in docs]\n",
    "df[\"dateline\"] = [d[\"dateline\"] for d in docs]\n",
    "df[\"body\"] = [d[\"body\"] for d in docs]\n",
    "df[\"date\"] = pd.to_datetime(df.date.str.split(\".\").apply(lambda x:x[0].lstrip()), format=\"%d-%b-%Y %H:%M:%S\")"
   ]
  },
  {
   "cell_type": "code",
   "execution_count": null,
   "metadata": {},
   "outputs": [],
   "source": [
    "df[\"wd_name\"] = df.date.dt.weekday_name"
   ]
  },
  {
   "cell_type": "code",
   "execution_count": null,
   "metadata": {},
   "outputs": [
    {
     "data": {
      "text/html": [
       "<div>\n",
       "<style scoped>\n",
       "    .dataframe tbody tr th:only-of-type {\n",
       "        vertical-align: middle;\n",
       "    }\n",
       "\n",
       "    .dataframe tbody tr th {\n",
       "        vertical-align: top;\n",
       "    }\n",
       "\n",
       "    .dataframe thead th {\n",
       "        text-align: right;\n",
       "    }\n",
       "</style>\n",
       "<table border=\"1\" class=\"dataframe\">\n",
       "  <thead>\n",
       "    <tr style=\"text-align: right;\">\n",
       "      <th></th>\n",
       "      <th>modapte</th>\n",
       "      <th>label</th>\n",
       "      <th>date</th>\n",
       "      <th>title</th>\n",
       "      <th>dateline</th>\n",
       "      <th>body</th>\n",
       "      <th>wd_name</th>\n",
       "    </tr>\n",
       "  </thead>\n",
       "  <tbody>\n",
       "    <tr>\n",
       "      <th>0</th>\n",
       "      <td>train</td>\n",
       "      <td>0</td>\n",
       "      <td>1987-03-11 18:14:49</td>\n",
       "      <td>U.S. ECONOMIC DATA KEY TO DEBT FUTURES OUTLOOK</td>\n",
       "      <td>CHICAGO, March 11 -</td>\n",
       "      <td>U.S. economic data this week could be\\nthe key...</td>\n",
       "      <td>Wednesday</td>\n",
       "    </tr>\n",
       "    <tr>\n",
       "      <th>1</th>\n",
       "      <td>train</td>\n",
       "      <td>3</td>\n",
       "      <td>1987-03-11 18:36:05</td>\n",
       "      <td>BANK OF BRITISH COLUMBIA 1ST QTR JAN 31 NET</td>\n",
       "      <td>VANCOUVER, British Columbia, March 11 -\\n</td>\n",
       "      <td>Oper shr loss two cts vs profit three cts\\n   ...</td>\n",
       "      <td>Wednesday</td>\n",
       "    </tr>\n",
       "    <tr>\n",
       "      <th>2</th>\n",
       "      <td>train</td>\n",
       "      <td>3</td>\n",
       "      <td>1987-03-11 18:38:02</td>\n",
       "      <td>RESTAURANT ASSOCIATES INC &lt;RA&gt; 4TH QTR JAN 3</td>\n",
       "      <td>NEW YORK, March 11 -\\n</td>\n",
       "      <td>Shr 25 cts vs 36 cts\\n    Net 1.4 mln vs 1.4 m...</td>\n",
       "      <td>Wednesday</td>\n",
       "    </tr>\n",
       "    <tr>\n",
       "      <th>3</th>\n",
       "      <td>train</td>\n",
       "      <td>3</td>\n",
       "      <td>1987-03-11 18:41:59</td>\n",
       "      <td>MICHIGAN GENERAL CORP &lt;MGL&gt; 4TH QTR</td>\n",
       "      <td>SADDLE BROOK, N.J., March 11 -\\n</td>\n",
       "      <td>Shr loss 1.02 dlrs vs 1.01 dlr\\n    Net loss 1...</td>\n",
       "      <td>Wednesday</td>\n",
       "    </tr>\n",
       "    <tr>\n",
       "      <th>4</th>\n",
       "      <td>train</td>\n",
       "      <td>4</td>\n",
       "      <td>1987-03-11 18:45:36</td>\n",
       "      <td>USX &lt;X&gt; PROVED OIL, GAS RESERVES FALL IN 1986</td>\n",
       "      <td>NEW YORK, March 11 -</td>\n",
       "      <td>USX Corp said proved reserves of oil\\nand natu...</td>\n",
       "      <td>Wednesday</td>\n",
       "    </tr>\n",
       "  </tbody>\n",
       "</table>\n",
       "</div>"
      ],
      "text/plain": [
       "  modapte  label                date  \\\n",
       "0   train      0 1987-03-11 18:14:49   \n",
       "1   train      3 1987-03-11 18:36:05   \n",
       "2   train      3 1987-03-11 18:38:02   \n",
       "3   train      3 1987-03-11 18:41:59   \n",
       "4   train      4 1987-03-11 18:45:36   \n",
       "\n",
       "                                            title  \\\n",
       "0  U.S. ECONOMIC DATA KEY TO DEBT FUTURES OUTLOOK   \n",
       "1     BANK OF BRITISH COLUMBIA 1ST QTR JAN 31 NET   \n",
       "2    RESTAURANT ASSOCIATES INC <RA> 4TH QTR JAN 3   \n",
       "3             MICHIGAN GENERAL CORP <MGL> 4TH QTR   \n",
       "4   USX <X> PROVED OIL, GAS RESERVES FALL IN 1986   \n",
       "\n",
       "                                            dateline  \\\n",
       "0                               CHICAGO, March 11 -    \n",
       "1      VANCOUVER, British Columbia, March 11 -\\n       \n",
       "2                         NEW YORK, March 11 -\\n       \n",
       "3               SADDLE BROOK, N.J., March 11 -\\n       \n",
       "4                              NEW YORK, March 11 -    \n",
       "\n",
       "                                                body    wd_name  \n",
       "0  U.S. economic data this week could be\\nthe key...  Wednesday  \n",
       "1  Oper shr loss two cts vs profit three cts\\n   ...  Wednesday  \n",
       "2  Shr 25 cts vs 36 cts\\n    Net 1.4 mln vs 1.4 m...  Wednesday  \n",
       "3  Shr loss 1.02 dlrs vs 1.01 dlr\\n    Net loss 1...  Wednesday  \n",
       "4  USX Corp said proved reserves of oil\\nand natu...  Wednesday  "
      ]
     },
     "execution_count": null,
     "metadata": {},
     "output_type": "execute_result"
    }
   ],
   "source": [
    "df.head()"
   ]
  },
  {
   "cell_type": "code",
   "execution_count": null,
   "metadata": {},
   "outputs": [
    {
     "data": {
      "text/plain": [
       "(10789, 7)"
      ]
     },
     "execution_count": null,
     "metadata": {},
     "output_type": "execute_result"
    }
   ],
   "source": [
    "df.shape"
   ]
  },
  {
   "cell_type": "markdown",
   "metadata": {},
   "source": [
    "# Build feature extraction pipeline"
   ]
  },
  {
   "cell_type": "code",
   "execution_count": null,
   "metadata": {},
   "outputs": [
    {
     "name": "stderr",
     "output_type": "stream",
     "text": [
      "/Users/jochen/miniconda3/envs/ds_tutorial/lib/python3.6/site-packages/lightgbm/__init__.py:46: UserWarning: Starting from version 2.2.1, the library file in distribution wheels for macOS is built by the Apple Clang (Xcode_9.4.1) compiler.\n",
      "This means that in case of installing LightGBM from PyPI via the ``pip install lightgbm`` command, you don't need to install the gcc compiler anymore.\n",
      "Instead of that, you need to install the OpenMP library, which is required for running LightGBM on the system with the Apple Clang compiler.\n",
      "You can install the OpenMP library by the following command: ``brew install libomp``.\n",
      "  \"You can install the OpenMP library by the following command: ``brew install libomp``.\", UserWarning)\n"
     ]
    }
   ],
   "source": [
    "from sklearn.pipeline import Pipeline\n",
    "from sklearn.pipeline import FeatureUnion\n",
    "\n",
    "from sklearn.preprocessing import Imputer\n",
    "from sklearn.preprocessing import StandardScaler\n",
    "\n",
    "from sklearn.decomposition import TruncatedSVD\n",
    "from sklearn.metrics import classification_report\n",
    "from sklearn.feature_extraction import DictVectorizer\n",
    "from sklearn.base import BaseEstimator, TransformerMixin\n",
    "from sklearn.feature_extraction.text import TfidfVectorizer\n",
    "\n",
    "from sklearn.svm import LinearSVC\n",
    "from sklearn.ensemble import RandomForestClassifier\n",
    "\n",
    "import xgboost as xgb\n",
    "import lightgbm as lgb"
   ]
  },
  {
   "cell_type": "code",
   "execution_count": null,
   "metadata": {},
   "outputs": [],
   "source": [
    "class EmptyFitMixin:\n",
    "    def fit(self, x, y=None):\n",
    "        return self"
   ]
  },
  {
   "cell_type": "code",
   "execution_count": null,
   "metadata": {},
   "outputs": [],
   "source": [
    "class TextFromColumns(EmptyFitMixin, BaseEstimator, TransformerMixin):\n",
    "    \"\"\"Extract the text from a list of columns in a single pass.\n",
    "\n",
    "    Takes a pandas dataframe and produces a series of texts\n",
    "    from joined columns defined in `text_cols`.\n",
    "    \"\"\"\n",
    "    def __init__(self, columns=[\"title\", \"body\"]):\n",
    "        self.text_cols = columns\n",
    "\n",
    "    def transform(self, df):\n",
    "        def join(items, axis=None):\n",
    "            return ' '.join([str(item) for item in items])\n",
    "\n",
    "        data = df[self.text_cols].apply(lambda x: \"\" if x[0] is None else x, axis=1)\n",
    "        texts = data.apply(join, axis=1)\n",
    "        return texts"
   ]
  },
  {
   "cell_type": "code",
   "execution_count": null,
   "metadata": {},
   "outputs": [],
   "source": [
    "class ColumnSelector(EmptyFitMixin, BaseEstimator, TransformerMixin):\n",
    "    def __init__(self, column, filter_none=True):\n",
    "        self.column = column\n",
    "        self.filter_none = filter_none\n",
    "\n",
    "    def transform(self, df):\n",
    "        col = df[self.column]\n",
    "        if self.filter_none:\n",
    "            col = col.apply(lambda x: \"\" if x is None else x)\n",
    "        return col"
   ]
  },
  {
   "cell_type": "code",
   "execution_count": null,
   "metadata": {},
   "outputs": [],
   "source": [
    "class FilterNone(EmptyFitMixin, BaseEstimator, TransformerMixin):\n",
    "    def __init__(self, column):\n",
    "        self.column = column\n",
    "\n",
    "    def transform(self, data):\n",
    "        return df[self.column].values"
   ]
  },
  {
   "cell_type": "code",
   "execution_count": null,
   "metadata": {},
   "outputs": [],
   "source": [
    "class TextStats(BaseEstimator, EmptyFitMixin, TransformerMixin):\n",
    "    \"\"\"Extract features from each document\"\"\"\n",
    "\n",
    "    def transform(self, col):\n",
    "        tc = col.str\n",
    "        features = [\n",
    "            tc.len(),  # character count\n",
    "            tc.count(\"\\n\"),  # line count\n",
    "            tc.count(\"\\.\"),  # sentence count\n",
    "            tc.split().apply(lambda x:len(x) if x is not None else 0),  # word count\n",
    "        ]\n",
    "        features = np.concatenate(\n",
    "            [f.values.reshape(-1, 1) for f in features],\n",
    "            axis=1,\n",
    "        )\n",
    "        where_are_NaNs = np.isnan(features)\n",
    "        features[where_are_NaNs] = 0\n",
    "        return features.astype(np.float)"
   ]
  },
  {
   "cell_type": "code",
   "execution_count": null,
   "metadata": {},
   "outputs": [],
   "source": [
    "df_train = df.query(\"modapte == 'train'\")\n",
    "df_test = df.query(\"modapte == 'test'\")\n",
    "y_train = df_train.label.values\n",
    "y_test = df_test.label.values"
   ]
  },
  {
   "cell_type": "markdown",
   "metadata": {},
   "source": [
    "## The actual pipeline"
   ]
  },
  {
   "cell_type": "code",
   "execution_count": null,
   "metadata": {},
   "outputs": [],
   "source": [
    "pipeline = Pipeline(\n",
    "    steps=[\n",
    "    (\"union\", FeatureUnion(n_jobs=4, transformer_list=[\n",
    "        (\"title_stats\", Pipeline([\n",
    "            (\"column\", ColumnSelector(\"title\")),\n",
    "            (\"stats\", TextStats()),\n",
    "            (\"scaled\", StandardScaler()),\n",
    "        ])),\n",
    "        (\"body_stats\", Pipeline([\n",
    "            (\"column\", ColumnSelector(\"body\")),\n",
    "            (\"stats\", TextStats()),\n",
    "            (\"scaled\", StandardScaler()),\n",
    "        ])),\n",
    "        (\"combined_text\", Pipeline([\n",
    "            (\"column\", TextFromColumns(columns=[\"title\", \"body\", \"wd_name\"])),\n",
    "            (\"tfidf\", TfidfVectorizer()),\n",
    "        ])),\n",
    "    ])),\n",
    "    (\"clf\", LinearSVC()),\n",
    "])"
   ]
  },
  {
   "cell_type": "code",
   "execution_count": null,
   "metadata": {},
   "outputs": [
    {
     "name": "stdout",
     "output_type": "stream",
     "text": [
      "             precision    recall  f1-score   support\n",
      "\n",
      "       earn      0.979     0.989     0.984      1087\n",
      "        acq      0.935     0.977     0.956       710\n",
      "   money-fx      0.734     0.800     0.766       145\n",
      "      grain      0.657     0.548     0.597        42\n",
      "      crude      0.802     0.890     0.844       164\n",
      "      trade      0.744     0.853     0.795       109\n",
      "   interest      0.822     0.752     0.786       117\n",
      "       ship      0.698     0.620     0.657        71\n",
      "      wheat      0.745     0.745     0.745        55\n",
      "       corn      0.646     0.689     0.667        45\n",
      "\n",
      "avg / total      0.900     0.924     0.911      2545\n",
      "\n"
     ]
    }
   ],
   "source": [
    "pipeline.fit(df_train, y_train)\n",
    "y_pred = pipeline.predict(df_test)\n",
    "print(classification_report(y_test, y_pred, target_names=top_ten_names, labels=top_ten_ids, digits=3))"
   ]
  }
 ],
 "metadata": {
  "kernelspec": {
   "display_name": "python3",
   "language": "python",
   "name": "python3"
  }
 },
 "nbformat": 4,
 "nbformat_minor": 2
}
