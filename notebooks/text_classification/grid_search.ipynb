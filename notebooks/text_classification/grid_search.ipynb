{
 "cells": [
  {
   "cell_type": "code",
   "execution_count": null,
   "metadata": {},
   "outputs": [],
   "source": [
    "%config InlineBackend.figure_format = 'retina'"
   ]
  },
  {
   "cell_type": "code",
   "execution_count": null,
   "metadata": {},
   "outputs": [],
   "source": [
    "%load_ext autoreload\n",
    "\n",
    "%autoreload 1\n",
    "%aimport ds_tutorial.datasets\n",
    "%aimport ds_tutorial.transformers"
   ]
  },
  {
   "cell_type": "code",
   "execution_count": null,
   "metadata": {},
   "outputs": [],
   "source": [
    "import numpy as np\n",
    "import pandas as pd\n",
    "\n",
    "import pickle\n",
    "\n",
    "from pathlib import Path"
   ]
  },
  {
   "cell_type": "markdown",
   "metadata": {},
   "source": [
    "# Load data"
   ]
  },
  {
   "cell_type": "code",
   "execution_count": null,
   "metadata": {},
   "outputs": [],
   "source": [
    "data_root = Path.home() / \"data\" / \"tmp\"\n",
    "reuters_dir = data_root / \"reuters21578\"\n",
    "reuters_corpus_path = reuters_dir / \"corpus.pkl\"\n",
    "reuters = pickle.load(open(reuters_corpus_path, \"rb\"))\n",
    "top_ten_ids, top_ten_names = reuters.top_n(n=10)\n",
    "\n",
    "cache_dir = reuters_dir / \"cache\""
   ]
  },
  {
   "cell_type": "markdown",
   "metadata": {},
   "source": [
    "## Build dataframe"
   ]
  },
  {
   "cell_type": "code",
   "execution_count": null,
   "metadata": {},
   "outputs": [],
   "source": [
    "train_docs, test_docs = reuters.split_modapte()\n",
    "docs = train_docs + test_docs\n",
    "train_labels = reuters.get_labels(train_docs, set(top_ten_ids))\n",
    "test_labels = reuters.get_labels(test_docs, set(top_ten_ids))"
   ]
  },
  {
   "cell_type": "code",
   "execution_count": null,
   "metadata": {},
   "outputs": [],
   "source": [
    "from ds_tutorial.datasets import build_reuters_dataframe\n",
    "df, top_ten_ids, train_labels, test_labels = build_reuters_dataframe(\n",
    "    docs, reuters.topics, train_labels, test_labels, top_ten_ids)"
   ]
  },
  {
   "cell_type": "code",
   "execution_count": null,
   "metadata": {},
   "outputs": [
    {
     "data": {
      "text/html": [
       "<div>\n",
       "<style scoped>\n",
       "    .dataframe tbody tr th:only-of-type {\n",
       "        vertical-align: middle;\n",
       "    }\n",
       "\n",
       "    .dataframe tbody tr th {\n",
       "        vertical-align: top;\n",
       "    }\n",
       "\n",
       "    .dataframe thead th {\n",
       "        text-align: right;\n",
       "    }\n",
       "</style>\n",
       "<table border=\"1\" class=\"dataframe\">\n",
       "  <thead>\n",
       "    <tr style=\"text-align: right;\">\n",
       "      <th></th>\n",
       "      <th>modapte</th>\n",
       "      <th>category</th>\n",
       "      <th>label</th>\n",
       "      <th>date</th>\n",
       "      <th>title</th>\n",
       "      <th>dateline</th>\n",
       "      <th>body</th>\n",
       "      <th>newid</th>\n",
       "      <th>wd_name</th>\n",
       "    </tr>\n",
       "  </thead>\n",
       "  <tbody>\n",
       "    <tr>\n",
       "      <th>0</th>\n",
       "      <td>train</td>\n",
       "      <td>interest</td>\n",
       "      <td>0</td>\n",
       "      <td>1987-03-11 18:14:49</td>\n",
       "      <td>U.S. ECONOMIC DATA KEY TO DEBT FUTURES OUTLOOK</td>\n",
       "      <td>CHICAGO, March 11 -</td>\n",
       "      <td>U.S. economic data this week could be\\nthe key...</td>\n",
       "      <td>4005</td>\n",
       "      <td>Wednesday</td>\n",
       "    </tr>\n",
       "    <tr>\n",
       "      <th>1</th>\n",
       "      <td>train</td>\n",
       "      <td>earn</td>\n",
       "      <td>3</td>\n",
       "      <td>1987-03-11 18:36:05</td>\n",
       "      <td>BANK OF BRITISH COLUMBIA 1ST QTR JAN 31 NET</td>\n",
       "      <td>VANCOUVER, British Columbia, March 11 -\\n</td>\n",
       "      <td>Oper shr loss two cts vs profit three cts\\n   ...</td>\n",
       "      <td>4012</td>\n",
       "      <td>Wednesday</td>\n",
       "    </tr>\n",
       "    <tr>\n",
       "      <th>2</th>\n",
       "      <td>train</td>\n",
       "      <td>earn</td>\n",
       "      <td>3</td>\n",
       "      <td>1987-03-11 18:38:02</td>\n",
       "      <td>RESTAURANT ASSOCIATES INC &lt;RA&gt; 4TH QTR JAN 3</td>\n",
       "      <td>NEW YORK, March 11 -\\n</td>\n",
       "      <td>Shr 25 cts vs 36 cts\\n    Net 1.4 mln vs 1.4 m...</td>\n",
       "      <td>4014</td>\n",
       "      <td>Wednesday</td>\n",
       "    </tr>\n",
       "    <tr>\n",
       "      <th>3</th>\n",
       "      <td>train</td>\n",
       "      <td>earn</td>\n",
       "      <td>3</td>\n",
       "      <td>1987-03-11 18:41:59</td>\n",
       "      <td>MICHIGAN GENERAL CORP &lt;MGL&gt; 4TH QTR</td>\n",
       "      <td>SADDLE BROOK, N.J., March 11 -\\n</td>\n",
       "      <td>Shr loss 1.02 dlrs vs 1.01 dlr\\n    Net loss 1...</td>\n",
       "      <td>4015</td>\n",
       "      <td>Wednesday</td>\n",
       "    </tr>\n",
       "    <tr>\n",
       "      <th>4</th>\n",
       "      <td>train</td>\n",
       "      <td>crude</td>\n",
       "      <td>4</td>\n",
       "      <td>1987-03-11 18:45:36</td>\n",
       "      <td>USX &lt;X&gt; PROVED OIL, GAS RESERVES FALL IN 1986</td>\n",
       "      <td>NEW YORK, March 11 -</td>\n",
       "      <td>USX Corp said proved reserves of oil\\nand natu...</td>\n",
       "      <td>4016</td>\n",
       "      <td>Wednesday</td>\n",
       "    </tr>\n",
       "  </tbody>\n",
       "</table>\n",
       "</div>"
      ],
      "text/plain": [
       "  modapte  category  label                date  \\\n",
       "0   train  interest      0 1987-03-11 18:14:49   \n",
       "1   train      earn      3 1987-03-11 18:36:05   \n",
       "2   train      earn      3 1987-03-11 18:38:02   \n",
       "3   train      earn      3 1987-03-11 18:41:59   \n",
       "4   train     crude      4 1987-03-11 18:45:36   \n",
       "\n",
       "                                            title  \\\n",
       "0  U.S. ECONOMIC DATA KEY TO DEBT FUTURES OUTLOOK   \n",
       "1     BANK OF BRITISH COLUMBIA 1ST QTR JAN 31 NET   \n",
       "2    RESTAURANT ASSOCIATES INC <RA> 4TH QTR JAN 3   \n",
       "3             MICHIGAN GENERAL CORP <MGL> 4TH QTR   \n",
       "4   USX <X> PROVED OIL, GAS RESERVES FALL IN 1986   \n",
       "\n",
       "                                            dateline  \\\n",
       "0                               CHICAGO, March 11 -    \n",
       "1      VANCOUVER, British Columbia, March 11 -\\n       \n",
       "2                         NEW YORK, March 11 -\\n       \n",
       "3               SADDLE BROOK, N.J., March 11 -\\n       \n",
       "4                              NEW YORK, March 11 -    \n",
       "\n",
       "                                                body newid    wd_name  \n",
       "0  U.S. economic data this week could be\\nthe key...  4005  Wednesday  \n",
       "1  Oper shr loss two cts vs profit three cts\\n   ...  4012  Wednesday  \n",
       "2  Shr 25 cts vs 36 cts\\n    Net 1.4 mln vs 1.4 m...  4014  Wednesday  \n",
       "3  Shr loss 1.02 dlrs vs 1.01 dlr\\n    Net loss 1...  4015  Wednesday  \n",
       "4  USX Corp said proved reserves of oil\\nand natu...  4016  Wednesday  "
      ]
     },
     "execution_count": null,
     "metadata": {},
     "output_type": "execute_result"
    }
   ],
   "source": [
    "df.head()"
   ]
  },
  {
   "cell_type": "markdown",
   "metadata": {},
   "source": [
    "# Build feature extraction pipeline"
   ]
  },
  {
   "cell_type": "code",
   "execution_count": null,
   "metadata": {},
   "outputs": [
    {
     "name": "stderr",
     "output_type": "stream",
     "text": [
      "/Users/jochen/miniconda3/envs/ds_tutorial/lib/python3.6/site-packages/lightgbm/__init__.py:46: UserWarning: Starting from version 2.2.1, the library file in distribution wheels for macOS is built by the Apple Clang (Xcode_8.3.3) compiler.\n",
      "This means that in case of installing LightGBM from PyPI via the ``pip install lightgbm`` command, you don't need to install the gcc compiler anymore.\n",
      "Instead of that, you need to install the OpenMP library, which is required for running LightGBM on the system with the Apple Clang compiler.\n",
      "You can install the OpenMP library by the following command: ``brew install libomp``.\n",
      "  \"You can install the OpenMP library by the following command: ``brew install libomp``.\", UserWarning)\n"
     ]
    }
   ],
   "source": [
    "from sklearn.pipeline import Pipeline\n",
    "from sklearn.pipeline import FeatureUnion\n",
    "\n",
    "from sklearn.preprocessing import Imputer\n",
    "from sklearn.preprocessing import StandardScaler\n",
    "\n",
    "from sklearn.decomposition import TruncatedSVD\n",
    "from sklearn.metrics import classification_report\n",
    "from sklearn.feature_extraction.text import TfidfVectorizer\n",
    "\n",
    "from sklearn.svm import LinearSVC\n",
    "from sklearn.linear_model import LogisticRegression\n",
    "from sklearn.ensemble import RandomForestClassifier\n",
    "\n",
    "import xgboost as xgb\n",
    "import lightgbm as lgb"
   ]
  },
  {
   "cell_type": "code",
   "execution_count": null,
   "metadata": {},
   "outputs": [],
   "source": [
    "from ds_tutorial.transformers import TextFromColumns, TextStats, ColumnSelector, TextFromColumns2"
   ]
  },
  {
   "cell_type": "code",
   "execution_count": null,
   "metadata": {},
   "outputs": [],
   "source": [
    "df_train = df.query(\"modapte == 'train'\")\n",
    "df_test = df.query(\"modapte == 'test'\")\n",
    "y_train = df_train.label.values\n",
    "y_test = df_test.label.values"
   ]
  },
  {
   "cell_type": "code",
   "execution_count": null,
   "metadata": {},
   "outputs": [],
   "source": [
    "pipeline = Pipeline(\n",
    "    memory=str(cache_dir),\n",
    "    steps=[\n",
    "        (\"union\", FeatureUnion(n_jobs=1, transformer_list=[\n",
    "            (\"title_stats\", Pipeline([\n",
    "                (\"column\", ColumnSelector(\"title\")),\n",
    "                (\"stats\", TextStats()),\n",
    "                (\"scaled\", StandardScaler()),\n",
    "            ])),\n",
    "            (\"body_stats\", Pipeline([\n",
    "                (\"column\", ColumnSelector(\"body\")),\n",
    "                (\"stats\", TextStats()),\n",
    "                (\"scaled\", StandardScaler()),\n",
    "            ])),\n",
    "            (\"combined_text\", Pipeline([\n",
    "                (\"column\", TextFromColumns2()),\n",
    "                (\"tfidf\", TfidfVectorizer()),\n",
    "            ])),\n",
    "        ])),\n",
    "        #(\"clf\", LinearSVC(C=1.5)),\n",
    "        (\"clf\", LogisticRegression(C=100, solver=\"liblinear\", multi_class=\"ovr\")),\n",
    "        # (\"clf\", RandomForestClassifier())\n",
    "        # (\"clf\", xgb.XGBClassifier())\n",
    "])"
   ]
  },
  {
   "cell_type": "code",
   "execution_count": null,
   "metadata": {},
   "outputs": [
    {
     "name": "stdout",
     "output_type": "stream",
     "text": [
      "              precision    recall  f1-score   support\n",
      "\n",
      "        earn      0.977     0.989     0.983      1087\n",
      "         acq      0.925     0.976     0.950       710\n",
      "    money-fx      0.712     0.800     0.753       145\n",
      "       grain      0.583     0.500     0.538        42\n",
      "       crude      0.783     0.878     0.828       164\n",
      "       trade      0.699     0.872     0.776       109\n",
      "    interest      0.794     0.726     0.759       117\n",
      "        ship      0.672     0.577     0.621        71\n",
      "       wheat      0.704     0.691     0.697        55\n",
      "        corn      0.638     0.667     0.652        45\n",
      "\n",
      "   micro avg      0.887     0.919     0.902      2545\n",
      "   macro avg      0.749     0.768     0.756      2545\n",
      "weighted avg      0.888     0.919     0.902      2545\n",
      "\n"
     ]
    }
   ],
   "source": [
    "pipeline.fit(df_train, y_train)\n",
    "y_pred = pipeline.predict(df_test)\n",
    "print(classification_report(y_test, y_pred, target_names=top_ten_names, labels=top_ten_ids, digits=3))"
   ]
  },
  {
   "cell_type": "markdown",
   "metadata": {},
   "source": [
    "# Grid search"
   ]
  },
  {
   "cell_type": "code",
   "execution_count": null,
   "metadata": {},
   "outputs": [],
   "source": [
    "from sklearn.model_selection import GridSearchCV"
   ]
  },
  {
   "cell_type": "markdown",
   "metadata": {},
   "source": [
    "## linear models"
   ]
  },
  {
   "cell_type": "code",
   "execution_count": null,
   "metadata": {},
   "outputs": [],
   "source": [
    "param_grid = {\n",
    "    \"clf__C\": [1, 100],\n",
    "    \"clf\": [LinearSVC(), LogisticRegression()],\n",
    "}"
   ]
  },
  {
   "cell_type": "code",
   "execution_count": null,
   "metadata": {},
   "outputs": [
    {
     "name": "stdout",
     "output_type": "stream",
     "text": [
      "Fitting 3 folds for each of 4 candidates, totalling 12 fits\n",
      "[CV] clf=LinearSVC(C=1.0, class_weight=None, dual=True, fit_intercept=True,\n",
      "     intercept_scaling=1, loss='squared_hinge', max_iter=1000,\n",
      "     multi_class='ovr', penalty='l2', random_state=None, tol=0.0001,\n",
      "     verbose=0), clf__C=1 \n"
     ]
    },
    {
     "name": "stderr",
     "output_type": "stream",
     "text": [
      "/Users/jochen/miniconda3/envs/ds_tutorial/lib/python3.6/site-packages/sklearn/model_selection/_split.py:605: Warning: The least populated class in y has only 1 members, which is too few. The minimum number of members in any class cannot be less than n_splits=3.\n",
      "  % (min_groups, self.n_splits)), Warning)\n"
     ]
    },
    {
     "name": "stdout",
     "output_type": "stream",
     "text": [
      "[CV]  clf=LinearSVC(C=1.0, class_weight=None, dual=True, fit_intercept=True,\n",
      "     intercept_scaling=1, loss='squared_hinge', max_iter=1000,\n",
      "     multi_class='ovr', penalty='l2', random_state=None, tol=0.0001,\n",
      "     verbose=0), clf__C=1, score=0.8709431080565102, total=   8.6s\n",
      "[CV] clf=LinearSVC(C=1, class_weight=None, dual=True, fit_intercept=True,\n",
      "     intercept_scaling=1, loss='squared_hinge', max_iter=1000,\n",
      "     multi_class='ovr', penalty='l2', random_state=None, tol=0.0001,\n",
      "     verbose=0), clf__C=1 \n"
     ]
    },
    {
     "name": "stderr",
     "output_type": "stream",
     "text": [
      "[Parallel(n_jobs=1)]: Done   1 out of   1 | elapsed:    9.9s remaining:    0.0s\n"
     ]
    },
    {
     "name": "stdout",
     "output_type": "stream",
     "text": [
      "[CV]  clf=LinearSVC(C=1, class_weight=None, dual=True, fit_intercept=True,\n",
      "     intercept_scaling=1, loss='squared_hinge', max_iter=1000,\n",
      "     multi_class='ovr', penalty='l2', random_state=None, tol=0.0001,\n",
      "     verbose=0), clf__C=1, score=0.8940858136838037, total=   9.2s\n",
      "[CV] clf=LinearSVC(C=1, class_weight=None, dual=True, fit_intercept=True,\n",
      "     intercept_scaling=1, loss='squared_hinge', max_iter=1000,\n",
      "     multi_class='ovr', penalty='l2', random_state=None, tol=0.0001,\n",
      "     verbose=0), clf__C=1 \n"
     ]
    },
    {
     "name": "stderr",
     "output_type": "stream",
     "text": [
      "[Parallel(n_jobs=1)]: Done   2 out of   2 | elapsed:   20.3s remaining:    0.0s\n"
     ]
    },
    {
     "name": "stdout",
     "output_type": "stream",
     "text": [
      "[CV]  clf=LinearSVC(C=1, class_weight=None, dual=True, fit_intercept=True,\n",
      "     intercept_scaling=1, loss='squared_hinge', max_iter=1000,\n",
      "     multi_class='ovr', penalty='l2', random_state=None, tol=0.0001,\n",
      "     verbose=0), clf__C=1, score=0.8876755070202809, total=  10.0s\n",
      "[CV] clf=LinearSVC(C=1, class_weight=None, dual=True, fit_intercept=True,\n",
      "     intercept_scaling=1, loss='squared_hinge', max_iter=1000,\n",
      "     multi_class='ovr', penalty='l2', random_state=None, tol=0.0001,\n",
      "     verbose=0), clf__C=100 \n"
     ]
    },
    {
     "name": "stderr",
     "output_type": "stream",
     "text": [
      "[Parallel(n_jobs=1)]: Done   3 out of   3 | elapsed:   31.6s remaining:    0.0s\n"
     ]
    },
    {
     "name": "stdout",
     "output_type": "stream",
     "text": [
      "[CV]  clf=LinearSVC(C=1, class_weight=None, dual=True, fit_intercept=True,\n",
      "     intercept_scaling=1, loss='squared_hinge', max_iter=1000,\n",
      "     multi_class='ovr', penalty='l2', random_state=None, tol=0.0001,\n",
      "     verbose=0), clf__C=100, score=0.8671248568155785, total=   9.2s\n",
      "[CV] clf=LinearSVC(C=100, class_weight=None, dual=True, fit_intercept=True,\n",
      "     intercept_scaling=1, loss='squared_hinge', max_iter=1000,\n",
      "     multi_class='ovr', penalty='l2', random_state=None, tol=0.0001,\n",
      "     verbose=0), clf__C=100 \n"
     ]
    },
    {
     "name": "stderr",
     "output_type": "stream",
     "text": [
      "[Parallel(n_jobs=1)]: Done   4 out of   4 | elapsed:   42.4s remaining:    0.0s\n"
     ]
    },
    {
     "name": "stdout",
     "output_type": "stream",
     "text": [
      "[CV]  clf=LinearSVC(C=100, class_weight=None, dual=True, fit_intercept=True,\n",
      "     intercept_scaling=1, loss='squared_hinge', max_iter=1000,\n",
      "     multi_class='ovr', penalty='l2', random_state=None, tol=0.0001,\n",
      "     verbose=0), clf__C=100, score=0.885195206803247, total=  10.3s\n",
      "[CV] clf=LinearSVC(C=100, class_weight=None, dual=True, fit_intercept=True,\n",
      "     intercept_scaling=1, loss='squared_hinge', max_iter=1000,\n",
      "     multi_class='ovr', penalty='l2', random_state=None, tol=0.0001,\n",
      "     verbose=0), clf__C=100 \n"
     ]
    },
    {
     "name": "stderr",
     "output_type": "stream",
     "text": [
      "[Parallel(n_jobs=1)]: Done   5 out of   5 | elapsed:   54.0s remaining:    0.0s\n"
     ]
    },
    {
     "name": "stdout",
     "output_type": "stream",
     "text": [
      "[CV]  clf=LinearSVC(C=100, class_weight=None, dual=True, fit_intercept=True,\n",
      "     intercept_scaling=1, loss='squared_hinge', max_iter=1000,\n",
      "     multi_class='ovr', penalty='l2', random_state=None, tol=0.0001,\n",
      "     verbose=0), clf__C=100, score=0.8779251170046802, total=   9.1s\n",
      "[CV] clf=LogisticRegression(C=1.0, class_weight=None, dual=False, fit_intercept=True,\n",
      "          intercept_scaling=1, max_iter=100, multi_class='ovr', n_jobs=1,\n",
      "          penalty='l2', random_state=None, solver='liblinear', tol=0.0001,\n",
      "          verbose=0, warm_start=False), clf__C=1 \n"
     ]
    },
    {
     "name": "stderr",
     "output_type": "stream",
     "text": [
      "[Parallel(n_jobs=1)]: Done   6 out of   6 | elapsed:  1.1min remaining:    0.0s\n"
     ]
    },
    {
     "name": "stdout",
     "output_type": "stream",
     "text": [
      "[CV]  clf=LogisticRegression(C=1.0, class_weight=None, dual=False, fit_intercept=True,\n",
      "          intercept_scaling=1, max_iter=100, multi_class='ovr', n_jobs=1,\n",
      "          penalty='l2', random_state=None, solver='liblinear', tol=0.0001,\n",
      "          verbose=0, warm_start=False), clf__C=1, score=0.81061473844979, total=   7.2s\n",
      "[CV] clf=LogisticRegression(C=1, class_weight=None, dual=False, fit_intercept=True,\n",
      "          intercept_scaling=1, max_iter=100, multi_class='ovr', n_jobs=1,\n",
      "          penalty='l2', random_state=None, solver='liblinear', tol=0.0001,\n",
      "          verbose=0, warm_start=False), clf__C=1 \n"
     ]
    },
    {
     "name": "stderr",
     "output_type": "stream",
     "text": [
      "[Parallel(n_jobs=1)]: Done   7 out of   7 | elapsed:  1.2min remaining:    0.0s\n"
     ]
    },
    {
     "name": "stdout",
     "output_type": "stream",
     "text": [
      "[CV]  clf=LogisticRegression(C=1, class_weight=None, dual=False, fit_intercept=True,\n",
      "          intercept_scaling=1, max_iter=100, multi_class='ovr', n_jobs=1,\n",
      "          penalty='l2', random_state=None, solver='liblinear', tol=0.0001,\n",
      "          verbose=0, warm_start=False), clf__C=1, score=0.818708929261693, total=   8.4s\n",
      "[CV] clf=LogisticRegression(C=1, class_weight=None, dual=False, fit_intercept=True,\n",
      "          intercept_scaling=1, max_iter=100, multi_class='ovr', n_jobs=1,\n",
      "          penalty='l2', random_state=None, solver='liblinear', tol=0.0001,\n",
      "          verbose=0, warm_start=False), clf__C=1 \n"
     ]
    },
    {
     "name": "stderr",
     "output_type": "stream",
     "text": [
      "[Parallel(n_jobs=1)]: Done   8 out of   8 | elapsed:  1.4min remaining:    0.0s\n"
     ]
    },
    {
     "name": "stdout",
     "output_type": "stream",
     "text": [
      "[CV]  clf=LogisticRegression(C=1, class_weight=None, dual=False, fit_intercept=True,\n",
      "          intercept_scaling=1, max_iter=100, multi_class='ovr', n_jobs=1,\n",
      "          penalty='l2', random_state=None, solver='liblinear', tol=0.0001,\n",
      "          verbose=0, warm_start=False), clf__C=1, score=0.8213728549141965, total=   8.2s\n",
      "[CV] clf=LogisticRegression(C=1, class_weight=None, dual=False, fit_intercept=True,\n",
      "          intercept_scaling=1, max_iter=100, multi_class='ovr', n_jobs=1,\n",
      "          penalty='l2', random_state=None, solver='liblinear', tol=0.0001,\n",
      "          verbose=0, warm_start=False), clf__C=100 \n"
     ]
    },
    {
     "name": "stderr",
     "output_type": "stream",
     "text": [
      "[Parallel(n_jobs=1)]: Done   9 out of   9 | elapsed:  1.5min remaining:    0.0s\n"
     ]
    },
    {
     "name": "stdout",
     "output_type": "stream",
     "text": [
      "[CV]  clf=LogisticRegression(C=1, class_weight=None, dual=False, fit_intercept=True,\n",
      "          intercept_scaling=1, max_iter=100, multi_class='ovr', n_jobs=1,\n",
      "          penalty='l2', random_state=None, solver='liblinear', tol=0.0001,\n",
      "          verbose=0, warm_start=False), clf__C=100, score=0.8652157311951126, total=  11.0s\n",
      "[CV] clf=LogisticRegression(C=100, class_weight=None, dual=False, fit_intercept=True,\n",
      "          intercept_scaling=1, max_iter=100, multi_class='ovr', n_jobs=1,\n",
      "          penalty='l2', random_state=None, solver='liblinear', tol=0.0001,\n",
      "          verbose=0, warm_start=False), clf__C=100 \n",
      "[CV]  clf=LogisticRegression(C=100, class_weight=None, dual=False, fit_intercept=True,\n",
      "          intercept_scaling=1, max_iter=100, multi_class='ovr', n_jobs=1,\n",
      "          penalty='l2', random_state=None, solver='liblinear', tol=0.0001,\n",
      "          verbose=0, warm_start=False), clf__C=100, score=0.8882875918051798, total=  14.3s\n",
      "[CV] clf=LogisticRegression(C=100, class_weight=None, dual=False, fit_intercept=True,\n",
      "          intercept_scaling=1, max_iter=100, multi_class='ovr', n_jobs=1,\n",
      "          penalty='l2', random_state=None, solver='liblinear', tol=0.0001,\n",
      "          verbose=0, warm_start=False), clf__C=100 \n",
      "[CV]  clf=LogisticRegression(C=100, class_weight=None, dual=False, fit_intercept=True,\n",
      "          intercept_scaling=1, max_iter=100, multi_class='ovr', n_jobs=1,\n",
      "          penalty='l2', random_state=None, solver='liblinear', tol=0.0001,\n",
      "          verbose=0, warm_start=False), clf__C=100, score=0.8763650546021841, total=  13.8s\n"
     ]
    },
    {
     "name": "stderr",
     "output_type": "stream",
     "text": [
      "[Parallel(n_jobs=1)]: Done  12 out of  12 | elapsed:  2.2min finished\n"
     ]
    },
    {
     "name": "stdout",
     "output_type": "stream",
     "text": [
      "Pipeline(memory='/Users/jochen/data/tmp/reuters21578/cache',\n",
      "     steps=[('union', FeatureUnion(n_jobs=1,\n",
      "       transformer_list=[('title_stats', Pipeline(memory=None,\n",
      "     steps=[('column', ColumnSelector(column='title', filter_none=True)), ('stats', TextStats()), ('scaled', StandardScaler(copy=True, with_mean=True, with_std=True))])), ('body_stats', Pipeline(me...ax_iter=1000,\n",
      "     multi_class='ovr', penalty='l2', random_state=None, tol=0.0001,\n",
      "     verbose=0))])\n"
     ]
    }
   ],
   "source": [
    "grid_search = GridSearchCV(pipeline, param_grid=param_grid, verbose=10, scoring=\"f1_micro\")\n",
    "grid_search.fit(df_train, y_train)\n",
    "print(grid_search.best_estimator_)"
   ]
  },
  {
   "cell_type": "code",
   "execution_count": null,
   "metadata": {},
   "outputs": [
    {
     "name": "stdout",
     "output_type": "stream",
     "text": [
      "             precision    recall  f1-score   support\n",
      "\n",
      "       earn      0.979     0.989     0.984      1087\n",
      "        acq      0.937     0.977     0.957       710\n",
      "   money-fx      0.739     0.800     0.768       145\n",
      "      grain      0.647     0.524     0.579        42\n",
      "      crude      0.802     0.890     0.844       164\n",
      "      trade      0.732     0.853     0.788       109\n",
      "   interest      0.821     0.744     0.780       117\n",
      "       ship      0.698     0.620     0.657        71\n",
      "      wheat      0.745     0.745     0.745        55\n",
      "       corn      0.646     0.689     0.667        45\n",
      "\n",
      "avg / total      0.900     0.923     0.911      2545\n",
      "\n"
     ]
    }
   ],
   "source": [
    "y_pred = grid_search.predict(df_test)\n",
    "print(classification_report(y_test, y_pred, target_names=top_ten_names, labels=top_ten_ids, digits=3))"
   ]
  },
  {
   "cell_type": "code",
   "execution_count": null,
   "metadata": {},
   "outputs": [],
   "source": [
    "#grid_search.cv_results_"
   ]
  },
  {
   "cell_type": "markdown",
   "metadata": {},
   "source": [
    "## xgboost"
   ]
  },
  {
   "cell_type": "code",
   "execution_count": null,
   "metadata": {},
   "outputs": [],
   "source": [
    "import xgboost as xgb"
   ]
  },
  {
   "cell_type": "code",
   "execution_count": null,
   "metadata": {},
   "outputs": [],
   "source": [
    "pipeline = Pipeline(\n",
    "    memory=str(cache_dir),\n",
    "    steps=[\n",
    "        (\"union\", FeatureUnion(n_jobs=1, transformer_list=[\n",
    "            (\"title_stats\", Pipeline([\n",
    "                (\"column\", ColumnSelector(\"title\")),\n",
    "                (\"stats\", TextStats()),\n",
    "                (\"scaled\", StandardScaler()),\n",
    "            ])),\n",
    "            (\"body_stats\", Pipeline([\n",
    "                (\"column\", ColumnSelector(\"body\")),\n",
    "                (\"stats\", TextStats()),\n",
    "                (\"scaled\", StandardScaler()),\n",
    "            ])),\n",
    "            (\"combined_text\", Pipeline([\n",
    "                (\"column\", TextFromColumns2()),\n",
    "                (\"tfidf\", TfidfVectorizer()),\n",
    "                (\"svd\", TruncatedSVD(n_components=300, random_state=2018))\n",
    "            ])),\n",
    "        ])),\n",
    "        (\"clf\", xgb.XGBClassifier(nthread=4, early_stopping_rounds=10))\n",
    "])"
   ]
  },
  {
   "cell_type": "code",
   "execution_count": null,
   "metadata": {},
   "outputs": [
    {
     "name": "stderr",
     "output_type": "stream",
     "text": [
      "/Users/jochen/miniconda3/envs/ds_tutorial/lib/python3.6/site-packages/sklearn/pipeline.py:230: UserWarning: Persisting input arguments took 2.82s to run.\n",
      "If this happens often in your code, it can cause performance problems \n",
      "(results will be correct in all cases). \n",
      "The reason for this is probably some large input arguments for a wrapped\n",
      " function (e.g. large strings).\n",
      "THIS IS A JOBLIB ISSUE. If you can, kindly provide the joblib's team with an\n",
      " example so that they can fix the problem.\n",
      "  **fit_params_steps[name])\n"
     ]
    }
   ],
   "source": [
    "%%time\n",
    "pipeline.fit(df_train, y_train)\n",
    "y_pred = pipeline.predict(df_test)\n",
    "print(classification_report(y_test, y_pred, target_names=top_ten_names, labels=top_ten_ids, digits=3))"
   ]
  },
  {
   "cell_type": "code",
   "execution_count": null,
   "metadata": {},
   "outputs": [
    {
     "name": "stdout",
     "output_type": "stream",
     "text": [
      "('clf', XGBClassifier(base_score=0.5, booster='gbtree', colsample_bylevel=1,\n",
      "       colsample_bytree=1, early_stopping_rounds=10, gamma=0,\n",
      "       learning_rate=0.1, max_delta_step=0, max_depth=3,\n",
      "       min_child_weight=1, missing=None, n_estimators=100, n_jobs=1,\n",
      "       nthread=4, objective='multi:softprob', random_state=0, reg_alpha=0,\n",
      "       reg_lambda=1, scale_pos_weight=1, seed=None, silent=True,\n",
      "       subsample=1))\n"
     ]
    }
   ],
   "source": [
    "print(pipeline.steps[-1])"
   ]
  },
  {
   "cell_type": "code",
   "execution_count": null,
   "metadata": {},
   "outputs": [],
   "source": [
    "xgb_params = {\n",
    "    \"nthread\": [4],\n",
    "    \"objective\": [\"multi:softprob\"],\n",
    "    \"learning_rate\": [0.05, 0.001],\n",
    "    \"max_depth\": [10],\n",
    "    \"random_state\": [2018],\n",
    "    \"gamma\": [0, 0.1],\n",
    "    \"reg_alpha\": [0],\n",
    "    \"n_estimators\": [200],\n",
    "}\n",
    "\n",
    "param_grid = {\n",
    "    \"clf\": [xgb.XGBClassifier(early_stopping_rounds=3)]\n",
    "}\n",
    "param_grid.update({f\"clf__{k}\": v for k, v in xgb_params.items()})"
   ]
  },
  {
   "cell_type": "code",
   "execution_count": null,
   "metadata": {},
   "outputs": [
    {
     "data": {
      "text/plain": [
       "{'clf': [XGBClassifier(base_score=0.5, booster='gbtree', colsample_bylevel=1,\n",
       "         colsample_bytree=1, early_stopping_rounds=3, gamma=0,\n",
       "         learning_rate=0.1, max_delta_step=0, max_depth=3,\n",
       "         min_child_weight=1, missing=None, n_estimators=100, n_jobs=1,\n",
       "         nthread=None, objective='binary:logistic', random_state=0,\n",
       "         reg_alpha=0, reg_lambda=1, scale_pos_weight=1, seed=None,\n",
       "         silent=True, subsample=1)],\n",
       " 'clf__nthread': [4],\n",
       " 'clf__objective': ['multi:softprob'],\n",
       " 'clf__learning_rate': [0.05, 0.001],\n",
       " 'clf__max_depth': [10],\n",
       " 'clf__random_state': [2018],\n",
       " 'clf__gamma': [0, 0.1],\n",
       " 'clf__reg_alpha': [0],\n",
       " 'clf__n_estimators': [200]}"
      ]
     },
     "execution_count": null,
     "metadata": {},
     "output_type": "execute_result"
    }
   ],
   "source": [
    "param_grid"
   ]
  },
  {
   "cell_type": "code",
   "execution_count": null,
   "metadata": {},
   "outputs": [
    {
     "name": "stdout",
     "output_type": "stream",
     "text": [
      "Fitting 3 folds for each of 4 candidates, totalling 12 fits\n",
      "[CV] clf=XGBClassifier(base_score=0.5, booster='gbtree', colsample_bylevel=1,\n",
      "       colsample_bytree=1, early_stopping_rounds=3, gamma=0,\n",
      "       learning_rate=0.1, max_delta_step=0, max_depth=3,\n",
      "       min_child_weight=1, missing=None, n_estimators=100, n_jobs=1,\n",
      "       nthread=None, objective='binary:logistic', random_state=0,\n",
      "       reg_alpha=0, reg_lambda=1, scale_pos_weight=1, seed=None,\n",
      "       silent=True, subsample=1), clf__gamma=0, clf__learning_rate=0.05, clf__max_depth=10, clf__n_estimators=200, clf__nthread=4, clf__objective=multi:softprob, clf__random_state=2018, clf__reg_alpha=0 \n"
     ]
    },
    {
     "name": "stderr",
     "output_type": "stream",
     "text": [
      "/Users/jochen/miniconda3/envs/ds_tutorial/lib/python3.6/site-packages/sklearn/model_selection/_split.py:605: Warning: The least populated class in y has only 1 members, which is too few. The minimum number of members in any class cannot be less than n_splits=3.\n",
      "  % (min_groups, self.n_splits)), Warning)\n",
      "/Users/jochen/miniconda3/envs/ds_tutorial/lib/python3.6/site-packages/sklearn/preprocessing/label.py:151: DeprecationWarning: The truth value of an empty array is ambiguous. Returning False, but in future this will result in an error. Use `array.size > 0` to check that an array is not empty.\n",
      "  if diff:\n",
      "/Users/jochen/miniconda3/envs/ds_tutorial/lib/python3.6/site-packages/sklearn/preprocessing/label.py:151: DeprecationWarning: The truth value of an empty array is ambiguous. Returning False, but in future this will result in an error. Use `array.size > 0` to check that an array is not empty.\n",
      "  if diff:\n",
      "[Parallel(n_jobs=1)]: Done   1 out of   1 | elapsed:  6.5min remaining:    0.0s\n"
     ]
    },
    {
     "name": "stdout",
     "output_type": "stream",
     "text": [
      "[CV]  clf=XGBClassifier(base_score=0.5, booster='gbtree', colsample_bylevel=1,\n",
      "       colsample_bytree=1, early_stopping_rounds=3, gamma=0,\n",
      "       learning_rate=0.1, max_delta_step=0, max_depth=3,\n",
      "       min_child_weight=1, missing=None, n_estimators=100, n_jobs=1,\n",
      "       nthread=None, objective='binary:logistic', random_state=0,\n",
      "       reg_alpha=0, reg_lambda=1, scale_pos_weight=1, seed=None,\n",
      "       silent=True, subsample=1), clf__gamma=0, clf__learning_rate=0.05, clf__max_depth=10, clf__n_estimators=200, clf__nthread=4, clf__objective=multi:softprob, clf__random_state=2018, clf__reg_alpha=0, total= 6.3min\n",
      "[CV] clf=XGBClassifier(base_score=0.5, booster='gbtree', colsample_bylevel=1,\n",
      "       colsample_bytree=1, early_stopping_rounds=3, gamma=0,\n",
      "       learning_rate=0.05, max_delta_step=0, max_depth=10,\n",
      "       min_child_weight=1, missing=None, n_estimators=200, n_jobs=1,\n",
      "       nthread=4, objective='multi:softprob', random_state=2018,\n",
      "       reg_alpha=0, reg_lambda=1, scale_pos_weight=1, seed=None,\n",
      "       silent=True, subsample=1), clf__gamma=0, clf__learning_rate=0.05, clf__max_depth=10, clf__n_estimators=200, clf__nthread=4, clf__objective=multi:softprob, clf__random_state=2018, clf__reg_alpha=0 \n"
     ]
    },
    {
     "name": "stderr",
     "output_type": "stream",
     "text": [
      "/Users/jochen/miniconda3/envs/ds_tutorial/lib/python3.6/site-packages/sklearn/preprocessing/label.py:151: DeprecationWarning: The truth value of an empty array is ambiguous. Returning False, but in future this will result in an error. Use `array.size > 0` to check that an array is not empty.\n",
      "  if diff:\n",
      "/Users/jochen/miniconda3/envs/ds_tutorial/lib/python3.6/site-packages/sklearn/preprocessing/label.py:151: DeprecationWarning: The truth value of an empty array is ambiguous. Returning False, but in future this will result in an error. Use `array.size > 0` to check that an array is not empty.\n",
      "  if diff:\n"
     ]
    },
    {
     "name": "stdout",
     "output_type": "stream",
     "text": [
      "[CV]  clf=XGBClassifier(base_score=0.5, booster='gbtree', colsample_bylevel=1,\n",
      "       colsample_bytree=1, early_stopping_rounds=3, gamma=0,\n",
      "       learning_rate=0.05, max_delta_step=0, max_depth=10,\n",
      "       min_child_weight=1, missing=None, n_estimators=200, n_jobs=1,\n",
      "       nthread=4, objective='multi:softprob', random_state=2018,\n",
      "       reg_alpha=0, reg_lambda=1, scale_pos_weight=1, seed=None,\n",
      "       silent=True, subsample=1), clf__gamma=0, clf__learning_rate=0.05, clf__max_depth=10, clf__n_estimators=200, clf__nthread=4, clf__objective=multi:softprob, clf__random_state=2018, clf__reg_alpha=0, total= 6.9min\n",
      "[CV] clf=XGBClassifier(base_score=0.5, booster='gbtree', colsample_bylevel=1,\n",
      "       colsample_bytree=1, early_stopping_rounds=3, gamma=0,\n",
      "       learning_rate=0.05, max_delta_step=0, max_depth=10,\n",
      "       min_child_weight=1, missing=None, n_estimators=200, n_jobs=1,\n",
      "       nthread=4, objective='multi:softprob', random_state=2018,\n",
      "       reg_alpha=0, reg_lambda=1, scale_pos_weight=1, seed=None,\n",
      "       silent=True, subsample=1), clf__gamma=0, clf__learning_rate=0.05, clf__max_depth=10, clf__n_estimators=200, clf__nthread=4, clf__objective=multi:softprob, clf__random_state=2018, clf__reg_alpha=0 \n"
     ]
    },
    {
     "name": "stderr",
     "output_type": "stream",
     "text": [
      "/Users/jochen/miniconda3/envs/ds_tutorial/lib/python3.6/site-packages/sklearn/preprocessing/label.py:151: DeprecationWarning: The truth value of an empty array is ambiguous. Returning False, but in future this will result in an error. Use `array.size > 0` to check that an array is not empty.\n",
      "  if diff:\n",
      "/Users/jochen/miniconda3/envs/ds_tutorial/lib/python3.6/site-packages/sklearn/preprocessing/label.py:151: DeprecationWarning: The truth value of an empty array is ambiguous. Returning False, but in future this will result in an error. Use `array.size > 0` to check that an array is not empty.\n",
      "  if diff:\n"
     ]
    },
    {
     "name": "stdout",
     "output_type": "stream",
     "text": [
      "[CV]  clf=XGBClassifier(base_score=0.5, booster='gbtree', colsample_bylevel=1,\n",
      "       colsample_bytree=1, early_stopping_rounds=3, gamma=0,\n",
      "       learning_rate=0.05, max_delta_step=0, max_depth=10,\n",
      "       min_child_weight=1, missing=None, n_estimators=200, n_jobs=1,\n",
      "       nthread=4, objective='multi:softprob', random_state=2018,\n",
      "       reg_alpha=0, reg_lambda=1, scale_pos_weight=1, seed=None,\n",
      "       silent=True, subsample=1), clf__gamma=0, clf__learning_rate=0.05, clf__max_depth=10, clf__n_estimators=200, clf__nthread=4, clf__objective=multi:softprob, clf__random_state=2018, clf__reg_alpha=0, total= 6.8min\n",
      "[CV] clf=XGBClassifier(base_score=0.5, booster='gbtree', colsample_bylevel=1,\n",
      "       colsample_bytree=1, early_stopping_rounds=3, gamma=0,\n",
      "       learning_rate=0.05, max_delta_step=0, max_depth=10,\n",
      "       min_child_weight=1, missing=None, n_estimators=200, n_jobs=1,\n",
      "       nthread=4, objective='multi:softprob', random_state=2018,\n",
      "       reg_alpha=0, reg_lambda=1, scale_pos_weight=1, seed=None,\n",
      "       silent=True, subsample=1), clf__gamma=0, clf__learning_rate=0.001, clf__max_depth=10, clf__n_estimators=200, clf__nthread=4, clf__objective=multi:softprob, clf__random_state=2018, clf__reg_alpha=0 \n"
     ]
    },
    {
     "name": "stderr",
     "output_type": "stream",
     "text": [
      "/Users/jochen/miniconda3/envs/ds_tutorial/lib/python3.6/site-packages/sklearn/preprocessing/label.py:151: DeprecationWarning: The truth value of an empty array is ambiguous. Returning False, but in future this will result in an error. Use `array.size > 0` to check that an array is not empty.\n",
      "  if diff:\n",
      "/Users/jochen/miniconda3/envs/ds_tutorial/lib/python3.6/site-packages/sklearn/preprocessing/label.py:151: DeprecationWarning: The truth value of an empty array is ambiguous. Returning False, but in future this will result in an error. Use `array.size > 0` to check that an array is not empty.\n",
      "  if diff:\n"
     ]
    },
    {
     "name": "stdout",
     "output_type": "stream",
     "text": [
      "[CV]  clf=XGBClassifier(base_score=0.5, booster='gbtree', colsample_bylevel=1,\n",
      "       colsample_bytree=1, early_stopping_rounds=3, gamma=0,\n",
      "       learning_rate=0.05, max_delta_step=0, max_depth=10,\n",
      "       min_child_weight=1, missing=None, n_estimators=200, n_jobs=1,\n",
      "       nthread=4, objective='multi:softprob', random_state=2018,\n",
      "       reg_alpha=0, reg_lambda=1, scale_pos_weight=1, seed=None,\n",
      "       silent=True, subsample=1), clf__gamma=0, clf__learning_rate=0.001, clf__max_depth=10, clf__n_estimators=200, clf__nthread=4, clf__objective=multi:softprob, clf__random_state=2018, clf__reg_alpha=0, total=10.3min\n",
      "[CV] clf=XGBClassifier(base_score=0.5, booster='gbtree', colsample_bylevel=1,\n",
      "       colsample_bytree=1, early_stopping_rounds=3, gamma=0,\n",
      "       learning_rate=0.001, max_delta_step=0, max_depth=10,\n",
      "       min_child_weight=1, missing=None, n_estimators=200, n_jobs=1,\n",
      "       nthread=4, objective='multi:softprob', random_state=2018,\n",
      "       reg_alpha=0, reg_lambda=1, scale_pos_weight=1, seed=None,\n",
      "       silent=True, subsample=1), clf__gamma=0, clf__learning_rate=0.001, clf__max_depth=10, clf__n_estimators=200, clf__nthread=4, clf__objective=multi:softprob, clf__random_state=2018, clf__reg_alpha=0 \n"
     ]
    },
    {
     "name": "stderr",
     "output_type": "stream",
     "text": [
      "/Users/jochen/miniconda3/envs/ds_tutorial/lib/python3.6/site-packages/sklearn/preprocessing/label.py:151: DeprecationWarning: The truth value of an empty array is ambiguous. Returning False, but in future this will result in an error. Use `array.size > 0` to check that an array is not empty.\n",
      "  if diff:\n",
      "/Users/jochen/miniconda3/envs/ds_tutorial/lib/python3.6/site-packages/sklearn/preprocessing/label.py:151: DeprecationWarning: The truth value of an empty array is ambiguous. Returning False, but in future this will result in an error. Use `array.size > 0` to check that an array is not empty.\n",
      "  if diff:\n"
     ]
    },
    {
     "name": "stdout",
     "output_type": "stream",
     "text": [
      "[CV]  clf=XGBClassifier(base_score=0.5, booster='gbtree', colsample_bylevel=1,\n",
      "       colsample_bytree=1, early_stopping_rounds=3, gamma=0,\n",
      "       learning_rate=0.001, max_delta_step=0, max_depth=10,\n",
      "       min_child_weight=1, missing=None, n_estimators=200, n_jobs=1,\n",
      "       nthread=4, objective='multi:softprob', random_state=2018,\n",
      "       reg_alpha=0, reg_lambda=1, scale_pos_weight=1, seed=None,\n",
      "       silent=True, subsample=1), clf__gamma=0, clf__learning_rate=0.001, clf__max_depth=10, clf__n_estimators=200, clf__nthread=4, clf__objective=multi:softprob, clf__random_state=2018, clf__reg_alpha=0, total=10.8min\n",
      "[CV] clf=XGBClassifier(base_score=0.5, booster='gbtree', colsample_bylevel=1,\n",
      "       colsample_bytree=1, early_stopping_rounds=3, gamma=0,\n",
      "       learning_rate=0.001, max_delta_step=0, max_depth=10,\n",
      "       min_child_weight=1, missing=None, n_estimators=200, n_jobs=1,\n",
      "       nthread=4, objective='multi:softprob', random_state=2018,\n",
      "       reg_alpha=0, reg_lambda=1, scale_pos_weight=1, seed=None,\n",
      "       silent=True, subsample=1), clf__gamma=0, clf__learning_rate=0.001, clf__max_depth=10, clf__n_estimators=200, clf__nthread=4, clf__objective=multi:softprob, clf__random_state=2018, clf__reg_alpha=0 \n"
     ]
    },
    {
     "name": "stderr",
     "output_type": "stream",
     "text": [
      "/Users/jochen/miniconda3/envs/ds_tutorial/lib/python3.6/site-packages/sklearn/preprocessing/label.py:151: DeprecationWarning: The truth value of an empty array is ambiguous. Returning False, but in future this will result in an error. Use `array.size > 0` to check that an array is not empty.\n",
      "  if diff:\n",
      "/Users/jochen/miniconda3/envs/ds_tutorial/lib/python3.6/site-packages/sklearn/preprocessing/label.py:151: DeprecationWarning: The truth value of an empty array is ambiguous. Returning False, but in future this will result in an error. Use `array.size > 0` to check that an array is not empty.\n",
      "  if diff:\n"
     ]
    },
    {
     "name": "stdout",
     "output_type": "stream",
     "text": [
      "[CV]  clf=XGBClassifier(base_score=0.5, booster='gbtree', colsample_bylevel=1,\n",
      "       colsample_bytree=1, early_stopping_rounds=3, gamma=0,\n",
      "       learning_rate=0.001, max_delta_step=0, max_depth=10,\n",
      "       min_child_weight=1, missing=None, n_estimators=200, n_jobs=1,\n",
      "       nthread=4, objective='multi:softprob', random_state=2018,\n",
      "       reg_alpha=0, reg_lambda=1, scale_pos_weight=1, seed=None,\n",
      "       silent=True, subsample=1), clf__gamma=0, clf__learning_rate=0.001, clf__max_depth=10, clf__n_estimators=200, clf__nthread=4, clf__objective=multi:softprob, clf__random_state=2018, clf__reg_alpha=0, total=10.9min\n",
      "[CV] clf=XGBClassifier(base_score=0.5, booster='gbtree', colsample_bylevel=1,\n",
      "       colsample_bytree=1, early_stopping_rounds=3, gamma=0,\n",
      "       learning_rate=0.001, max_delta_step=0, max_depth=10,\n",
      "       min_child_weight=1, missing=None, n_estimators=200, n_jobs=1,\n",
      "       nthread=4, objective='multi:softprob', random_state=2018,\n",
      "       reg_alpha=0, reg_lambda=1, scale_pos_weight=1, seed=None,\n",
      "       silent=True, subsample=1), clf__gamma=0.1, clf__learning_rate=0.05, clf__max_depth=10, clf__n_estimators=200, clf__nthread=4, clf__objective=multi:softprob, clf__random_state=2018, clf__reg_alpha=0 \n"
     ]
    },
    {
     "name": "stderr",
     "output_type": "stream",
     "text": [
      "/Users/jochen/miniconda3/envs/ds_tutorial/lib/python3.6/site-packages/sklearn/preprocessing/label.py:151: DeprecationWarning: The truth value of an empty array is ambiguous. Returning False, but in future this will result in an error. Use `array.size > 0` to check that an array is not empty.\n",
      "  if diff:\n",
      "/Users/jochen/miniconda3/envs/ds_tutorial/lib/python3.6/site-packages/sklearn/preprocessing/label.py:151: DeprecationWarning: The truth value of an empty array is ambiguous. Returning False, but in future this will result in an error. Use `array.size > 0` to check that an array is not empty.\n",
      "  if diff:\n"
     ]
    },
    {
     "name": "stdout",
     "output_type": "stream",
     "text": [
      "[CV]  clf=XGBClassifier(base_score=0.5, booster='gbtree', colsample_bylevel=1,\n",
      "       colsample_bytree=1, early_stopping_rounds=3, gamma=0,\n",
      "       learning_rate=0.001, max_delta_step=0, max_depth=10,\n",
      "       min_child_weight=1, missing=None, n_estimators=200, n_jobs=1,\n",
      "       nthread=4, objective='multi:softprob', random_state=2018,\n",
      "       reg_alpha=0, reg_lambda=1, scale_pos_weight=1, seed=None,\n",
      "       silent=True, subsample=1), clf__gamma=0.1, clf__learning_rate=0.05, clf__max_depth=10, clf__n_estimators=200, clf__nthread=4, clf__objective=multi:softprob, clf__random_state=2018, clf__reg_alpha=0, total= 6.3min\n",
      "[CV] clf=XGBClassifier(base_score=0.5, booster='gbtree', colsample_bylevel=1,\n",
      "       colsample_bytree=1, early_stopping_rounds=3, gamma=0.1,\n",
      "       learning_rate=0.05, max_delta_step=0, max_depth=10,\n",
      "       min_child_weight=1, missing=None, n_estimators=200, n_jobs=1,\n",
      "       nthread=4, objective='multi:softprob', random_state=2018,\n",
      "       reg_alpha=0, reg_lambda=1, scale_pos_weight=1, seed=None,\n",
      "       silent=True, subsample=1), clf__gamma=0.1, clf__learning_rate=0.05, clf__max_depth=10, clf__n_estimators=200, clf__nthread=4, clf__objective=multi:softprob, clf__random_state=2018, clf__reg_alpha=0 \n"
     ]
    },
    {
     "name": "stderr",
     "output_type": "stream",
     "text": [
      "/Users/jochen/miniconda3/envs/ds_tutorial/lib/python3.6/site-packages/sklearn/preprocessing/label.py:151: DeprecationWarning: The truth value of an empty array is ambiguous. Returning False, but in future this will result in an error. Use `array.size > 0` to check that an array is not empty.\n",
      "  if diff:\n",
      "/Users/jochen/miniconda3/envs/ds_tutorial/lib/python3.6/site-packages/sklearn/preprocessing/label.py:151: DeprecationWarning: The truth value of an empty array is ambiguous. Returning False, but in future this will result in an error. Use `array.size > 0` to check that an array is not empty.\n",
      "  if diff:\n"
     ]
    },
    {
     "name": "stdout",
     "output_type": "stream",
     "text": [
      "[CV]  clf=XGBClassifier(base_score=0.5, booster='gbtree', colsample_bylevel=1,\n",
      "       colsample_bytree=1, early_stopping_rounds=3, gamma=0.1,\n",
      "       learning_rate=0.05, max_delta_step=0, max_depth=10,\n",
      "       min_child_weight=1, missing=None, n_estimators=200, n_jobs=1,\n",
      "       nthread=4, objective='multi:softprob', random_state=2018,\n",
      "       reg_alpha=0, reg_lambda=1, scale_pos_weight=1, seed=None,\n",
      "       silent=True, subsample=1), clf__gamma=0.1, clf__learning_rate=0.05, clf__max_depth=10, clf__n_estimators=200, clf__nthread=4, clf__objective=multi:softprob, clf__random_state=2018, clf__reg_alpha=0, total= 6.7min\n",
      "[CV] clf=XGBClassifier(base_score=0.5, booster='gbtree', colsample_bylevel=1,\n",
      "       colsample_bytree=1, early_stopping_rounds=3, gamma=0.1,\n",
      "       learning_rate=0.05, max_delta_step=0, max_depth=10,\n",
      "       min_child_weight=1, missing=None, n_estimators=200, n_jobs=1,\n",
      "       nthread=4, objective='multi:softprob', random_state=2018,\n",
      "       reg_alpha=0, reg_lambda=1, scale_pos_weight=1, seed=None,\n",
      "       silent=True, subsample=1), clf__gamma=0.1, clf__learning_rate=0.05, clf__max_depth=10, clf__n_estimators=200, clf__nthread=4, clf__objective=multi:softprob, clf__random_state=2018, clf__reg_alpha=0 \n"
     ]
    },
    {
     "name": "stderr",
     "output_type": "stream",
     "text": [
      "/Users/jochen/miniconda3/envs/ds_tutorial/lib/python3.6/site-packages/sklearn/preprocessing/label.py:151: DeprecationWarning: The truth value of an empty array is ambiguous. Returning False, but in future this will result in an error. Use `array.size > 0` to check that an array is not empty.\n",
      "  if diff:\n",
      "/Users/jochen/miniconda3/envs/ds_tutorial/lib/python3.6/site-packages/sklearn/preprocessing/label.py:151: DeprecationWarning: The truth value of an empty array is ambiguous. Returning False, but in future this will result in an error. Use `array.size > 0` to check that an array is not empty.\n",
      "  if diff:\n"
     ]
    },
    {
     "name": "stdout",
     "output_type": "stream",
     "text": [
      "[CV]  clf=XGBClassifier(base_score=0.5, booster='gbtree', colsample_bylevel=1,\n",
      "       colsample_bytree=1, early_stopping_rounds=3, gamma=0.1,\n",
      "       learning_rate=0.05, max_delta_step=0, max_depth=10,\n",
      "       min_child_weight=1, missing=None, n_estimators=200, n_jobs=1,\n",
      "       nthread=4, objective='multi:softprob', random_state=2018,\n",
      "       reg_alpha=0, reg_lambda=1, scale_pos_weight=1, seed=None,\n",
      "       silent=True, subsample=1), clf__gamma=0.1, clf__learning_rate=0.05, clf__max_depth=10, clf__n_estimators=200, clf__nthread=4, clf__objective=multi:softprob, clf__random_state=2018, clf__reg_alpha=0, total= 6.9min\n",
      "[CV] clf=XGBClassifier(base_score=0.5, booster='gbtree', colsample_bylevel=1,\n",
      "       colsample_bytree=1, early_stopping_rounds=3, gamma=0.1,\n",
      "       learning_rate=0.05, max_delta_step=0, max_depth=10,\n",
      "       min_child_weight=1, missing=None, n_estimators=200, n_jobs=1,\n",
      "       nthread=4, objective='multi:softprob', random_state=2018,\n",
      "       reg_alpha=0, reg_lambda=1, scale_pos_weight=1, seed=None,\n",
      "       silent=True, subsample=1), clf__gamma=0.1, clf__learning_rate=0.001, clf__max_depth=10, clf__n_estimators=200, clf__nthread=4, clf__objective=multi:softprob, clf__random_state=2018, clf__reg_alpha=0 \n"
     ]
    },
    {
     "name": "stderr",
     "output_type": "stream",
     "text": [
      "/Users/jochen/miniconda3/envs/ds_tutorial/lib/python3.6/site-packages/sklearn/preprocessing/label.py:151: DeprecationWarning: The truth value of an empty array is ambiguous. Returning False, but in future this will result in an error. Use `array.size > 0` to check that an array is not empty.\n",
      "  if diff:\n",
      "/Users/jochen/miniconda3/envs/ds_tutorial/lib/python3.6/site-packages/sklearn/preprocessing/label.py:151: DeprecationWarning: The truth value of an empty array is ambiguous. Returning False, but in future this will result in an error. Use `array.size > 0` to check that an array is not empty.\n",
      "  if diff:\n"
     ]
    },
    {
     "name": "stdout",
     "output_type": "stream",
     "text": [
      "[CV]  clf=XGBClassifier(base_score=0.5, booster='gbtree', colsample_bylevel=1,\n",
      "       colsample_bytree=1, early_stopping_rounds=3, gamma=0.1,\n",
      "       learning_rate=0.05, max_delta_step=0, max_depth=10,\n",
      "       min_child_weight=1, missing=None, n_estimators=200, n_jobs=1,\n",
      "       nthread=4, objective='multi:softprob', random_state=2018,\n",
      "       reg_alpha=0, reg_lambda=1, scale_pos_weight=1, seed=None,\n",
      "       silent=True, subsample=1), clf__gamma=0.1, clf__learning_rate=0.001, clf__max_depth=10, clf__n_estimators=200, clf__nthread=4, clf__objective=multi:softprob, clf__random_state=2018, clf__reg_alpha=0, total=10.2min\n",
      "[CV] clf=XGBClassifier(base_score=0.5, booster='gbtree', colsample_bylevel=1,\n",
      "       colsample_bytree=1, early_stopping_rounds=3, gamma=0.1,\n",
      "       learning_rate=0.001, max_delta_step=0, max_depth=10,\n",
      "       min_child_weight=1, missing=None, n_estimators=200, n_jobs=1,\n",
      "       nthread=4, objective='multi:softprob', random_state=2018,\n",
      "       reg_alpha=0, reg_lambda=1, scale_pos_weight=1, seed=None,\n",
      "       silent=True, subsample=1), clf__gamma=0.1, clf__learning_rate=0.001, clf__max_depth=10, clf__n_estimators=200, clf__nthread=4, clf__objective=multi:softprob, clf__random_state=2018, clf__reg_alpha=0 \n"
     ]
    },
    {
     "name": "stderr",
     "output_type": "stream",
     "text": [
      "/Users/jochen/miniconda3/envs/ds_tutorial/lib/python3.6/site-packages/sklearn/preprocessing/label.py:151: DeprecationWarning: The truth value of an empty array is ambiguous. Returning False, but in future this will result in an error. Use `array.size > 0` to check that an array is not empty.\n",
      "  if diff:\n",
      "/Users/jochen/miniconda3/envs/ds_tutorial/lib/python3.6/site-packages/sklearn/preprocessing/label.py:151: DeprecationWarning: The truth value of an empty array is ambiguous. Returning False, but in future this will result in an error. Use `array.size > 0` to check that an array is not empty.\n",
      "  if diff:\n"
     ]
    },
    {
     "name": "stdout",
     "output_type": "stream",
     "text": [
      "[CV]  clf=XGBClassifier(base_score=0.5, booster='gbtree', colsample_bylevel=1,\n",
      "       colsample_bytree=1, early_stopping_rounds=3, gamma=0.1,\n",
      "       learning_rate=0.001, max_delta_step=0, max_depth=10,\n",
      "       min_child_weight=1, missing=None, n_estimators=200, n_jobs=1,\n",
      "       nthread=4, objective='multi:softprob', random_state=2018,\n",
      "       reg_alpha=0, reg_lambda=1, scale_pos_weight=1, seed=None,\n",
      "       silent=True, subsample=1), clf__gamma=0.1, clf__learning_rate=0.001, clf__max_depth=10, clf__n_estimators=200, clf__nthread=4, clf__objective=multi:softprob, clf__random_state=2018, clf__reg_alpha=0, total=11.0min\n",
      "[CV] clf=XGBClassifier(base_score=0.5, booster='gbtree', colsample_bylevel=1,\n",
      "       colsample_bytree=1, early_stopping_rounds=3, gamma=0.1,\n",
      "       learning_rate=0.001, max_delta_step=0, max_depth=10,\n",
      "       min_child_weight=1, missing=None, n_estimators=200, n_jobs=1,\n",
      "       nthread=4, objective='multi:softprob', random_state=2018,\n",
      "       reg_alpha=0, reg_lambda=1, scale_pos_weight=1, seed=None,\n",
      "       silent=True, subsample=1), clf__gamma=0.1, clf__learning_rate=0.001, clf__max_depth=10, clf__n_estimators=200, clf__nthread=4, clf__objective=multi:softprob, clf__random_state=2018, clf__reg_alpha=0 \n"
     ]
    },
    {
     "name": "stderr",
     "output_type": "stream",
     "text": [
      "/Users/jochen/miniconda3/envs/ds_tutorial/lib/python3.6/site-packages/sklearn/preprocessing/label.py:151: DeprecationWarning: The truth value of an empty array is ambiguous. Returning False, but in future this will result in an error. Use `array.size > 0` to check that an array is not empty.\n",
      "  if diff:\n",
      "/Users/jochen/miniconda3/envs/ds_tutorial/lib/python3.6/site-packages/sklearn/preprocessing/label.py:151: DeprecationWarning: The truth value of an empty array is ambiguous. Returning False, but in future this will result in an error. Use `array.size > 0` to check that an array is not empty.\n",
      "  if diff:\n",
      "[Parallel(n_jobs=1)]: Done  12 out of  12 | elapsed: 107.2min finished\n"
     ]
    },
    {
     "name": "stdout",
     "output_type": "stream",
     "text": [
      "[CV]  clf=XGBClassifier(base_score=0.5, booster='gbtree', colsample_bylevel=1,\n",
      "       colsample_bytree=1, early_stopping_rounds=3, gamma=0.1,\n",
      "       learning_rate=0.001, max_delta_step=0, max_depth=10,\n",
      "       min_child_weight=1, missing=None, n_estimators=200, n_jobs=1,\n",
      "       nthread=4, objective='multi:softprob', random_state=2018,\n",
      "       reg_alpha=0, reg_lambda=1, scale_pos_weight=1, seed=None,\n",
      "       silent=True, subsample=1), clf__gamma=0.1, clf__learning_rate=0.001, clf__max_depth=10, clf__n_estimators=200, clf__nthread=4, clf__objective=multi:softprob, clf__random_state=2018, clf__reg_alpha=0, total=11.6min\n",
      "CPU times: user 7h 41min 3s, sys: 1min 30s, total: 7h 42min 33s\n",
      "Wall time: 1h 59min 5s\n"
     ]
    }
   ],
   "source": [
    "%%time\n",
    "clf = GridSearchCV(pipeline, param_grid, n_jobs=1, \n",
    "                   scoring='f1_micro',\n",
    "                   verbose=2, refit=True)\n",
    "clf.fit(df_train, y_train)"
   ]
  },
  {
   "cell_type": "code",
   "execution_count": null,
   "metadata": {},
   "outputs": [
    {
     "name": "stdout",
     "output_type": "stream",
     "text": [
      "             precision    recall  f1-score   support\n",
      "\n",
      "       earn      0.956     0.987     0.971      1087\n",
      "        acq      0.905     0.963     0.933       710\n",
      "   money-fx      0.644     0.834     0.727       145\n",
      "      grain      0.421     0.381     0.400        42\n",
      "      crude      0.711     0.841     0.771       164\n",
      "      trade      0.672     0.826     0.741       109\n",
      "   interest      0.710     0.650     0.679       117\n",
      "       ship      0.600     0.592     0.596        71\n",
      "      wheat      0.739     0.618     0.673        55\n",
      "       corn      0.508     0.689     0.585        45\n",
      "\n",
      "avg / total      0.853     0.906     0.877      2545\n",
      "\n"
     ]
    },
    {
     "name": "stderr",
     "output_type": "stream",
     "text": [
      "/Users/jochen/miniconda3/envs/ds_tutorial/lib/python3.6/site-packages/sklearn/preprocessing/label.py:151: DeprecationWarning: The truth value of an empty array is ambiguous. Returning False, but in future this will result in an error. Use `array.size > 0` to check that an array is not empty.\n",
      "  if diff:\n"
     ]
    }
   ],
   "source": [
    "y_pred = clf.predict(df_test)\n",
    "print(classification_report(y_test, y_pred, target_names=top_ten_names, labels=top_ten_ids, digits=3))"
   ]
  },
  {
   "cell_type": "code",
   "execution_count": null,
   "metadata": {},
   "outputs": [
    {
     "data": {
      "text/plain": [
       "('clf', XGBClassifier(base_score=0.5, booster='gbtree', colsample_bylevel=1,\n",
       "        colsample_bytree=1, early_stopping_rounds=3, gamma=0.1,\n",
       "        learning_rate=0.05, max_delta_step=0, max_depth=10,\n",
       "        min_child_weight=1, missing=None, n_estimators=200, n_jobs=1,\n",
       "        nthread=4, objective='multi:softprob', random_state=2018,\n",
       "        reg_alpha=0, reg_lambda=1, scale_pos_weight=1, seed=None,\n",
       "        silent=True, subsample=1))"
      ]
     },
     "execution_count": null,
     "metadata": {},
     "output_type": "execute_result"
    }
   ],
   "source": [
    "clf.best_estimator_.steps[-1]"
   ]
  },
  {
   "cell_type": "code",
   "execution_count": null,
   "metadata": {},
   "outputs": [],
   "source": []
  }
 ],
 "metadata": {
  "kernelspec": {
   "display_name": "python3",
   "language": "python",
   "name": "python3"
  }
 },
 "nbformat": 4,
 "nbformat_minor": 2
}
