{
 "cells": [
  {
   "cell_type": "code",
   "execution_count": null,
   "metadata": {},
   "outputs": [
    {
     "name": "stderr",
     "output_type": "stream",
     "text": [
      "/Users/jochen/miniconda3/envs/ds_tutorial/lib/python3.6/site-packages/h5py/__init__.py:36: FutureWarning: Conversion of the second argument of issubdtype from `float` to `np.floating` is deprecated. In future, it will be treated as `np.float64 == np.dtype(float).type`.\n",
      "  from ._conv import register_converters as _register_converters\n"
     ]
    }
   ],
   "source": [
    "import numpy as np\n",
    "import tensorflow as tf"
   ]
  },
  {
   "cell_type": "code",
   "execution_count": null,
   "metadata": {},
   "outputs": [],
   "source": [
    "# input from outside of TensoFlow\n",
    "x_numpy = np.arange(6.).reshape(1, 6)\n",
    "y_numpy = np.array([[1.]])"
   ]
  },
  {
   "cell_type": "code",
   "execution_count": null,
   "metadata": {},
   "outputs": [
    {
     "data": {
      "text/plain": [
       "array([[0., 1., 2., 3., 4., 5.]])"
      ]
     },
     "execution_count": null,
     "metadata": {},
     "output_type": "execute_result"
    }
   ],
   "source": [
    "x_numpy"
   ]
  },
  {
   "cell_type": "code",
   "execution_count": null,
   "metadata": {},
   "outputs": [],
   "source": [
    "x_input = tf.placeholder(dtype=tf.float32, shape=[None, 6])\n",
    "y_input = tf.placeholder(dtype=tf.float32, shape=[None, 1])\n",
    "# let's multiply something\n",
    "\n",
    "weights_01 = tf.Variable(tf.random_normal(shape=[6, 3], dtype=tf.float32))\n",
    "hidden = tf.matmul(x_input, weights_01)\n",
    "# non linearity \"relu\"\n",
    "hidden_nonlinear = tf.maximum(0., hidden)\n",
    "\n",
    "weights_02 = tf.Variable(tf.random_normal(shape=[3, 1], dtype=tf.float32))\n",
    "\n",
    "pre_predictions = tf.matmul(hidden_nonlinear, weights_02)\n",
    "\n",
    "loss = tf.losses.sigmoid_cross_entropy(\n",
    "    logits=pre_predictions, multi_class_labels=y_input)\n",
    "\n",
    "train_op = tf.train.AdamOptimizer(learning_rate=0.001).minimize(loss)\n",
    "\n",
    "init_op = tf.global_variables_initializer()"
   ]
  },
  {
   "cell_type": "code",
   "execution_count": null,
   "metadata": {},
   "outputs": [
    {
     "data": {
      "text/plain": [
       "<tf.Tensor 'MatMul_15:0' shape=(?, 1) dtype=float32>"
      ]
     },
     "execution_count": null,
     "metadata": {},
     "output_type": "execute_result"
    }
   ],
   "source": [
    "pre_predictions"
   ]
  },
  {
   "cell_type": "code",
   "execution_count": null,
   "metadata": {},
   "outputs": [
    {
     "name": "stdout",
     "output_type": "stream",
     "text": [
      "loss:  0.42185777\n",
      "loss:  0.068875164\n",
      "loss:  0.028045194\n",
      "loss:  0.015620792\n",
      "loss:  0.010081586\n",
      "loss:  0.0070914356\n",
      "loss:  0.0052782223\n",
      "loss:  0.004088857\n",
      "loss:  0.0032631457\n",
      "loss:  0.0026647637\n"
     ]
    }
   ],
   "source": [
    "with tf.Session() as sess:\n",
    "    sess.run(init_op)\n",
    "    for i in range(1000):\n",
    "        _, loss_as_number = sess.run(\n",
    "            [train_op, loss],\n",
    "            feed_dict={x_input: x_numpy, y_input: y_numpy}\n",
    "        )\n",
    "        if i % 100 == 0:\n",
    "            print('loss: ', loss_as_number)"
   ]
  },
  {
   "cell_type": "code",
   "execution_count": null,
   "metadata": {},
   "outputs": [],
   "source": []
  }
 ],
 "metadata": {
  "kernelspec": {
   "display_name": "python3",
   "language": "python",
   "name": "python3"
  }
 },
 "nbformat": 4,
 "nbformat_minor": 2
}
