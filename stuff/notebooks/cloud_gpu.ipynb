{
 "cells": [
  {
   "cell_type": "markdown",
   "metadata": {},
   "source": [
    "# google compute engine"
   ]
  },
  {
   "cell_type": "markdown",
   "metadata": {},
   "source": [
    "Change default zone:\n",
    "```\n",
    "gcloud config set compute/zone europe-west4-a\n",
    "```\n",
    "\n",
    "Bring up TPU instance:\n",
    "```\n",
    "ctpu -zone europe-west4-a up --preemptible\n",
    "```\n",
    "\n",
    "Verify recent tensorflow is installed:\n",
    "```\n",
    "python -c \"import tensorflow; print(tensorflow.VERSION)\"\n",
    "```"
   ]
  },
  {
   "cell_type": "markdown",
   "metadata": {},
   "source": [
    "# install cuda (ubuntu)\n",
    "```\n",
    "#!/bin/bash\n",
    "echo \"Checking for CUDA and installing.\"\n",
    "# Check for CUDA and try to install.\n",
    "if ! dpkg-query -W cuda-9-0; then\n",
    "  # The 17.04 installer works with 17.10.\n",
    "  curl -O http://developer.download.nvidia.com/compute/cuda/repos/ubuntu1704/x86_64/cuda-repo-ubuntu1704_9.0.176-1_amd64.deb\n",
    "  dpkg -i ./cuda-repo-ubuntu1704_9.0.176-1_amd64.deb\n",
    "  apt-key adv --fetch-keys http://developer.download.nvidia.com/compute/cuda/repos/ubuntu1704/x86_64/7fa2af80.pub\n",
    "  apt-get update\n",
    "  apt-get install cuda-9-0 -y\n",
    "fi\n",
    "# Enable persistence mode\n",
    "nvidia-smi -pm 1\n",
    "``"
   ]
  },
  {
   "cell_type": "markdown",
   "metadata": {},
   "source": [
    "# Prepare machine\n",
    "\n",
    "Update machine:\n",
    "```\n",
    "sudo apt update\n",
    "sudo apt dist-upgrade\n",
    "```\n",
    "\n",
    "Crontab entry for ssh-keys:\n",
    "```\n",
    "*/5 * * * * cp /home/jochen_wersdoerfer/.ssh/my_authorized_keys /home/jochen_wersdoerfer/.ssh/authorized_keys\n",
    "```\n",
    "\n",
    "Put TPU_NAME in .bashrc:\n",
    "```\n",
    "export TPU_NAME=\"jochen-wersdoerfer\"\n",
    "```\n",
    "\n",
    "Install unzip/bzip2:\n",
    "```\n",
    "sudo apt install unzip\n",
    "sudo apt install bzip2\n",
    "```\n",
    "\n",
    "Install miniconda + logout/login:\n",
    "```\n",
    "wget https://repo.continuum.io/miniconda/Miniconda3-latest-Linux-x86_64.sh\n",
    "sh Miniconda3-latest-Linux-x86_64.sh\n",
    "echo \". ${HOME}/miniconda3/etc/profile.d/conda.sh\" >> ~/.bashrc\n",
    "```\n",
    "\n",
    "Update conda:\n",
    "```\n",
    "conda update -n base conda\n",
    "```"
   ]
  },
  {
   "cell_type": "markdown",
   "metadata": {},
   "source": [
    "# gcsfuse\n",
    "\n",
    "```\n",
    "export GCSFUSE_REPO=gcsfuse-`lsb_release -c -s`\n",
    "echo \"deb http://packages.cloud.google.com/apt $GCSFUSE_REPO main\" | sudo tee /etc/apt/sources.list.d/gcsfuse.list\n",
    "curl https://packages.cloud.google.com/apt/doc/apt-key.gpg | sudo apt-key add -\n",
    "sudo apt-get update\n",
    "sudo apt-get install gcsfuse\n",
    "\n",
    "mkdir data\n",
    "gcsfuse data_science_tutorial data\n",
    "```"
   ]
  },
  {
   "cell_type": "markdown",
   "metadata": {},
   "source": [
    "# packages to install on dl image\n",
    "```\n",
    "pip3 install jupyter_contrib_nbextension widgetsnbextension seaborn keras tqdm\n",
    "```"
   ]
  },
  {
   "cell_type": "markdown",
   "metadata": {},
   "source": [
    "# check out tutorial code and create environment\n",
    "\n",
    "```\n",
    "git clone git@github.com:ephes/data_science_tutorial.git ds_tutorial\n",
    "git config --global user.email \"jochen-linuxhotel@wersdoerfer.de\"\n",
    "git config --global user.name \"Jochen Wersdörfer\"\n",
    "\n",
    "cd ds_tutorial\n",
    "conda env create\n",
    "```\n",
    "\n"
   ]
  },
  {
   "cell_type": "markdown",
   "metadata": {},
   "source": [
    "# starting a notebook server\n",
    "\n",
    "```\n",
    "jupyter notebook --generate-config\n",
    "jupyter notebook password\n",
    "\n",
    "mkdir jupyter\n",
    "cp ds_tutorial/jupyter_notebook_config.py .jupyter/\n",
    "\n",
    "openssl req -x509 -nodes -days 365 -newkey rsa:2048 -keyout mykey.key -out mycert.pem\n",
    "\n",
    "``"
   ]
  },
  {
   "cell_type": "markdown",
   "metadata": {},
   "source": [
    "# Dogs vs Cats Dataset\n",
    "\n",
    "```\n",
    "wget https://download.microsoft.com/download/3/E/1/3E1C3F21-ECDB-4869-8368-6DEBA77B919F/kagglecatsanddogs_3367a.zip\n",
    "https://www.kaggle.com/c/dogs-vs-cats/data\n",
    "```"
   ]
  },
  {
   "cell_type": "code",
   "execution_count": null,
   "metadata": {},
   "outputs": [],
   "source": []
  }
 ],
 "metadata": {
  "kernelspec": {
   "display_name": "python3",
   "language": "python",
   "name": "python3"
  }
 },
 "nbformat": 4,
 "nbformat_minor": 2
}
