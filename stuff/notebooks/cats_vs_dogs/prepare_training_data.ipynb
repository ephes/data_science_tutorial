{
 "cells": [
  {
   "cell_type": "markdown",
   "metadata": {},
   "source": [
    "# Fetch data and prepare sample\n",
    "\n",
    "* The complete training dataset has 25k images, 12.5k from cats and 12.5k from dogs.\n",
    "* We use 1000 images each for training and 500 for validation / test."
   ]
  },
  {
   "cell_type": "markdown",
   "metadata": {},
   "source": [
    "## Fetch training data"
   ]
  },
  {
   "cell_type": "code",
   "execution_count": null,
   "metadata": {},
   "outputs": [],
   "source": [
    "import os\n",
    "import requests\n",
    "\n",
    "from tqdm import tqdm_notebook as tqdm"
   ]
  },
  {
   "cell_type": "code",
   "execution_count": null,
   "metadata": {},
   "outputs": [],
   "source": [
    "from pathlib import Path\n",
    "\n",
    "root = Path.home()\n",
    "archive_name = \"cats_vs_dogs.zip\"\n",
    "training_data_url = \"https://d2b7dn9rofvhjd.cloudfront.net/{}\".format(archive_name)\n",
    "data_root = root / \"data\" / \"tmp\"\n",
    "data_root.mkdir(parents=True, exist_ok=True)\n",
    "training_data_path = data_root / archive_name"
   ]
  },
  {
   "cell_type": "code",
   "execution_count": null,
   "metadata": {},
   "outputs": [],
   "source": [
    "def download_from_url(url, dst, chunk_size=1024):\n",
    "    \"\"\"\n",
    "    @param: url to download\n",
    "    @param: dst path to destination file\n",
    "    \"\"\"\n",
    "    file_size = int(requests.head(url).headers[\"Content-Length\"])\n",
    "    first_byte = dst.stat().st_size if dst.exists() else 0\n",
    "    \n",
    "    # return early when we are already done\n",
    "    if first_byte >= file_size:\n",
    "        return file_size\n",
    "    \n",
    "    # download first_byte to file_size\n",
    "    header = {\"Range\": \"bytes={}-{}\".format(first_byte, file_size)}\n",
    "    pbar = tqdm(\n",
    "        total=file_size, initial=first_byte,\n",
    "        unit='B', unit_scale=True, desc=url.split('/')[-1])\n",
    "    req = requests.get(url, headers=header, stream=True)\n",
    "    with(open(str(dst), 'ab')) as f:\n",
    "        for chunk in req.iter_content(chunk_size=chunk_size):\n",
    "            if chunk:\n",
    "                f.write(chunk)\n",
    "                pbar.update(chunk_size)\n",
    "    pbar.close()\n",
    "    return file_size"
   ]
  },
  {
   "cell_type": "code",
   "execution_count": null,
   "metadata": {},
   "outputs": [
    {
     "name": "stderr",
     "output_type": "stream",
     "text": [
      "<ipython-input-3-06cc25fc5c3a>:15: TqdmDeprecationWarning: This function will be removed in tqdm==5.0.0\n",
      "Please use `tqdm.notebook.tqdm` instead of `tqdm.tqdm_notebook`\n",
      "  pbar = tqdm(\n"
     ]
    },
    {
     "data": {
      "application/vnd.jupyter.widget-view+json": {
       "model_id": "064053b7c4b84e1f96c0dbad386754d4",
       "version_major": 2,
       "version_minor": 0
      },
      "text/plain": [
       "HBox(children=(HTML(value='cats_vs_dogs.zip'), FloatProgress(value=0.0, max=571167138.0), HTML(value='')))"
      ]
     },
     "metadata": {},
     "output_type": "display_data"
    },
    {
     "name": "stdout",
     "output_type": "stream",
     "text": [
      "\n"
     ]
    }
   ],
   "source": [
    "file_size = download_from_url(training_data_url, training_data_path)"
   ]
  },
  {
   "cell_type": "markdown",
   "metadata": {},
   "source": [
    "## Unpack archive"
   ]
  },
  {
   "cell_type": "code",
   "execution_count": null,
   "metadata": {},
   "outputs": [],
   "source": [
    "import zipfile"
   ]
  },
  {
   "cell_type": "code",
   "execution_count": null,
   "metadata": {},
   "outputs": [
    {
     "data": {
      "text/plain": [
       "PosixPath('/Users/jochen/data/tmp')"
      ]
     },
     "execution_count": null,
     "metadata": {},
     "output_type": "execute_result"
    }
   ],
   "source": [
    "data_root"
   ]
  },
  {
   "cell_type": "code",
   "execution_count": null,
   "metadata": {},
   "outputs": [
    {
     "name": "stdout",
     "output_type": "stream",
     "text": [
      "CPU times: user 4.58 s, sys: 4.58 s, total: 9.16 s\n",
      "Wall time: 10.3 s\n"
     ]
    }
   ],
   "source": [
    "%%time\n",
    "archive = zipfile.ZipFile(str(training_data_path), 'r')\n",
    "archive.extractall(str(data_root))\n",
    "archive.close()"
   ]
  },
  {
   "cell_type": "code",
   "execution_count": null,
   "metadata": {},
   "outputs": [],
   "source": [
    "training_data_path.unlink()"
   ]
  },
  {
   "cell_type": "code",
   "execution_count": null,
   "metadata": {},
   "outputs": [],
   "source": [
    "original_data_dir = list(data_root.glob(\"*cats*dogs\"))[0]"
   ]
  },
  {
   "cell_type": "markdown",
   "metadata": {},
   "source": [
    "## Create sample data"
   ]
  },
  {
   "cell_type": "code",
   "execution_count": null,
   "metadata": {},
   "outputs": [],
   "source": [
    "from shutil import copy"
   ]
  },
  {
   "cell_type": "markdown",
   "metadata": {},
   "source": [
    "### Create directories"
   ]
  },
  {
   "cell_type": "code",
   "execution_count": null,
   "metadata": {},
   "outputs": [],
   "source": [
    "sample_dir = data_root / \"cats_vs_dogs_sample\"\n",
    "for part in (\"test\", \"train\", \"validation\"):\n",
    "    for category in (\"cats\", \"dogs\"):\n",
    "        (sample_dir / part / category).mkdir(parents=True, exist_ok=True)"
   ]
  },
  {
   "cell_type": "markdown",
   "metadata": {},
   "source": [
    "### Copy files"
   ]
  },
  {
   "cell_type": "code",
   "execution_count": null,
   "metadata": {},
   "outputs": [],
   "source": [
    "def copy_files_range(src_dir, dst_dir, file_template, start, stop):\n",
    "    print(dst_dir)\n",
    "    fnames = (file_template.format(i) for i in range(start, stop))\n",
    "    for fname in fnames:\n",
    "        src = src_dir / fname\n",
    "        copy(str(src), str(dst_dir))"
   ]
  },
  {
   "cell_type": "code",
   "execution_count": null,
   "metadata": {},
   "outputs": [
    {
     "name": "stdout",
     "output_type": "stream",
     "text": [
      "/Users/jochen/data/tmp/cats_vs_dogs_sample/train/cats\n",
      "/Users/jochen/data/tmp/cats_vs_dogs_sample/train/dogs\n",
      "/Users/jochen/data/tmp/cats_vs_dogs_sample/validation/cats\n",
      "/Users/jochen/data/tmp/cats_vs_dogs_sample/validation/dogs\n",
      "/Users/jochen/data/tmp/cats_vs_dogs_sample/test/cats\n",
      "/Users/jochen/data/tmp/cats_vs_dogs_sample/test/dogs\n",
      "CPU times: user 350 ms, sys: 1.05 s, total: 1.4 s\n",
      "Wall time: 1.53 s\n"
     ]
    }
   ],
   "source": [
    "%%time\n",
    "file_templates = {\"cats\": \"cat.{}.jpg\", \"dogs\": \"dog.{}.jpg\"}\n",
    "data_splits = (\n",
    "    (\"train\", 0, 1000),          # Copy first 1000 images to train dirs\n",
    "    (\"validation\", 1000, 1500),  # Copy next 500 images into validation dirs\n",
    "    (\"test\", 1500, 2000),        # Copy next 500 images into test dirs\n",
    ")\n",
    "\n",
    "for (part, start, stop) in data_splits:\n",
    "    for category in (\"cats\", \"dogs\"):\n",
    "        copy_files_range(\n",
    "            original_data_dir,\n",
    "            sample_dir / part / category,\n",
    "            file_templates[category],\n",
    "            start,\n",
    "            stop\n",
    "        )"
   ]
  },
  {
   "cell_type": "code",
   "execution_count": null,
   "metadata": {},
   "outputs": [
    {
     "name": "stdout",
     "output_type": "stream",
     "text": [
      "total train images of cats:         1000\n",
      "total train images of dogs:         1000\n",
      "total validation images of cats:    500\n",
      "total validation images of dogs:    500\n",
      "total test images of cats:          500\n",
      "total test images of dogs:          500\n"
     ]
    }
   ],
   "source": [
    "for part in (\"train\", \"validation\", \"test\"):\n",
    "    for category in (\"cats\", \"dogs\"):\n",
    "        desc = \"total {} images of {}:\".format(part, category)\n",
    "        num_files_in_dir = len(list((sample_dir / part / category).iterdir()))\n",
    "        print(desc.ljust(35), num_files_in_dir)"
   ]
  }
 ],
 "metadata": {
  "kernelspec": {
   "display_name": "python3",
   "language": "python",
   "name": "python3"
  }
 },
 "nbformat": 4,
 "nbformat_minor": 1
}
