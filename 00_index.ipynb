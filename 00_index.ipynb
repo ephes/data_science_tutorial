{
 "cells": [
  {
   "cell_type": "markdown",
   "id": "acc1b97c-56a3-456e-868a-7170f2c9d348",
   "metadata": {},
   "source": [
    "![Cover image for a Data Science / Machine Learning Course or Meetup](images/tutorial_cover.png)"
   ]
  },
  {
   "cell_type": "markdown",
   "id": "3654a19b-402e-4a04-9420-37f7814b9232",
   "metadata": {},
   "source": [
    "# Data Science Tutorial"
   ]
  },
  {
   "cell_type": "markdown",
   "id": "128d7909-ca6d-4d74-be11-54f2a892934b",
   "metadata": {},
   "source": [
    "This tutorial covers topics that are relevant or interesting for me for some kind of reason 😄. Have fun!\n",
    "\n",
    "> 🚧 At the moment this tutorial is **under construction** 🚧.\n",
    "> It will stay in that state for quite some time, but I will add new tutorials one by one. So it might be a good idea to check back periodically for updates.\n",
    "\n",
    "### Installation\n",
    "\n",
    "You can run the chapter notebooks on your local machine or on [Google Colab](https://research.google.com/colaboratory/).\n",
    "\n",
    "On your local machine you need to clone the repo, create a virtualenv and start your preferred notebook server.\n",
    "\n",
    "```sh\n",
    "$ git clone git@github.com:ephes/data_science_tutorial.git\n",
    "$ python -m venv venv\n",
    "$ venv/bin/python -m pip install jupterlab\n",
    "$ venv/bin/jupyter lab\n",
    "```\n",
    "\n",
    "Usually, the dependencies needed for a notebook should be installed from within the notebook itself using the `%pip` cell magic. Packages that you install using `%pip` will be installed into the virtualenv that you run the notebook server from. It should make no difference whether you use classic or conda virtual environments."
   ]
  },
  {
   "cell_type": "markdown",
   "id": "2cb7b5e4-e879-4f2a-a58c-f1da8a1230ac",
   "metadata": {},
   "source": [
    "# Text Classification\n",
    "\n",
    "**Chapter 01:** Getting started with Text Classification [docs](https://ephes.github.io/data_science_tutorial/#text-classification)\n",
    "\n",
    "- **Local:** [Notebook](01_text_classification.ipynb)\n",
    "- **Google Colab:** [Open in Colab](https://colab.research.google.com/github/ephes/data_science_tutorial/blob/main/01_text_classification.ipynb)"
   ]
  },
  {
   "cell_type": "markdown",
   "id": "d11c9fdb-3f42-425a-8461-064e4c40c836",
   "metadata": {},
   "source": [
    "# Foundations\n",
    "\n",
    "🏗 I added the notebooks below already because they should work, but they are also still very much work in progress. 👷"
   ]
  },
  {
   "cell_type": "markdown",
   "id": "a3880d14-a3f1-4bc9-bd04-f97978964f6a",
   "metadata": {},
   "source": [
    "## Numpy\n",
    "\n",
    "Numpy is the basis of a lot of stuff in related to data science in Python.\n",
    "\n",
    "**Chapter 08:** Numpy Overview Covering the Basic Features [docs](https://ephes.github.io/data_science_tutorial/#numpy)\n",
    "\n",
    "- **Local:** [Notebook](08_numpy.ipynb)\n",
    "- **Google Colab:** [Open in Colab](https://colab.research.google.com/github/ephes/data_science_tutorial/blob/main/08_numpy.ipynb)"
   ]
  },
  {
   "cell_type": "markdown",
   "id": "e01d00e7-6eea-4122-bc5c-7b4d7c26348d",
   "metadata": {},
   "source": [
    "## Pandas\n",
    "\n",
    "Pandas is very useful for all kinds of pre-processing and data cleaning.\n",
    "\n",
    "**Chapter 09:** Using Pandas [docs](https://ephes.github.io/data_science_tutorial/#pandas)\n",
    "\n",
    "- **Local:** [Notebook](09_pandas.ipynb)\n",
    "- **Google Colab:** [Open in Colab](https://colab.research.google.com/github/ephes/data_science_tutorial/blob/main/09_pandas.ipynb)"
   ]
  }
 ],
 "metadata": {
  "kernelspec": {
   "display_name": "python3",
   "language": "python",
   "name": "python3"
  }
 },
 "nbformat": 4,
 "nbformat_minor": 5
}
