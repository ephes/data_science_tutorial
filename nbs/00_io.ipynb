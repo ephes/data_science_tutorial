{
 "cells": [
  {
   "cell_type": "markdown",
   "metadata": {},
   "source": [
    "# io\n",
    "\n",
    "> Just some helper functions to download datasets etc."
   ]
  },
  {
   "cell_type": "code",
   "execution_count": null,
   "metadata": {},
   "outputs": [],
   "source": [
    "#| default_exp io"
   ]
  },
  {
   "cell_type": "code",
   "execution_count": null,
   "metadata": {},
   "outputs": [],
   "source": [
    "#| hide\n",
    "from nbdev.showdoc import *"
   ]
  },
  {
   "cell_type": "code",
   "execution_count": null,
   "metadata": {},
   "outputs": [],
   "source": [
    "#| export\n",
    "\n",
    "import httpx\n",
    "from pathlib import Path\n",
    "\n",
    "import rich.progress"
   ]
  },
  {
   "cell_type": "code",
   "execution_count": null,
   "metadata": {},
   "outputs": [],
   "source": [
    "#| export\n",
    "\n",
    "def download_from_url(\n",
    "    url: str, # url to download\n",
    "    dst: Path, # the path of the destination file\n",
    "    chunk_size=2048 # optional chunk_size for response.iter_bytes\n",
    ") -> int:  # the file size\n",
    "    if dst.exists():\n",
    "        file_size = dst.stat().st_size\n",
    "        if file_size > 0:\n",
    "            # return early if file was already downloaded\n",
    "            return file_size\n",
    "        \n",
    "    with dst.open(\"ab\") as download_file:\n",
    "        with httpx.stream(\"GET\", url) as response:\n",
    "            total = int(response.headers[\"Content-Length\"])\n",
    "    \n",
    "            with rich.progress.Progress(\n",
    "                \"[progress.percentage]{task.percentage:>3.0f}%\",\n",
    "                rich.progress.BarColumn(bar_width=None),\n",
    "                rich.progress.DownloadColumn(),\n",
    "                rich.progress.TransferSpeedColumn(),\n",
    "                refresh_per_second=5,\n",
    "            ) as progress:\n",
    "                download_task = progress.add_task(\"Download\", total=total)\n",
    "                for chunk in response.iter_bytes(chunk_size=chunk_size):\n",
    "                    download_file.write(chunk)\n",
    "                    progress.update(download_task, completed=response.num_bytes_downloaded, refresh=True)\n",
    "    return response.num_bytes_downloaded"
   ]
  },
  {
   "cell_type": "code",
   "execution_count": null,
   "metadata": {},
   "outputs": [
    {
     "ename": "NameError",
     "evalue": "name 'Path' is not defined",
     "output_type": "error",
     "traceback": [
      "\u001b[0;31m---------------------------------------------------------------------------\u001b[0m",
      "\u001b[0;31mNameError\u001b[0m                                 Traceback (most recent call last)",
      "Cell \u001b[0;32mIn[2], line 5\u001b[0m\n\u001b[1;32m      3\u001b[0m archive_name \u001b[38;5;241m=\u001b[39m \u001b[38;5;124m\"\u001b[39m\u001b[38;5;124mreuters21578.tar.gz\u001b[39m\u001b[38;5;124m\"\u001b[39m\n\u001b[1;32m      4\u001b[0m training_data_url \u001b[38;5;241m=\u001b[39m \u001b[38;5;124m\"\u001b[39m\u001b[38;5;124mhttp://www.daviddlewis.com/resources/testcollections/reuters21578/\u001b[39m\u001b[38;5;132;01m{}\u001b[39;00m\u001b[38;5;124m\"\u001b[39m\u001b[38;5;241m.\u001b[39mformat(archive_name)\n\u001b[0;32m----> 5\u001b[0m data_root \u001b[38;5;241m=\u001b[39m \u001b[43mPath\u001b[49m\u001b[38;5;241m.\u001b[39mcwd()\u001b[38;5;241m.\u001b[39mparent \u001b[38;5;241m/\u001b[39m \u001b[38;5;124m\"\u001b[39m\u001b[38;5;124mdata\u001b[39m\u001b[38;5;124m\"\u001b[39m\n\u001b[1;32m      6\u001b[0m training_data_path \u001b[38;5;241m=\u001b[39m data_root \u001b[38;5;241m/\u001b[39m archive_name\n\u001b[1;32m      7\u001b[0m data_size \u001b[38;5;241m=\u001b[39m download_from_url(training_data_url, training_data_path)\n",
      "\u001b[0;31mNameError\u001b[0m: name 'Path' is not defined"
     ]
    }
   ],
   "source": [
    "#|eval: false\n",
    "\n",
    "archive_name = \"reuters21578.tar.gz\"\n",
    "training_data_url = \"http://www.daviddlewis.com/resources/testcollections/reuters21578/{}\".format(archive_name)\n",
    "data_root = Path.cwd().parent / \"data\"\n",
    "training_data_path = data_root / archive_name\n",
    "data_size = download_from_url(training_data_url, training_data_path)\n",
    "print(data_size)"
   ]
  },
  {
   "cell_type": "code",
   "execution_count": null,
   "metadata": {},
   "outputs": [],
   "source": [
    "#| hide\n",
    "import nbdev; nbdev.nbdev_export()"
   ]
  },
  {
   "cell_type": "code",
   "execution_count": null,
   "metadata": {},
   "outputs": [],
   "source": []
  }
 ],
 "metadata": {
  "kernelspec": {
   "display_name": "python3",
   "language": "python",
   "name": "python3"
  }
 },
 "nbformat": 4,
 "nbformat_minor": 4
}
